{
  "nbformat": 4,
  "nbformat_minor": 0,
  "metadata": {
    "colab": {
      "provenance": []
    },
    "kernelspec": {
      "name": "python3",
      "display_name": "Python 3"
    },
    "language_info": {
      "name": "python"
    }
  },
  "cells": [
    {
      "cell_type": "code",
      "execution_count": null,
      "metadata": {
        "id": "GImfIwar00mZ"
      },
      "outputs": [],
      "source": [
        "# plain english\n",
        "# variables, values, data types, loops, functions, classes\n",
        "\n",
        "\n",
        "# variables and values\n",
        "# variabels : containers : store the values :\n",
        "\n",
        "\n",
        "a = 1\n"
      ]
    },
    {
      "cell_type": "code",
      "source": [
        "# python\n",
        "\n",
        "# open source\n",
        "\n",
        "# plain english, website,app, ML,AI\n",
        "\n",
        "# python : variables, values, data types, loops, functions, classes, libraries\n",
        "\n",
        "\n",
        "# variable : container which stores the value\n",
        "\n",
        "# execute / run the cell : shift + enter\n",
        "\n",
        "# syntax : show the output of an expression : print\n",
        "\n",
        "# python : case sensitive language : p not equal to P\n",
        "\n",
        "# function : highlighted : system defined function() : lowercase\n",
        "\n",
        "# () : parentheses\n",
        "\n",
        "# functions : user defined function , system defined"
      ],
      "metadata": {
        "id": "qISK4QoLN1Rd"
      },
      "execution_count": null,
      "outputs": []
    },
    {
      "cell_type": "code",
      "source": [
        "# this code prints the value of a\n",
        "a = 1\n",
        "print(a)\n",
        "\n",
        "# comment ; does not execute,\n",
        "# comment : documentation\n"
      ],
      "metadata": {
        "colab": {
          "base_uri": "https://localhost:8080/"
        },
        "id": "aPwVrN-iN1Up",
        "outputId": "1fae3d87-aadd-4e3e-d34c-cd5808cdf3e1"
      },
      "execution_count": null,
      "outputs": [
        {
          "output_type": "stream",
          "name": "stdout",
          "text": [
            "1\n"
          ]
        }
      ]
    },
    {
      "cell_type": "code",
      "source": [
        "x = 2\n",
        "y = 3\n",
        "\n",
        "print(x)\n",
        "print(y)"
      ],
      "metadata": {
        "colab": {
          "base_uri": "https://localhost:8080/"
        },
        "id": "c-8MwzOfN1Xp",
        "outputId": "52145424-131d-4e74-c8be-7bfaeb4ba497"
      },
      "execution_count": null,
      "outputs": [
        {
          "output_type": "stream",
          "name": "stdout",
          "text": [
            "2\n",
            "3\n"
          ]
        }
      ]
    },
    {
      "cell_type": "code",
      "source": [
        "# basic arithmeic operations\n",
        "a = 10\n",
        "b = 10\n",
        "\n",
        "\n",
        "print(a+b)\n",
        "print(a-b)\n",
        "print(a*b) #multiplication\n",
        "print(a/b) # division with decimal\n",
        "print(a//b) # division with round off\n",
        "\n"
      ],
      "metadata": {
        "colab": {
          "base_uri": "https://localhost:8080/"
        },
        "id": "0q-joV7MN1aw",
        "outputId": "fa1a2fc0-89d5-4eb8-80b4-8104fd385ffb"
      },
      "execution_count": null,
      "outputs": [
        {
          "output_type": "stream",
          "name": "stdout",
          "text": [
            "20\n",
            "0\n",
            "100\n",
            "1.0\n",
            "1\n"
          ]
        }
      ]
    },
    {
      "cell_type": "code",
      "source": [
        "number = 20\n",
        "\n",
        "print(number**2) # to the power of 2 : square\n",
        "print(number**3) # to the power of 3 : cube"
      ],
      "metadata": {
        "colab": {
          "base_uri": "https://localhost:8080/"
        },
        "id": "Zv0_AiEzN1d3",
        "outputId": "585d3bd7-3f2b-4778-a149-799f524aa5aa"
      },
      "execution_count": null,
      "outputs": [
        {
          "output_type": "stream",
          "name": "stdout",
          "text": [
            "400\n",
            "8000\n"
          ]
        }
      ]
    },
    {
      "cell_type": "code",
      "source": [
        "a,b,c,d = 10,20,30,40\n",
        "print(a,b,c,d) # alternate way"
      ],
      "metadata": {
        "colab": {
          "base_uri": "https://localhost:8080/"
        },
        "id": "4OA1fbV1N1gv",
        "outputId": "e50272c2-62dc-41ae-c45b-deb087659690"
      },
      "execution_count": null,
      "outputs": [
        {
          "output_type": "stream",
          "name": "stdout",
          "text": [
            "10 20 30 40\n"
          ]
        }
      ]
    },
    {
      "cell_type": "code",
      "source": [],
      "metadata": {
        "id": "hX7lnv7NSm43"
      },
      "execution_count": null,
      "outputs": []
    },
    {
      "cell_type": "code",
      "source": [],
      "metadata": {
        "id": "3KDbBEhXSm9d"
      },
      "execution_count": null,
      "outputs": []
    },
    {
      "cell_type": "code",
      "source": [],
      "metadata": {
        "id": "DWXiVxlOSnAw"
      },
      "execution_count": null,
      "outputs": []
    },
    {
      "cell_type": "code",
      "source": [],
      "metadata": {
        "id": "ULQr2ZSgN1j3"
      },
      "execution_count": null,
      "outputs": []
    },
    {
      "cell_type": "code",
      "source": [],
      "metadata": {
        "id": "L5gu3GFaJhmc"
      },
      "execution_count": null,
      "outputs": []
    },
    {
      "cell_type": "code",
      "source": [],
      "metadata": {
        "id": "pEFMmUYrJiL-"
      },
      "execution_count": null,
      "outputs": []
    },
    {
      "cell_type": "code",
      "source": [],
      "metadata": {
        "id": "chWwMC0AWv9W"
      },
      "execution_count": null,
      "outputs": []
    },
    {
      "cell_type": "code",
      "source": [
        "# variables and values\n",
        "# variables are containers that store the value\n",
        "\n",
        "# execute/run the cell : shift+enter\n",
        "# to check the output : print statement\n",
        "# function/statement : lowercase and highlighted : system defined function\\\n",
        "# python : sys defined func : end with () : parentheses\n",
        "#sys_defined_func()\n",
        "\n",
        "# python is a case sensitive language\n",
        "# a A are not same\n",
        "# print\n",
        "\n",
        "a = 1\n",
        "print(a)"
      ],
      "metadata": {
        "colab": {
          "base_uri": "https://localhost:8080/"
        },
        "id": "uD45T0AhWwAG",
        "outputId": "37e48c93-4512-4113-dbc9-409820482fca"
      },
      "execution_count": null,
      "outputs": [
        {
          "output_type": "stream",
          "name": "stdout",
          "text": [
            "1\n"
          ]
        }
      ]
    },
    {
      "cell_type": "code",
      "source": [
        "# this cell prints all variables at once\n",
        "\n",
        "a = 1\n",
        "b = 2\n",
        "c = 3\n",
        "d = 4\n",
        "\n",
        "print(a)\n",
        "print(b)\n",
        "print(c)\n",
        "print(d)"
      ],
      "metadata": {
        "colab": {
          "base_uri": "https://localhost:8080/"
        },
        "id": "mo7Ndq0hWwCu",
        "outputId": "c773261a-074d-44ff-b6b9-a0c7bf5843a7"
      },
      "execution_count": null,
      "outputs": [
        {
          "output_type": "stream",
          "name": "stdout",
          "text": [
            "1\n",
            "2\n",
            "3\n",
            "4\n"
          ]
        }
      ]
    },
    {
      "cell_type": "code",
      "source": [
        "# alternate way to define variables\n",
        "\n",
        "a,b,c,d = 1,2,3,4\n",
        "\n",
        "print(a)\n",
        "print(b)\n",
        "print(c)\n",
        "print(d)"
      ],
      "metadata": {
        "colab": {
          "base_uri": "https://localhost:8080/"
        },
        "id": "uArshE2OYvH_",
        "outputId": "ee9e5e03-9a83-41f9-cb02-5f26cc43bed5"
      },
      "execution_count": null,
      "outputs": [
        {
          "output_type": "stream",
          "name": "stdout",
          "text": [
            "1\n",
            "2\n",
            "3\n",
            "4\n"
          ]
        }
      ]
    },
    {
      "cell_type": "code",
      "source": [
        "# addition\n",
        "\n",
        "a = 10\n",
        "b = 20\n",
        "print(a+b)\n",
        "\n",
        "# subtration\n",
        "x = 10\n",
        "y = 9\n",
        "print(x-y)\n",
        "\n",
        "# multiplication *\n",
        "m = 10\n",
        "n = 10\n",
        "print(m*n)\n",
        "\n",
        "# division : 1.0\n",
        "d = 10\n",
        "e = 2\n",
        "print(d/e)\n",
        "\n",
        "# division : 2.0\n",
        "w = 10\n",
        "x = 2\n",
        "print(w//x)\n",
        "\n",
        "# to the power of (square,cube) : **\n",
        "t = 10\n",
        "print(t**2) # sqaure of t\n",
        "print(t**3)\n",
        "\n"
      ],
      "metadata": {
        "colab": {
          "base_uri": "https://localhost:8080/"
        },
        "id": "shsAPMg7YvK6",
        "outputId": "5889b059-436f-42a5-fef7-84fe4ebc5f55"
      },
      "execution_count": null,
      "outputs": [
        {
          "output_type": "stream",
          "name": "stdout",
          "text": [
            "30\n",
            "1\n",
            "100\n",
            "5.0\n",
            "5\n",
            "100\n",
            "1000\n"
          ]
        }
      ]
    },
    {
      "cell_type": "code",
      "source": [
        "# to find square root\n",
        "number = 16\n",
        "sqrt = number ** 0.5\n",
        "print(sqrt)"
      ],
      "metadata": {
        "colab": {
          "base_uri": "https://localhost:8080/"
        },
        "id": "p9AKICHfYvNi",
        "outputId": "9f8444f0-194e-4498-a8b1-2eb0ccb21d10"
      },
      "execution_count": null,
      "outputs": [
        {
          "output_type": "stream",
          "name": "stdout",
          "text": [
            "4.0\n"
          ]
        }
      ]
    },
    {
      "cell_type": "code",
      "source": [
        "# syntax for using module/library : import <library_name>\n",
        "import math # using math module\n",
        "math.sqrt(200)"
      ],
      "metadata": {
        "colab": {
          "base_uri": "https://localhost:8080/"
        },
        "id": "vxkljET9YvQC",
        "outputId": "881ec82e-81b5-4a70-b1d0-c20d9e8ebdd6"
      },
      "execution_count": null,
      "outputs": [
        {
          "output_type": "execute_result",
          "data": {
            "text/plain": [
              "14.142135623730951"
            ]
          },
          "metadata": {},
          "execution_count": 14
        }
      ]
    },
    {
      "cell_type": "code",
      "source": [
        "# how to name variables\n",
        "# variable_name : snake casing\n",
        "# camelCasing\n",
        "\n",
        "stock_price = 90\n",
        "print(stock_price)\n",
        "\n",
        "stockPrice = 100 # this is camel casing\n",
        "print(stockPrice)\n"
      ],
      "metadata": {
        "id": "zjQjax40YvSw",
        "colab": {
          "base_uri": "https://localhost:8080/"
        },
        "outputId": "08c8f869-c398-4fea-8b09-04f44b803b65"
      },
      "execution_count": null,
      "outputs": [
        {
          "output_type": "stream",
          "name": "stdout",
          "text": [
            "90\n",
            "100\n"
          ]
        }
      ]
    },
    {
      "cell_type": "code",
      "source": [
        "# data : stored : numerical or textual (categorical or string data)\n",
        "\n",
        "# numerical data : int(whole number : 23,24,5323) and float(decimal number :89.70, 89.123)\n",
        "# textual data : string data : \" \" or ' '\n",
        "# datatype : variable : type() : system defined function() : lowercase"
      ],
      "metadata": {
        "id": "DhaEjfyNTQG2"
      },
      "execution_count": null,
      "outputs": []
    },
    {
      "cell_type": "code",
      "source": [
        "num = 20\n",
        "print(num)\n",
        "print(type(num))\n",
        "\n",
        "num1 = 20.09\n",
        "print(num1)\n",
        "print(type(num1))\n",
        "\n",
        "\n",
        "name = 'Chirantan'\n",
        "print(name)\n",
        "print(type(name))"
      ],
      "metadata": {
        "colab": {
          "base_uri": "https://localhost:8080/"
        },
        "id": "WkMIJs0KTQKE",
        "outputId": "e7b9a521-9b7e-4164-deb4-97a2a7677883"
      },
      "execution_count": null,
      "outputs": [
        {
          "output_type": "stream",
          "name": "stdout",
          "text": [
            "20\n",
            "<class 'int'>\n",
            "20.09\n",
            "<class 'float'>\n",
            "Chirantan\n",
            "<class 'str'>\n"
          ]
        }
      ]
    },
    {
      "cell_type": "code",
      "source": [
        "price = \"89.97\"\n",
        "# antyhing that goes inside \"\" will be treated categorical/string/textual data by python\n",
        "print(type(price))\n",
        "\n",
        "# data types: int, float and str"
      ],
      "metadata": {
        "id": "yNUq3efuWwFY",
        "colab": {
          "base_uri": "https://localhost:8080/"
        },
        "outputId": "eb608a7a-c35d-4d79-f3be-4a1bf6c7e628"
      },
      "execution_count": null,
      "outputs": [
        {
          "output_type": "stream",
          "name": "stdout",
          "text": [
            "<class 'str'>\n"
          ]
        }
      ]
    },
    {
      "cell_type": "code",
      "source": [
        "# = and ==\n",
        "\n",
        "# when you want to define value : =\n",
        "# to check the condition : ==\n",
        "\n",
        "a = 1\n",
        "print(a)\n",
        "\n",
        "x = 10\n",
        "print(x == 10) # is x really equal to 10 ?a"
      ],
      "metadata": {
        "colab": {
          "base_uri": "https://localhost:8080/"
        },
        "id": "XVeHi0xAYfhh",
        "outputId": "551d8f90-77eb-40d6-9791-81d86cab684f"
      },
      "execution_count": null,
      "outputs": [
        {
          "output_type": "stream",
          "name": "stdout",
          "text": [
            "1\n",
            "True\n"
          ]
        }
      ]
    },
    {
      "cell_type": "code",
      "source": [
        "a = 10\n",
        "b = 20\n",
        "# print(\"whatever you want to print here\",epxression)\n",
        "\n",
        "\n",
        "print(\"The addition of a and b is:\",a+b)\n"
      ],
      "metadata": {
        "colab": {
          "base_uri": "https://localhost:8080/"
        },
        "id": "2tb5VNUgYfkq",
        "outputId": "909f78d7-f68f-4be5-e7ee-8c73d68284f7"
      },
      "execution_count": null,
      "outputs": [
        {
          "output_type": "stream",
          "name": "stdout",
          "text": [
            "The addition of a and b is: 30\n"
          ]
        }
      ]
    },
    {
      "cell_type": "code",
      "source": [
        "x = 20\n",
        "y = 30\n",
        "z = 40\n",
        "\n",
        "print(\"The value of x is\", x)\n",
        "\n",
        "print(\"The value of y is\", y)\n",
        "\n",
        "print(\"The value of z is\", z)"
      ],
      "metadata": {
        "colab": {
          "base_uri": "https://localhost:8080/"
        },
        "id": "30-8_jNZa_Lg",
        "outputId": "712d15a9-d2db-4f97-a893-c02e74f6a44a"
      },
      "execution_count": null,
      "outputs": [
        {
          "output_type": "stream",
          "name": "stdout",
          "text": [
            "The value of x is 20\n",
            "The value of y is 30\n",
            "The value of z is 40\n"
          ]
        }
      ]
    },
    {
      "cell_type": "code",
      "source": [],
      "metadata": {
        "id": "a4kLpT6xa_Qm"
      },
      "execution_count": null,
      "outputs": []
    },
    {
      "cell_type": "code",
      "source": [],
      "metadata": {
        "id": "-4IlY7tNa_UK"
      },
      "execution_count": null,
      "outputs": []
    },
    {
      "cell_type": "code",
      "source": [],
      "metadata": {
        "id": "4WYujlBcWwIX"
      },
      "execution_count": null,
      "outputs": []
    },
    {
      "cell_type": "code",
      "source": [],
      "metadata": {
        "id": "Az3mp0rAWwLb"
      },
      "execution_count": null,
      "outputs": []
    },
    {
      "cell_type": "code",
      "source": [
        "# round brackets are called as parentheses\n",
        "# function is highlighted : system defined function has to end with ()\n",
        "# system defined function()\n",
        "# system defined functions  are case sensitive\n",
        "# lowercase\n",
        "# print() as Print() or print ()\n",
        "# how to execute/rn :press shift + enter\n",
        "# commenting the code : documentation : what does this code do ?"
      ],
      "metadata": {
        "id": "trhPgX4kLa0J"
      },
      "execution_count": null,
      "outputs": []
    },
    {
      "cell_type": "code",
      "source": [
        "x = 1\n",
        "print(x)"
      ],
      "metadata": {
        "colab": {
          "base_uri": "https://localhost:8080/"
        },
        "id": "-0F5A7twLa23",
        "outputId": "889a23c9-98ca-4473-88ae-d7f8319acf3d"
      },
      "execution_count": null,
      "outputs": [
        {
          "output_type": "stream",
          "name": "stdout",
          "text": [
            "1\n"
          ]
        }
      ]
    },
    {
      "cell_type": "code",
      "source": [
        "a = 10\n",
        "b = 20\n",
        "c = 30\n",
        "d = 40\n",
        "\n",
        "print(a)\n",
        "print(b)\n",
        "print(c)\n",
        "print(d)"
      ],
      "metadata": {
        "colab": {
          "base_uri": "https://localhost:8080/"
        },
        "id": "atveNdhZLa9A",
        "outputId": "608ad923-912b-48a8-a884-39d783864318"
      },
      "execution_count": null,
      "outputs": [
        {
          "output_type": "stream",
          "name": "stdout",
          "text": [
            "10\n",
            "20\n",
            "30\n",
            "40\n"
          ]
        }
      ]
    },
    {
      "cell_type": "code",
      "source": [
        "a,b,c,d = 10,20,30,40\n",
        "\n",
        "print(a)\n",
        "print(b)\n",
        "print(c)\n",
        "print(d)"
      ],
      "metadata": {
        "colab": {
          "base_uri": "https://localhost:8080/"
        },
        "id": "awq7-fvVLa_g",
        "outputId": "5821eb8c-f366-4247-d7cd-c3499eb86153"
      },
      "execution_count": null,
      "outputs": [
        {
          "output_type": "stream",
          "name": "stdout",
          "text": [
            "10\n",
            "20\n",
            "30\n",
            "40\n"
          ]
        }
      ]
    },
    {
      "cell_type": "code",
      "source": [
        "m = 20\n",
        "n = 50\n",
        "\n",
        "print(m+n) # addtion\n",
        "print(m-n) # subtraction\n",
        "print(m*n) # multiplication\n",
        "print(m/n) # division type 1\n",
        "print(m//n) # division type 2\n",
        "print(m**2) # m to the power of 2\n",
        "print(n**3) # n to the power of 3"
      ],
      "metadata": {
        "colab": {
          "base_uri": "https://localhost:8080/"
        },
        "id": "slkj-3LtO17b",
        "outputId": "69172eed-0ac8-47aa-ee05-b43f02683be4"
      },
      "execution_count": null,
      "outputs": [
        {
          "output_type": "stream",
          "name": "stdout",
          "text": [
            "70\n",
            "-30\n",
            "1000\n",
            "0.4\n",
            "0\n",
            "400\n",
            "125000\n"
          ]
        }
      ]
    },
    {
      "cell_type": "code",
      "source": [
        "# how to name the variables\n",
        "# _\n",
        "# camelCasing"
      ],
      "metadata": {
        "id": "6HoC6VmuRiKb"
      },
      "execution_count": null,
      "outputs": []
    },
    {
      "cell_type": "code",
      "source": [
        "stock_price = 30\n",
        "print(stock_price)\n",
        "\n",
        "# camel casing\n",
        "stockPrice = 50\n",
        "print(stockPrice)"
      ],
      "metadata": {
        "colab": {
          "base_uri": "https://localhost:8080/"
        },
        "id": "-jE4y8KFO1-M",
        "outputId": "81f70856-b48f-4868-d4cc-6ae60e0f06e1"
      },
      "execution_count": null,
      "outputs": [
        {
          "output_type": "stream",
          "name": "stdout",
          "text": [
            "30\n",
            "50\n"
          ]
        }
      ]
    },
    {
      "cell_type": "code",
      "source": [],
      "metadata": {
        "id": "w3qGx7ELO2Ao"
      },
      "execution_count": null,
      "outputs": []
    },
    {
      "cell_type": "code",
      "source": [
        "# variables and values\n",
        "# variable : containers that store values\n",
        "\n",
        "# for example\n",
        "\n",
        "a = 10\n",
        "print(a)\n",
        "\n",
        "# in order to execute/run the cell : press shift+enter\n",
        "\n",
        "# python : case sensitive language\n",
        "# p and P are different\n",
        "# print is a function , lowercase\n",
        "# print()\n",
        "# every function in python has round brackets asscoiated with it\n",
        "# round brackets are called as \"parentheses\"\n",
        "# no space : between print and () : function_name()\n",
        "# function names are highlited : they are called as \"system defined functions\"\n",
        "# they have to be defined as it is\n",
        "# cannot write Print(a)\n",
        "\n",
        "\n",
        "# python\n",
        "# commenting the code : documentation"
      ],
      "metadata": {
        "colab": {
          "base_uri": "https://localhost:8080/"
        },
        "id": "QikLPnsSxVkJ",
        "outputId": "50032c75-9180-439a-bf0d-ca8e9b7ec16a"
      },
      "execution_count": null,
      "outputs": [
        {
          "output_type": "stream",
          "name": "stdout",
          "text": [
            "10\n"
          ]
        }
      ]
    },
    {
      "cell_type": "code",
      "source": [
        "x = 19\n",
        "x"
      ],
      "metadata": {
        "colab": {
          "base_uri": "https://localhost:8080/"
        },
        "id": "xMMvSLtg2FkQ",
        "outputId": "bd78baee-819b-467c-886b-1dfc0e1cb53e"
      },
      "execution_count": null,
      "outputs": [
        {
          "output_type": "execute_result",
          "data": {
            "text/plain": [
              "19"
            ]
          },
          "metadata": {},
          "execution_count": 7
        }
      ]
    },
    {
      "cell_type": "code",
      "source": [
        "a = 10\n",
        "b = 20\n",
        "c = 30\n",
        "d = 40\n",
        "print(a)\n",
        "print(b)\n",
        "print(c)\n",
        "print(d)\n"
      ],
      "metadata": {
        "colab": {
          "base_uri": "https://localhost:8080/"
        },
        "id": "lcWaimxUyQfY",
        "outputId": "2d981ddc-b5a4-4b5d-94a2-bb5b4ad5d866"
      },
      "execution_count": null,
      "outputs": [
        {
          "output_type": "stream",
          "name": "stdout",
          "text": [
            "10\n",
            "20\n",
            "30\n",
            "40\n"
          ]
        }
      ]
    },
    {
      "cell_type": "code",
      "source": [
        "x1,x2,x3 = 56,57,58\n",
        "# alternate way to print\n",
        "print(x1,x2,x3)\n"
      ],
      "metadata": {
        "colab": {
          "base_uri": "https://localhost:8080/"
        },
        "id": "No2YVxkNxVm0",
        "outputId": "43249756-db32-4423-9d1f-f34f0b6374ed"
      },
      "execution_count": null,
      "outputs": [
        {
          "output_type": "stream",
          "name": "stdout",
          "text": [
            "56 57 58\n"
          ]
        }
      ]
    },
    {
      "cell_type": "code",
      "source": [
        "# mathematical operations\n",
        "\n",
        "# addition\n",
        "a1 = 190\n",
        "a2 = 198\n",
        "print(a1+a2)\n",
        "\n",
        "# substraction\n",
        "s1 = 30\n",
        "s2 = 12\n",
        "print(s1-s2)\n",
        "\n",
        "#multiplication\n",
        "m1 = 10\n",
        "m2 = 30\n",
        "print(m1*m2)\n",
        "\n",
        "# division\n",
        "\n",
        "d1 = 100\n",
        "d2 = 10\n",
        "print(d1/d2) # used when you dont want rounded off values\n",
        "# when decimal values are important , then prfer d1/d2\n",
        "\n",
        "print(d1//d2)\n",
        "# this can be used when decimal values are not that important"
      ],
      "metadata": {
        "colab": {
          "base_uri": "https://localhost:8080/"
        },
        "id": "1uyspx3Q2v4C",
        "outputId": "05e3f3ba-147f-43e1-cb9f-37e334742ecc"
      },
      "execution_count": null,
      "outputs": [
        {
          "output_type": "stream",
          "name": "stdout",
          "text": [
            "388\n",
            "18\n",
            "300\n",
            "10.0\n",
            "10\n"
          ]
        }
      ]
    },
    {
      "cell_type": "code",
      "source": [
        "a =  3\n",
        "print(a**2)\n",
        "# ** to the power of\n",
        "\n",
        "b = 9\n",
        "print(b**3)\n",
        "\n",
        "c = 78\n",
        "print(c**4)\n"
      ],
      "metadata": {
        "colab": {
          "base_uri": "https://localhost:8080/"
        },
        "id": "7PSXh53c2v6n",
        "outputId": "3b2065a4-04af-48c5-e84a-84f3792e2544"
      },
      "execution_count": null,
      "outputs": [
        {
          "output_type": "stream",
          "name": "stdout",
          "text": [
            "9\n",
            "729\n",
            "37015056\n"
          ]
        }
      ]
    },
    {
      "cell_type": "code",
      "source": [
        "# data types\n",
        "# data : numerical or categorical/textual\n",
        "# numerical : age, weight, stock price,GDP\n",
        "# categorical/textual/string : address,city,name,colour\n",
        "\n",
        "# numerical : integer : int (whole number - 89,901,1234) and float (decimal:8.9,9.80)\n",
        "# categorical/string : \"name\" or 'address'\n",
        "# type() : to check the datatype\n",
        "# print(type())\n",
        "\n",
        "a = 10\n",
        "print(a)\n",
        "print(type(a))\n",
        "\n",
        "b = 20.09\n",
        "print(b)\n",
        "print(type(b))\n",
        "\n",
        "c = 'Mumbai'\n",
        "print(c)\n",
        "print(type(c))\n",
        "\n",
        "d = \"19.80\"\n",
        "# anyhting that goes inside \" \" is treated as string/textual data\n",
        "print(d)\n",
        "print(type(d))"
      ],
      "metadata": {
        "colab": {
          "base_uri": "https://localhost:8080/"
        },
        "id": "Ov8pX7VFdNNG",
        "outputId": "7f144960-f2da-4b89-8ca1-5f64a24ec4e8"
      },
      "execution_count": null,
      "outputs": [
        {
          "output_type": "stream",
          "name": "stdout",
          "text": [
            "10\n",
            "<class 'int'>\n",
            "20.09\n",
            "<class 'float'>\n",
            "Mumbai\n",
            "<class 'str'>\n",
            "19.80\n",
            "<class 'str'>\n"
          ]
        }
      ]
    },
    {
      "cell_type": "code",
      "source": [
        "x = \"Mumbai\"\n",
        "y = 10\n",
        "print(x+y)\n",
        "\n",
        "# an integer and a string cannot be added"
      ],
      "metadata": {
        "colab": {
          "base_uri": "https://localhost:8080/",
          "height": 180
        },
        "id": "A1_gJwELdNy4",
        "outputId": "edb5da18-5874-4a03-d3b8-2adf00e8b73c"
      },
      "execution_count": null,
      "outputs": [
        {
          "output_type": "error",
          "ename": "TypeError",
          "evalue": "can only concatenate str (not \"int\") to str",
          "traceback": [
            "\u001b[0;31m---------------------------------------------------------------------------\u001b[0m",
            "\u001b[0;31mTypeError\u001b[0m                                 Traceback (most recent call last)",
            "\u001b[0;32m<ipython-input-26-ce088a9f48b2>\u001b[0m in \u001b[0;36m<cell line: 3>\u001b[0;34m()\u001b[0m\n\u001b[1;32m      1\u001b[0m \u001b[0mx\u001b[0m \u001b[0;34m=\u001b[0m \u001b[0;34m\"Mumbai\"\u001b[0m\u001b[0;34m\u001b[0m\u001b[0;34m\u001b[0m\u001b[0m\n\u001b[1;32m      2\u001b[0m \u001b[0my\u001b[0m \u001b[0;34m=\u001b[0m \u001b[0;36m10\u001b[0m\u001b[0;34m\u001b[0m\u001b[0;34m\u001b[0m\u001b[0m\n\u001b[0;32m----> 3\u001b[0;31m \u001b[0mprint\u001b[0m\u001b[0;34m(\u001b[0m\u001b[0mx\u001b[0m\u001b[0;34m+\u001b[0m\u001b[0my\u001b[0m\u001b[0;34m)\u001b[0m\u001b[0;34m\u001b[0m\u001b[0;34m\u001b[0m\u001b[0m\n\u001b[0m",
            "\u001b[0;31mTypeError\u001b[0m: can only concatenate str (not \"int\") to str"
          ]
        }
      ]
    },
    {
      "cell_type": "code",
      "source": [
        "x = \"Mumbai\"\n",
        "y = 10\n",
        "print(x*y)\n",
        "\n",
        "# str and int can be multiplied,but cannot be added"
      ],
      "metadata": {
        "colab": {
          "base_uri": "https://localhost:8080/"
        },
        "id": "Vtvay31mgqSf",
        "outputId": "b7ac643d-fceb-4f07-86c6-767a5abe1a04"
      },
      "execution_count": null,
      "outputs": [
        {
          "output_type": "stream",
          "name": "stdout",
          "text": [
            "MumbaiMumbaiMumbaiMumbaiMumbaiMumbaiMumbaiMumbaiMumbaiMumbai\n"
          ]
        }
      ]
    },
    {
      "cell_type": "code",
      "source": [
        "a1 = \"Starbucks\"\n",
        "a2 = \"Seattle\"\n",
        "print(a1+ \" \"+ a2)\n",
        "# space is a special char \" \"\n"
      ],
      "metadata": {
        "colab": {
          "base_uri": "https://localhost:8080/"
        },
        "id": "C7GvQAWogqXm",
        "outputId": "d9c93f3d-ce85-474f-cf1f-7818a869c668"
      },
      "execution_count": null,
      "outputs": [
        {
          "output_type": "stream",
          "name": "stdout",
          "text": [
            "Starbucks Seattle\n"
          ]
        }
      ]
    },
    {
      "cell_type": "code",
      "source": [
        "# customized output\n",
        "a = 10\n",
        "b = 20\n",
        "print(\"Addition of 2 numbers is :\",a+b)\n",
        "print(\"Subtraction of 2 numbers is :\",a-b)\n",
        "print(\"Multiplication of 2 numbers is :\",a*b)"
      ],
      "metadata": {
        "colab": {
          "base_uri": "https://localhost:8080/"
        },
        "id": "ClTH7A07gqer",
        "outputId": "9e31eb1e-9198-42f7-e73b-dbcefff93cef"
      },
      "execution_count": null,
      "outputs": [
        {
          "output_type": "stream",
          "name": "stdout",
          "text": [
            "Addition of 2 numbers is : 30\n",
            "Subtraction of 2 numbers is : -10\n",
            "Multiplication of 2 numbers is : 200\n"
          ]
        }
      ]
    },
    {
      "cell_type": "code",
      "source": [
        "name = \"Chirantan\"\n",
        "age = 30\n",
        "City = \"Hyderabad\"\n",
        "print(\"My name is \",name,\"and my age is\",age,\"and I live in\",City)\n"
      ],
      "metadata": {
        "colab": {
          "base_uri": "https://localhost:8080/"
        },
        "id": "vQTo1tLogqhf",
        "outputId": "3cc0606d-f3ee-4edf-f3d2-bdd265e94873"
      },
      "execution_count": null,
      "outputs": [
        {
          "output_type": "stream",
          "name": "stdout",
          "text": [
            "My name is  Chirantan and my age is \n",
            " 30 and I live in Hyderabad\n"
          ]
        }
      ]
    },
    {
      "cell_type": "code",
      "source": [
        "# Cutomized Output and next sentence in different line\n",
        "a = \"My Name is Saroj Kumar Sahoo,\"\n",
        "b = \"I work with HPE\"\n",
        "print(a + \"\\n\"+ b)"
      ],
      "metadata": {
        "colab": {
          "base_uri": "https://localhost:8080/"
        },
        "id": "nBZPkXi2kz5d",
        "outputId": "0d361a23-9ac7-46b1-9d1f-e3c511a454fe"
      },
      "execution_count": null,
      "outputs": [
        {
          "output_type": "stream",
          "name": "stdout",
          "text": [
            "My Name is Saroj Kumar Sahoo,\n",
            "I work with HPE\n"
          ]
        }
      ]
    },
    {
      "cell_type": "code",
      "source": [
        "x = 20\n",
        "y = 30\n",
        "print(x+y)\n",
        "\n",
        "# you can add int to int or int to float or float to int\n",
        "# but you cannot add str to int"
      ],
      "metadata": {
        "colab": {
          "base_uri": "https://localhost:8080/"
        },
        "id": "nrz98FJ8dPRg",
        "outputId": "6f9bc622-8b70-4a7d-84d2-6f74e1b31d8f"
      },
      "execution_count": null,
      "outputs": [
        {
          "output_type": "stream",
          "name": "stdout",
          "text": [
            "50\n"
          ]
        }
      ]
    },
    {
      "cell_type": "code",
      "source": [
        "name = \"Amit\"\n",
        "age = 28\n",
        "# you cannot add str to int\n",
        "print(name+age)"
      ],
      "metadata": {
        "colab": {
          "base_uri": "https://localhost:8080/",
          "height": 180
        },
        "id": "vqYrZz7KdQBN",
        "outputId": "7ccf980d-4fb7-4923-eb55-32f73e574f3a"
      },
      "execution_count": null,
      "outputs": [
        {
          "output_type": "error",
          "ename": "TypeError",
          "evalue": "can only concatenate str (not \"int\") to str",
          "traceback": [
            "\u001b[0;31m---------------------------------------------------------------------------\u001b[0m",
            "\u001b[0;31mTypeError\u001b[0m                                 Traceback (most recent call last)",
            "\u001b[0;32m<ipython-input-35-dc2a03f19321>\u001b[0m in \u001b[0;36m<cell line: 4>\u001b[0;34m()\u001b[0m\n\u001b[1;32m      2\u001b[0m \u001b[0mage\u001b[0m \u001b[0;34m=\u001b[0m \u001b[0;36m28\u001b[0m\u001b[0;34m\u001b[0m\u001b[0;34m\u001b[0m\u001b[0m\n\u001b[1;32m      3\u001b[0m \u001b[0;34m\u001b[0m\u001b[0m\n\u001b[0;32m----> 4\u001b[0;31m \u001b[0mprint\u001b[0m\u001b[0;34m(\u001b[0m\u001b[0mname\u001b[0m\u001b[0;34m+\u001b[0m\u001b[0mage\u001b[0m\u001b[0;34m)\u001b[0m\u001b[0;34m\u001b[0m\u001b[0;34m\u001b[0m\u001b[0m\n\u001b[0m",
            "\u001b[0;31mTypeError\u001b[0m: can only concatenate str (not \"int\") to str"
          ]
        }
      ]
    },
    {
      "cell_type": "code",
      "source": [
        "name = \"Amit\"\n",
        "x = 2\n",
        "\n",
        "# str can be multiplied with int, but cannot be added\n",
        "print(name * x)"
      ],
      "metadata": {
        "colab": {
          "base_uri": "https://localhost:8080/"
        },
        "id": "BlwJmZKndQFc",
        "outputId": "ef8d870c-ec79-4047-94dc-dd4fd88da323"
      },
      "execution_count": null,
      "outputs": [
        {
          "output_type": "stream",
          "name": "stdout",
          "text": [
            "AmitAmit\n"
          ]
        }
      ]
    },
    {
      "cell_type": "code",
      "source": [
        "name = \"Chirantan\"\n",
        "city =\"Mumbai\"\n",
        "age = 31\n",
        "\n",
        "print(name)\n",
        "print('\\n') # adds a new line\n",
        "print(city)\n",
        "print('\\n') # adds a new line\n",
        "print(age)"
      ],
      "metadata": {
        "colab": {
          "base_uri": "https://localhost:8080/"
        },
        "id": "J_8g5TANdPU0",
        "outputId": "655ab1d6-e7b8-438e-d239-6bce9ffa77f1"
      },
      "execution_count": null,
      "outputs": [
        {
          "output_type": "stream",
          "name": "stdout",
          "text": [
            "Chirantan\n",
            "\n",
            "\n",
            "Mumbai\n",
            "\n",
            "\n",
            "31\n"
          ]
        }
      ]
    },
    {
      "cell_type": "code",
      "source": [
        "name = \"Chirantan\"\n",
        "city =\"Mumbai\"\n",
        "age = 31\n",
        "\n",
        "print(\"My name is \", name, \".I live in\",city,\"and my age is\", age)"
      ],
      "metadata": {
        "colab": {
          "base_uri": "https://localhost:8080/"
        },
        "id": "BvdHiR15dPYQ",
        "outputId": "b0dd4488-23a4-477c-c939-f9c02ad756cb"
      },
      "execution_count": null,
      "outputs": [
        {
          "output_type": "stream",
          "name": "stdout",
          "text": [
            "My name is  Chirantan .I live in Mumbai and my age is 31\n"
          ]
        }
      ]
    },
    {
      "cell_type": "code",
      "source": [
        "# input function\n",
        "\n",
        "age = input(\"Enter your age here: \")\n",
        "\n",
        "print(\"Your age is :\" , age)"
      ],
      "metadata": {
        "colab": {
          "base_uri": "https://localhost:8080/"
        },
        "id": "7FE8T3nLdPbl",
        "outputId": "aed19570-8965-431a-ba1b-47321afbb1a2"
      },
      "execution_count": null,
      "outputs": [
        {
          "output_type": "stream",
          "name": "stdout",
          "text": [
            "Enter your age here: 31\n",
            "Your age is : 31\n"
          ]
        }
      ]
    },
    {
      "cell_type": "code",
      "source": [
        "name = input(\"Enter your name here: \")\n",
        "city = input(\"Enter your city here: \")\n",
        "age = input(\"Enter your age here: \")\n",
        "\n",
        "print(\"My name is \", name, \".I live in\",city,\"and my age is\", age)"
      ],
      "metadata": {
        "colab": {
          "base_uri": "https://localhost:8080/"
        },
        "id": "rHeNUogOfe_x",
        "outputId": "1a03be4f-81fd-4d05-e018-2ae296cd41eb"
      },
      "execution_count": null,
      "outputs": [
        {
          "output_type": "stream",
          "name": "stdout",
          "text": [
            "Enter your name here: Chirantan\n",
            "Enter your city here: Mumbai\n",
            "Enter your age here: 31\n",
            "My name is  Chirantan .I live in Mumbai and my age is 31\n"
          ]
        }
      ]
    },
    {
      "cell_type": "code",
      "source": [
        "price = input(\"Enter the price here : \")\n",
        "print(\"The price is :\",price)\n",
        "print(type(price))\n",
        "\n",
        "# by default, whatever you pass inside the input function : str data\n",
        "\n",
        "# so we need to convert that into int or float when dealing with numerical data"
      ],
      "metadata": {
        "colab": {
          "base_uri": "https://localhost:8080/"
        },
        "id": "WAqRfIR0ffDS",
        "outputId": "6a5211de-0aa4-400c-e882-8272df6722d5"
      },
      "execution_count": null,
      "outputs": [
        {
          "output_type": "stream",
          "name": "stdout",
          "text": [
            "Enter the price here : 35\n",
            "The price is : 35\n",
            "<class 'str'>\n"
          ]
        }
      ]
    },
    {
      "cell_type": "code",
      "source": [
        "# int()\n",
        "price = int(input(\"Enter the price here : \"))\n",
        "print(\"The price is :\",price)\n",
        "print(type(price))\n"
      ],
      "metadata": {
        "colab": {
          "base_uri": "https://localhost:8080/"
        },
        "id": "w10Dj_cTffHD",
        "outputId": "7c14cc6a-badd-47a6-ebbe-a20600d9fd46"
      },
      "execution_count": null,
      "outputs": [
        {
          "output_type": "stream",
          "name": "stdout",
          "text": [
            "Enter the price here : 35\n",
            "The price is : 35\n",
            "<class 'int'>\n"
          ]
        }
      ]
    },
    {
      "cell_type": "code",
      "source": [
        "# float\n",
        "\n",
        "temperature = float(input(\"Enter the temperature here : \"))\n",
        "print(\"The temperature is :\",temperature)\n",
        "print(type(temperature))"
      ],
      "metadata": {
        "colab": {
          "base_uri": "https://localhost:8080/"
        },
        "id": "ZmpglxHMffK2",
        "outputId": "874ab5bf-4130-41fb-b83e-73f15900f53b"
      },
      "execution_count": null,
      "outputs": [
        {
          "output_type": "stream",
          "name": "stdout",
          "text": [
            "Enter the temperature here : 23.4\n",
            "The temperature is : 23.4\n",
            "<class 'float'>\n"
          ]
        }
      ]
    },
    {
      "cell_type": "code",
      "source": [
        "number1 = int(input(\"Enter number 1 here: \"))\n",
        "number2 = int(input(\"Enter number 2 here: \"))\n",
        "number3 = int(input(\"Enter number 3 here: \"))\n",
        "\n",
        "print(number1+number2+number3)\n",
        "print(number1-number2-number3)\n",
        "print(number1*number2*number3)"
      ],
      "metadata": {
        "colab": {
          "base_uri": "https://localhost:8080/"
        },
        "id": "qC1y5E-VmlTZ",
        "outputId": "63d12524-438e-45f0-90b4-ae9103aebf23"
      },
      "execution_count": null,
      "outputs": [
        {
          "output_type": "stream",
          "name": "stdout",
          "text": [
            "Enter number 1 here: 25\n",
            "Enter number 2 here: 30\n",
            "Enter number 3 here: 40\n",
            "95\n",
            "-45\n",
            "30000\n"
          ]
        }
      ]
    },
    {
      "cell_type": "code",
      "source": [],
      "metadata": {
        "id": "vXvVsBaMmlW9"
      },
      "execution_count": null,
      "outputs": []
    },
    {
      "cell_type": "code",
      "source": [],
      "metadata": {
        "id": "SyiDd8pymla1"
      },
      "execution_count": null,
      "outputs": []
    },
    {
      "cell_type": "code",
      "source": [],
      "metadata": {
        "id": "WbQss8Q9mleM"
      },
      "execution_count": null,
      "outputs": []
    },
    {
      "cell_type": "code",
      "source": [
        "# input function\n",
        "# it takes input from the user\n",
        "# by default, it converts the input into string datatype (str)\n",
        "# in order to convert to int , int(input())\n",
        "# int() : convert to int datatype\n",
        "\n",
        "number = int(input(\"Enter the number here: \"))\n",
        "print(\"Number entered by the user is :\", number)\n",
        "print(type(number))"
      ],
      "metadata": {
        "colab": {
          "base_uri": "https://localhost:8080/"
        },
        "id": "WLFxOIqZkz_T",
        "outputId": "a47e6a0e-5c3c-4587-b088-4cbd4c72a16d"
      },
      "execution_count": null,
      "outputs": [
        {
          "output_type": "stream",
          "name": "stdout",
          "text": [
            "Enter the number here: 9\n",
            "Number entered by the user is : 9\n",
            "<class 'int'>\n"
          ]
        }
      ]
    },
    {
      "cell_type": "code",
      "source": [
        "number = float(input(\"Enter the number here: \"))\n",
        "print(\"Number entered by the user is :\", number)\n",
        "print(type(number))"
      ],
      "metadata": {
        "colab": {
          "base_uri": "https://localhost:8080/"
        },
        "id": "jmiy9L3Lo7Eg",
        "outputId": "cac89aa0-459c-4803-84f1-0b4d56199f41"
      },
      "execution_count": null,
      "outputs": [
        {
          "output_type": "stream",
          "name": "stdout",
          "text": [
            "Enter the number here: 9.8\n",
            "Number entered by the user is : 9.8\n",
            "<class 'float'>\n"
          ]
        }
      ]
    },
    {
      "cell_type": "code",
      "source": [
        "number1 = int(input(\"Enter the number 1 here: \"))\n",
        "number2 = int(input(\"Enter the number 2 here: \"))\n",
        "addition =  number1+number2\n",
        "print(\"The addition of 2 numbers is :\", addition)"
      ],
      "metadata": {
        "colab": {
          "base_uri": "https://localhost:8080/"
        },
        "id": "c0p6htkqo7HP",
        "outputId": "f4a251e3-12e6-421b-e26f-ddeeea33f390"
      },
      "execution_count": null,
      "outputs": [
        {
          "output_type": "stream",
          "name": "stdout",
          "text": [
            "Enter the number 1 here: 90\n",
            "Enter the number 2 here: 190\n",
            "The addition of 2 numbers is : 280\n"
          ]
        }
      ]
    },
    {
      "cell_type": "code",
      "source": [
        "# loops - if-else , if-elif else\n",
        "\n",
        "if condition:\n",
        "  print(condition-output) #space : indentation\n",
        "else:\n",
        "  print(output)\n"
      ],
      "metadata": {
        "id": "_tTDctLWqQiR"
      },
      "execution_count": null,
      "outputs": []
    },
    {
      "cell_type": "code",
      "source": [
        "a = 10\n",
        "\n",
        "if a == 10:\n",
        "  print(\"a is equal to 10\")\n",
        "else:\n",
        "  print(\"a is not equal to 10\")"
      ],
      "metadata": {
        "colab": {
          "base_uri": "https://localhost:8080/"
        },
        "id": "gL0HxOLyqQmF",
        "outputId": "84f33cbd-96ed-4410-bce0-0d7d08f70f9e"
      },
      "execution_count": null,
      "outputs": [
        {
          "output_type": "stream",
          "name": "stdout",
          "text": [
            "a is equal to 10\n"
          ]
        }
      ]
    },
    {
      "cell_type": "code",
      "source": [
        "a = 10\n",
        "b = 909\n",
        "\n",
        "if a+b > 100:\n",
        "  print(\"A\")\n",
        "elif a+b == 100:\n",
        "  print(\"100\")\n",
        "else:\n",
        "  print(\"B\")\n"
      ],
      "metadata": {
        "colab": {
          "base_uri": "https://localhost:8080/"
        },
        "id": "EFyJKUFOqQpj",
        "outputId": "ce7ea513-5853-44da-aba0-7837f8dd35fe"
      },
      "execution_count": null,
      "outputs": [
        {
          "output_type": "stream",
          "name": "stdout",
          "text": [
            "A\n"
          ]
        }
      ]
    },
    {
      "cell_type": "code",
      "source": [
        "number = 0\n",
        "\n",
        "if number > 0:\n",
        "  print(\"Number is positive\")\n",
        "elif number == 0: # you can define multiple elif statements between if and else\n",
        "  print(\"Number is zero\")\n",
        "else:\n",
        "  print(\"Number is negative\")"
      ],
      "metadata": {
        "id": "7BBVhK2Rgqj5",
        "colab": {
          "base_uri": "https://localhost:8080/"
        },
        "outputId": "c7fddc94-545f-4b4d-ae5d-399b4bbe5531"
      },
      "execution_count": null,
      "outputs": [
        {
          "output_type": "stream",
          "name": "stdout",
          "text": [
            "Number is zero\n"
          ]
        }
      ]
    },
    {
      "cell_type": "code",
      "source": [
        "age = int(input(\"Enter the age here: \"))\n",
        "\n",
        "if age > 18:\n",
        "  print(\"You are allowed to drive\")\n",
        "elif age == 18:\n",
        "  print(\"Show me your license.....\")\n",
        "else:\n",
        "  print(\"You are not allowed to drive\")"
      ],
      "metadata": {
        "id": "kLMbQs6-dN1e",
        "colab": {
          "base_uri": "https://localhost:8080/"
        },
        "outputId": "07aecf5b-3539-4edd-ace5-3531a0fed972"
      },
      "execution_count": null,
      "outputs": [
        {
          "output_type": "stream",
          "name": "stdout",
          "text": [
            "Enter the age here: 78\n",
            "You are allowed to drive\n"
          ]
        }
      ]
    },
    {
      "cell_type": "code",
      "source": [],
      "metadata": {
        "id": "XSpUj0WRdN4U"
      },
      "execution_count": null,
      "outputs": []
    },
    {
      "cell_type": "code",
      "source": [],
      "metadata": {
        "id": "JR8enk9AdN6y"
      },
      "execution_count": null,
      "outputs": []
    },
    {
      "cell_type": "code",
      "source": [
        "# data types\n",
        "# 2 - numerical data (age,height,weight, stock price)\n",
        "#  and\n",
        "# textual/categorical data/string data (name,address,city,country,organization)\n",
        "\n",
        "# numerical : int(integer) - ex:44,78,5678,101 and\n",
        "# float(decimal) - ex: 45.68,78.90,76.50\n",
        "\n",
        "# textual/categorical : string : str\n",
        "# \" \" or ' '\n",
        "# \"Chirantan\" or 'Chirantan'\n",
        "\n",
        "# type function\n",
        "# type function helps you understand what is the data type of that variable\n",
        "age = 23\n",
        "print(age)\n",
        "# print(type(age))\n",
        "print(type(age))\n",
        "\n",
        "weight = 89.90\n",
        "print(weight)\n",
        "print(type(weight))\n",
        "\n",
        "city = \"London\" #textual data has to be always defined in \" \" or ' '\n",
        "print(city)\n",
        "print(type(city))\n",
        "\n",
        "\n",
        "# anything that goes inside \" \" will be categorized as string data by python\n",
        "\n",
        "number = \"1234\"\n",
        "print(number)\n",
        "print(type(number))\n",
        "\n"
      ],
      "metadata": {
        "colab": {
          "base_uri": "https://localhost:8080/"
        },
        "id": "6ePlSXS-5Aqz",
        "outputId": "f86892cd-7a3c-4547-eb82-6dc026c97596"
      },
      "execution_count": null,
      "outputs": [
        {
          "output_type": "stream",
          "name": "stdout",
          "text": [
            "23\n",
            "<class 'int'>\n",
            "89.9\n",
            "<class 'float'>\n",
            "London\n",
            "<class 'str'>\n",
            "1234\n",
            "<class 'str'>\n"
          ]
        }
      ]
    },
    {
      "cell_type": "code",
      "source": [
        "a = \"Mumbai\"\n",
        "b =  \"10\"\n",
        "\n",
        "print(a*b)\n",
        "\n",
        "# addition of str and int is not possible, because of difference in data types\n",
        "# but multiplication is"
      ],
      "metadata": {
        "colab": {
          "base_uri": "https://localhost:8080/",
          "height": 216
        },
        "id": "n8Fcd624Vp8V",
        "outputId": "c33a73e9-1e4a-420b-cc14-6441239e47e9"
      },
      "execution_count": null,
      "outputs": [
        {
          "output_type": "error",
          "ename": "TypeError",
          "evalue": "can't multiply sequence by non-int of type 'str'",
          "traceback": [
            "\u001b[0;31m---------------------------------------------------------------------------\u001b[0m",
            "\u001b[0;31mTypeError\u001b[0m                                 Traceback (most recent call last)",
            "\u001b[0;32m<ipython-input-30-3f8332fedf0a>\u001b[0m in \u001b[0;36m<cell line: 4>\u001b[0;34m()\u001b[0m\n\u001b[1;32m      2\u001b[0m \u001b[0mb\u001b[0m \u001b[0;34m=\u001b[0m  \u001b[0;34m\"10\"\u001b[0m\u001b[0;34m\u001b[0m\u001b[0;34m\u001b[0m\u001b[0m\n\u001b[1;32m      3\u001b[0m \u001b[0;34m\u001b[0m\u001b[0m\n\u001b[0;32m----> 4\u001b[0;31m \u001b[0mprint\u001b[0m\u001b[0;34m(\u001b[0m\u001b[0ma\u001b[0m\u001b[0;34m*\u001b[0m\u001b[0mb\u001b[0m\u001b[0;34m)\u001b[0m\u001b[0;34m\u001b[0m\u001b[0;34m\u001b[0m\u001b[0m\n\u001b[0m\u001b[1;32m      5\u001b[0m \u001b[0;34m\u001b[0m\u001b[0m\n\u001b[1;32m      6\u001b[0m \u001b[0;31m# addition of str and int is not possible, because of difference in data types\u001b[0m\u001b[0;34m\u001b[0m\u001b[0;34m\u001b[0m\u001b[0m\n",
            "\u001b[0;31mTypeError\u001b[0m: can't multiply sequence by non-int of type 'str'"
          ]
        }
      ]
    },
    {
      "cell_type": "code",
      "source": [
        "a = 10\n",
        "b = 20\n",
        "c = 30\n",
        "\n",
        "#print(a+b+c)\n",
        "print(\"The addition of a,b,c is:\", a+b+c)\n",
        "# print(\"this is what i want to print in the output\" , expression)"
      ],
      "metadata": {
        "colab": {
          "base_uri": "https://localhost:8080/"
        },
        "id": "o1xsG4I7VqC8",
        "outputId": "1aac2577-cefc-494a-a766-bf3f9dfa3ea6"
      },
      "execution_count": null,
      "outputs": [
        {
          "output_type": "stream",
          "name": "stdout",
          "text": [
            "The addition of a,b,c is: 60\n"
          ]
        }
      ]
    },
    {
      "cell_type": "code",
      "source": [
        "stock_price = 1500\n",
        "company = \"DEF\"\n",
        "\n",
        "print(\"Company\",company,\"has a stock price of\",stock_price)"
      ],
      "metadata": {
        "colab": {
          "base_uri": "https://localhost:8080/"
        },
        "id": "oZzrwnq4Ww0s",
        "outputId": "ee17f65d-d692-45e0-a590-6554cc3c4d6c"
      },
      "execution_count": null,
      "outputs": [
        {
          "output_type": "stream",
          "name": "stdout",
          "text": [
            "Company DEF has a stock price of 1500\n"
          ]
        }
      ]
    },
    {
      "cell_type": "code",
      "source": [
        "a =  10\n",
        "b = 20\n",
        "\n",
        "c = a*b\n",
        "\n",
        "print(\"Multiplication of a and b is\", c)"
      ],
      "metadata": {
        "colab": {
          "base_uri": "https://localhost:8080/"
        },
        "id": "xPbXj0FTWw3O",
        "outputId": "d2eb79c7-b3cc-49cd-8fd4-d4e8acbfc2d1"
      },
      "execution_count": null,
      "outputs": [
        {
          "output_type": "stream",
          "name": "stdout",
          "text": [
            "Multiplication of a and b is 200\n"
          ]
        }
      ]
    },
    {
      "cell_type": "code",
      "source": [
        "# input function\n",
        "# when you want to accept an input frm the user\n",
        "# be default, input converts its input into str\n",
        "# int(input()) : int() converts any data type to int\n",
        "\n",
        "a = int(input(\"Enter the number here: \"))\n",
        "print(\"Number entered by the user is: \",a)\n",
        "print(type(a))"
      ],
      "metadata": {
        "colab": {
          "base_uri": "https://localhost:8080/"
        },
        "id": "x8Ao9HvmWw7d",
        "outputId": "94a00062-7ff7-4b29-b6a0-f958408573d7"
      },
      "execution_count": null,
      "outputs": [
        {
          "output_type": "stream",
          "name": "stdout",
          "text": [
            "Enter the number here: 2\n",
            "Number entered by the user is:  2\n",
            "<class 'int'>\n"
          ]
        }
      ]
    },
    {
      "cell_type": "code",
      "source": [
        "name = input(\"Enter the name here: \")\n",
        "age = int(input(\"Enter the age here: \"))\n",
        "temp = float(input(\"Enter the temperature here: \"))\n",
        "print(name,age,temp)\n",
        "print(type(name),type(age),type(temp))"
      ],
      "metadata": {
        "colab": {
          "base_uri": "https://localhost:8080/"
        },
        "id": "HW1O2OUraiOn",
        "outputId": "be7189a0-32d7-4862-83a7-650e8e751454"
      },
      "execution_count": null,
      "outputs": [
        {
          "output_type": "stream",
          "name": "stdout",
          "text": [
            "Enter the name here: amit\n",
            "Enter the age here: 23\n",
            "Enter the temperature here: 45.6\n",
            "amit 23 45.6\n",
            "<class 'str'> <class 'int'> <class 'float'>\n"
          ]
        }
      ]
    },
    {
      "cell_type": "code",
      "source": [],
      "metadata": {
        "id": "9R3hYdATaiRS"
      },
      "execution_count": null,
      "outputs": []
    },
    {
      "cell_type": "code",
      "source": [],
      "metadata": {
        "id": "5NgAjQoMVqFe"
      },
      "execution_count": null,
      "outputs": []
    },
    {
      "cell_type": "code",
      "source": [],
      "metadata": {
        "id": "KL9B0Y14VqJX"
      },
      "execution_count": null,
      "outputs": []
    },
    {
      "cell_type": "code",
      "source": [
        "number1 = 40\n",
        "number2 = 50\n",
        "\n",
        "# inside print(\"\") whtveer goes is defined by the user/developer\n",
        "# print(\"Whatever you want to print\" breaker(,) mathematical expression)\n",
        "print(\"the addition of two numbers is \",number1+number2)"
      ],
      "metadata": {
        "colab": {
          "base_uri": "https://localhost:8080/"
        },
        "id": "LYj1-ugOxVq1",
        "outputId": "c46c0d02-9bc2-4f6e-d4cb-9b94d8b89902"
      },
      "execution_count": null,
      "outputs": [
        {
          "output_type": "stream",
          "name": "stdout",
          "text": [
            "the addition of two numbers is  90\n"
          ]
        }
      ]
    },
    {
      "cell_type": "code",
      "source": [
        "number1 = 403\n",
        "number2 = 504\n",
        "\n",
        "addition = number1 + number2\n",
        "\n",
        "# inside print(\"\") whtveer goes is defined by the user/developer\n",
        "# print(\"Whatever you want to print\" breaker(,) mathematical expression)\n",
        "print(\"the addition of two numbers is \",addition)"
      ],
      "metadata": {
        "colab": {
          "base_uri": "https://localhost:8080/"
        },
        "id": "6uYgroeNAcpP",
        "outputId": "61e221f3-ab09-4e67-8685-9bc443f87aa2"
      },
      "execution_count": null,
      "outputs": [
        {
          "output_type": "stream",
          "name": "stdout",
          "text": [
            "the addition of two numbers is  907\n"
          ]
        }
      ]
    },
    {
      "cell_type": "code",
      "source": [
        "x = 2\n",
        "y = 3\n",
        "z = 4\n",
        "\n",
        "w = x*y*z\n",
        "\n",
        "print(\"The product of x,y and z is: \", w)"
      ],
      "metadata": {
        "colab": {
          "base_uri": "https://localhost:8080/"
        },
        "id": "9D_5Tbdk_xbn",
        "outputId": "568a8c12-93b5-429e-e482-8205616e5a08"
      },
      "execution_count": null,
      "outputs": [
        {
          "output_type": "stream",
          "name": "stdout",
          "text": [
            "The product of x,y and z is:  24\n"
          ]
        }
      ]
    },
    {
      "cell_type": "code",
      "source": [
        "name =\"Michael\"\n",
        "age = 50\n",
        "\n",
        "print(name,\"is\",age,\"years old.\")"
      ],
      "metadata": {
        "id": "IoAcd5Y21Ycm",
        "colab": {
          "base_uri": "https://localhost:8080/"
        },
        "outputId": "0d8fc933-4f5a-4de4-a7da-b9a8e5317937"
      },
      "execution_count": null,
      "outputs": [
        {
          "output_type": "stream",
          "name": "stdout",
          "text": [
            "Michael is 50 years old.\n"
          ]
        }
      ]
    },
    {
      "cell_type": "markdown",
      "source": [
        "## Learning input() function:"
      ],
      "metadata": {
        "id": "7xwdwKWYEA3n"
      }
    },
    {
      "cell_type": "code",
      "source": [
        "a1 = input(\"Enter your number here: \")\n",
        "print(a1)\n"
      ],
      "metadata": {
        "colab": {
          "base_uri": "https://localhost:8080/"
        },
        "id": "9NS8bLlYCxD1",
        "outputId": "6b7f9974-17f2-4791-dd19-bf015950bb18"
      },
      "execution_count": null,
      "outputs": [
        {
          "output_type": "stream",
          "name": "stdout",
          "text": [
            "Enter your number here: 56.7\n",
            "56.7\n"
          ]
        }
      ]
    },
    {
      "cell_type": "code",
      "source": [
        "print(type(a1))\n",
        "\n",
        "# be default, input function : converts that into string"
      ],
      "metadata": {
        "colab": {
          "base_uri": "https://localhost:8080/"
        },
        "id": "2m-m1EtZEZR7",
        "outputId": "1c63c9f1-49cb-4826-b0d7-416bbce83cf9"
      },
      "execution_count": null,
      "outputs": [
        {
          "output_type": "stream",
          "name": "stdout",
          "text": [
            "<class 'str'>\n"
          ]
        }
      ]
    },
    {
      "cell_type": "code",
      "source": [
        "# input() wrap that into int()\n",
        "# converts the input to integer data type\n",
        "a1 = int(input(\"Enter your number here: \"))\n",
        "print(a1)\n",
        "print(type(a1))\n"
      ],
      "metadata": {
        "colab": {
          "base_uri": "https://localhost:8080/"
        },
        "id": "EiFQjNFeEYIb",
        "outputId": "d03bbe54-ca11-4d1f-f8d9-d6079fa6882d"
      },
      "execution_count": null,
      "outputs": [
        {
          "output_type": "stream",
          "name": "stdout",
          "text": [
            "Enter your number here: 345\n",
            "345\n",
            "<class 'int'>\n"
          ]
        }
      ]
    },
    {
      "cell_type": "code",
      "source": [
        "n1 = int(input(\"Enter number1: \"))\n",
        "n2 = int(input(\"Enter number2: \"))\n",
        "n3 = int(input(\"Enter number3: \"))\n",
        "\n",
        "print(\"Addition:\", n1+n2+n3)\n",
        "print(\"Subtraction\",n1-n2-n3)\n",
        "print(\"Multiplication\",n1*n2*n3)\n",
        "print(\"Division\",n1/n2/n3)"
      ],
      "metadata": {
        "colab": {
          "base_uri": "https://localhost:8080/"
        },
        "id": "VVM2AUHyF3fr",
        "outputId": "c9d129e1-c51d-4369-f3cb-1eaa5abc1895"
      },
      "execution_count": null,
      "outputs": [
        {
          "output_type": "stream",
          "name": "stdout",
          "text": [
            "Enter number1: 2\n",
            "Enter number2: 3\n",
            "Enter number3: 4\n",
            "Addition: 9\n",
            "Star wars -5\n",
            "Multiplication 24\n",
            "Division 0.16666666666666666\n"
          ]
        }
      ]
    },
    {
      "cell_type": "code",
      "source": [
        "a = 10\n",
        "\n",
        "print(a == 1)\n",
        "\n",
        "# = assigning  the value\n",
        "# == condition check\n",
        "# in this case, is a equal to 1 ??"
      ],
      "metadata": {
        "id": "UaupMdP35liY",
        "colab": {
          "base_uri": "https://localhost:8080/"
        },
        "outputId": "b0cad5f3-c6c1-4f7a-d803-d4df55d44cdf"
      },
      "execution_count": null,
      "outputs": [
        {
          "output_type": "stream",
          "name": "stdout",
          "text": [
            "False\n"
          ]
        }
      ]
    },
    {
      "cell_type": "code",
      "source": [
        "# syntax\n",
        "\n",
        "if condition:\n",
        "  print(condition-output) #indentation\n",
        "else:\n",
        "  print(output)"
      ],
      "metadata": {
        "id": "BvcJ6QyJtCkl"
      },
      "execution_count": null,
      "outputs": []
    },
    {
      "cell_type": "code",
      "source": [
        "a = 2000\n",
        "\n",
        "if a == 200:\n",
        "  print(\"a is equal to 200\")\n",
        "else:\n",
        "  print(\"a is not equal to 200\")"
      ],
      "metadata": {
        "colab": {
          "base_uri": "https://localhost:8080/"
        },
        "id": "XMsYlyP4soa-",
        "outputId": "a0f5c487-f92f-4418-88f7-f3371dc14ab9"
      },
      "execution_count": null,
      "outputs": [
        {
          "output_type": "stream",
          "name": "stdout",
          "text": [
            "a is not equal to 200\n"
          ]
        }
      ]
    },
    {
      "cell_type": "code",
      "source": [
        "# if-elif-else\n",
        "\n",
        "# you can define as many elif statements as possible"
      ],
      "metadata": {
        "id": "mPiw5HtMvrvb"
      },
      "execution_count": null,
      "outputs": []
    },
    {
      "cell_type": "code",
      "source": [
        "a = int(input(\"Enter number 1: \"))\n",
        "b = int(input(\"Enter number 2: \"))\n",
        "\n",
        "if a+b>100:\n",
        "  print(\"A\")\n",
        "elif a+b == 100:\n",
        "  print(\"100\")\n",
        "else:\n",
        "  print(\"B\")"
      ],
      "metadata": {
        "colab": {
          "base_uri": "https://localhost:8080/"
        },
        "id": "3Yng7p1ns_Kt",
        "outputId": "bc057661-e562-450e-8ba0-185e42919414"
      },
      "execution_count": null,
      "outputs": [
        {
          "output_type": "stream",
          "name": "stdout",
          "text": [
            "Enter number 1: 90\n",
            "Enter number 2: 10\n",
            "100\n"
          ]
        }
      ]
    },
    {
      "cell_type": "code",
      "source": [
        "number = 0\n",
        "\n",
        "if number>0:\n",
        "  print(\"Positive\")\n",
        "elif number == 0:\n",
        "  print(\"Equal to Zero\")\n",
        "else:\n",
        "  print(\"Negative\")"
      ],
      "metadata": {
        "colab": {
          "base_uri": "https://localhost:8080/"
        },
        "id": "cshmsBbOs_Om",
        "outputId": "225c73f1-f1d5-43be-99c3-a044ad1152b8"
      },
      "execution_count": null,
      "outputs": [
        {
          "output_type": "stream",
          "name": "stdout",
          "text": [
            "Equal to Zero\n"
          ]
        }
      ]
    },
    {
      "cell_type": "code",
      "source": [
        "# uppercase and lowercase\n",
        "\n",
        "name = \"alex\"\n",
        "\n",
        "print(\"Upper case is: \", name.upper())\n",
        "\n",
        "surname = \"FERNANDES\"\n",
        "\n",
        "print(\"Lower case is : \", surname.lower())"
      ],
      "metadata": {
        "id": "RIhSAbmtsoiO",
        "colab": {
          "base_uri": "https://localhost:8080/"
        },
        "outputId": "dcb20cea-e8db-4bb5-fff2-97adeba9d4c7"
      },
      "execution_count": null,
      "outputs": [
        {
          "output_type": "stream",
          "name": "stdout",
          "text": [
            "Upper case is:  ALEX\n",
            "Lower case is :  fernandes\n"
          ]
        }
      ]
    },
    {
      "cell_type": "code",
      "source": [
        "company_name = \"HPE  \"\n",
        "\n",
        "# even space is considered as a character\n",
        "\n",
        "print(len(company_name))"
      ],
      "metadata": {
        "id": "JHmFxw4-JStP",
        "colab": {
          "base_uri": "https://localhost:8080/"
        },
        "outputId": "47d16bb1-f139-4516-cd2d-af4569f0d303"
      },
      "execution_count": null,
      "outputs": [
        {
          "output_type": "stream",
          "name": "stdout",
          "text": [
            "5\n"
          ]
        }
      ]
    },
    {
      "cell_type": "code",
      "source": [
        "name = input(\"Enter the name here: \")\n",
        "\n",
        "print(\"The length of the entered name is: \", len(name))"
      ],
      "metadata": {
        "id": "xjrGD83pJSw0",
        "colab": {
          "base_uri": "https://localhost:8080/"
        },
        "outputId": "9f6e7c8b-a0d0-4028-be26-8f93d1d9c76f"
      },
      "execution_count": null,
      "outputs": [
        {
          "output_type": "stream",
          "name": "stdout",
          "text": [
            "Enter the name here: Xavier\n",
            "The length of the entered name is:  6\n"
          ]
        }
      ]
    },
    {
      "cell_type": "code",
      "source": [],
      "metadata": {
        "id": "xtTDn5xR2xtI"
      },
      "execution_count": null,
      "outputs": []
    },
    {
      "cell_type": "code",
      "source": [],
      "metadata": {
        "id": "pja-YS8G2xwe"
      },
      "execution_count": null,
      "outputs": []
    },
    {
      "cell_type": "code",
      "source": [],
      "metadata": {
        "id": "SISgaze72x0o"
      },
      "execution_count": null,
      "outputs": []
    },
    {
      "cell_type": "code",
      "source": [],
      "metadata": {
        "id": "YxFmrkpa2x4M"
      },
      "execution_count": null,
      "outputs": []
    },
    {
      "cell_type": "code",
      "source": [],
      "metadata": {
        "id": "Rmn-dhHm2mOj"
      },
      "execution_count": null,
      "outputs": []
    },
    {
      "cell_type": "code",
      "source": [],
      "metadata": {
        "id": "FAGOweYi2mSa"
      },
      "execution_count": null,
      "outputs": []
    },
    {
      "cell_type": "code",
      "source": [
        "a = 1\n",
        "a"
      ],
      "metadata": {
        "id": "Ir3o8b_x5lnG"
      },
      "execution_count": null,
      "outputs": []
    },
    {
      "cell_type": "code",
      "source": [
        "a = 1\n",
        "print(a)# parentheses\n",
        "\n",
        "# system defined functions : lowercase\n",
        "# user defined functions : user given values : a = 1, stock_price=48293\n",
        "\n",
        "# shift + enter\n",
        "\n",
        "# system defined vars , user defined vars"
      ],
      "metadata": {
        "id": "7N2dQwUX1GDS"
      },
      "execution_count": null,
      "outputs": []
    },
    {
      "cell_type": "code",
      "source": [
        "# commenting (documentation) : execute in your output\n",
        "\n",
        "a = 12.65\n",
        "# a has value of 12.65\n",
        "print(a)\n",
        "\n",
        "\n",
        "a = 10\n",
        "b = 20\n",
        "c = 30\n",
        "# addition of 3  variables\n",
        "\n",
        "print(c-a-b)"
      ],
      "metadata": {
        "id": "FwFKYHdI1GK0"
      },
      "execution_count": null,
      "outputs": []
    },
    {
      "cell_type": "code",
      "source": [
        "a = 10\n",
        "b = 20\n",
        "c = 30\n",
        "# addition of 3  variables\n",
        "\n",
        "print(c-a-b)\n",
        "print(a*b*c) #multiplication : *\n",
        "\n",
        "\n",
        "#"
      ],
      "metadata": {
        "id": "67S9R3D951_S"
      },
      "execution_count": null,
      "outputs": []
    },
    {
      "cell_type": "code",
      "source": [
        "# division\n",
        "d = 100\n",
        "e = 5\n",
        "\n",
        "print(d/e) # / is division value with decimals\n",
        "\n",
        "print(d//e) # // means division value with no decimals"
      ],
      "metadata": {
        "id": "akvSmoyh7GGv"
      },
      "execution_count": null,
      "outputs": []
    },
    {
      "cell_type": "code",
      "source": [
        "# to the power of  : **\n",
        "\n",
        "a = 4\n",
        "\n",
        "print(a**10)"
      ],
      "metadata": {
        "id": "tOWpoo357GJ0"
      },
      "execution_count": null,
      "outputs": []
    },
    {
      "cell_type": "code",
      "source": [
        "# datatypes : numerical and categorical\n",
        "# python    : integer   and string\n",
        "# python    : integer : int and float\n",
        "# int : whole number : ex : 23,646,878\n",
        "# float : decimal number : ex : 34.463,76745.6345"
      ],
      "metadata": {
        "id": "fswSGbdK52B3"
      },
      "execution_count": null,
      "outputs": []
    },
    {
      "cell_type": "code",
      "source": [
        "x = 23\n",
        "print(x)\n",
        "print(type(x))\n",
        "\n",
        "print(\"-------------------------------------\")\n",
        "\n",
        "y = 34.67\n",
        "print(y)\n",
        "print(type(y))\n",
        "\n",
        "print(\"--------------------------------------\")\n",
        "\n",
        "# categorical/textual/string data has to be written/defined inside \"\" or ''\n",
        "\n",
        "name = \"Chirantan\"\n",
        "print(name)\n",
        "print(type(name))"
      ],
      "metadata": {
        "colab": {
          "base_uri": "https://localhost:8080/"
        },
        "id": "Vk5sOer58r_k",
        "outputId": "16c4b855-5ab2-49b3-ea3b-81b70e958da1"
      },
      "execution_count": null,
      "outputs": [
        {
          "output_type": "stream",
          "name": "stdout",
          "text": [
            "23\n",
            "<class 'int'>\n",
            "-------------------------------------\n",
            "34.67\n",
            "<class 'float'>\n",
            "--------------------------------------\n",
            "Chirantan\n",
            "<class 'str'>\n"
          ]
        }
      ]
    },
    {
      "cell_type": "code",
      "source": [
        "s = \"1213\"\n",
        "\n",
        "print(type(s))"
      ],
      "metadata": {
        "colab": {
          "base_uri": "https://localhost:8080/"
        },
        "id": "K_qH13Qx6PAC",
        "outputId": "eaabd83f-9b7d-486f-97b7-a6c0ff1c0665"
      },
      "execution_count": null,
      "outputs": [
        {
          "output_type": "stream",
          "name": "stdout",
          "text": [
            "<class 'str'>\n"
          ]
        }
      ]
    },
    {
      "cell_type": "code",
      "source": [
        "name = \"Chirantan\"\n",
        "age = 24\n",
        "x = \"years old\"\n",
        "\n",
        "# Chirantan is 24 years old\n",
        "\n",
        "print(name,\"is\",age,x)"
      ],
      "metadata": {
        "colab": {
          "base_uri": "https://localhost:8080/"
        },
        "id": "tivho0nz8sCB",
        "outputId": "4ded03ec-1918-49e7-9589-17f48556d532"
      },
      "execution_count": null,
      "outputs": [
        {
          "output_type": "stream",
          "name": "stdout",
          "text": [
            "Chirantan is 24 years old\n"
          ]
        }
      ]
    },
    {
      "cell_type": "code",
      "source": [
        "name = \"Chirantan\"\n",
        "age = 45\n",
        "\n",
        "print(name,\"is\",age,\"years old\")"
      ],
      "metadata": {
        "colab": {
          "base_uri": "https://localhost:8080/"
        },
        "id": "2SE0mrc26hm3",
        "outputId": "6802c49e-8471-4060-8c87-6adfeaf15c6a"
      },
      "execution_count": null,
      "outputs": [
        {
          "output_type": "stream",
          "name": "stdout",
          "text": [
            "Chirantan is 45 years old\n"
          ]
        }
      ]
    },
    {
      "cell_type": "code",
      "source": [],
      "metadata": {
        "id": "cdx1wuRJ6iAm"
      },
      "execution_count": null,
      "outputs": []
    },
    {
      "cell_type": "code",
      "source": [],
      "metadata": {
        "id": "AYirwV0f6iDL"
      },
      "execution_count": null,
      "outputs": []
    },
    {
      "cell_type": "code",
      "source": [
        "city = \"hyderabad\"\n",
        "\n",
        "print(\"Chirantan lives in: \",city)"
      ],
      "metadata": {
        "colab": {
          "base_uri": "https://localhost:8080/"
        },
        "id": "ujq9Ti6Z-neC",
        "outputId": "cb7eccf9-6c48-4053-da9b-7bc70dae6a1b"
      },
      "execution_count": null,
      "outputs": [
        {
          "output_type": "stream",
          "name": "stdout",
          "text": [
            "Chirantan lives in:  hyderabad\n"
          ]
        }
      ]
    },
    {
      "cell_type": "code",
      "source": [
        "# input functions in python\n",
        "# input function : accepts the input\n",
        "\n",
        "a = input(\"Enter the number here: \")\n",
        "print(\"The number entered is: \", a)\n",
        "print(type(a))"
      ],
      "metadata": {
        "colab": {
          "base_uri": "https://localhost:8080/",
          "height": 373
        },
        "id": "dKQBrUms-njW",
        "outputId": "3bfc1030-b715-4904-b0b2-08ce4f1e4605"
      },
      "execution_count": null,
      "outputs": [
        {
          "output_type": "error",
          "ename": "KeyboardInterrupt",
          "evalue": "Interrupted by user",
          "traceback": [
            "\u001b[0;31m---------------------------------------------------------------------------\u001b[0m",
            "\u001b[0;31mKeyboardInterrupt\u001b[0m                         Traceback (most recent call last)",
            "\u001b[0;32m<ipython-input-8-219b715c7563>\u001b[0m in \u001b[0;36m<cell line: 4>\u001b[0;34m()\u001b[0m\n\u001b[1;32m      2\u001b[0m \u001b[0;31m# input function : accepts the input\u001b[0m\u001b[0;34m\u001b[0m\u001b[0;34m\u001b[0m\u001b[0m\n\u001b[1;32m      3\u001b[0m \u001b[0;34m\u001b[0m\u001b[0m\n\u001b[0;32m----> 4\u001b[0;31m \u001b[0ma\u001b[0m \u001b[0;34m=\u001b[0m \u001b[0minput\u001b[0m\u001b[0;34m(\u001b[0m\u001b[0;34m\"Enter the number here: \"\u001b[0m\u001b[0;34m)\u001b[0m\u001b[0;34m\u001b[0m\u001b[0;34m\u001b[0m\u001b[0m\n\u001b[0m\u001b[1;32m      5\u001b[0m \u001b[0mprint\u001b[0m\u001b[0;34m(\u001b[0m\u001b[0;34m\"The number entered is: \"\u001b[0m\u001b[0;34m,\u001b[0m \u001b[0ma\u001b[0m\u001b[0;34m)\u001b[0m\u001b[0;34m\u001b[0m\u001b[0;34m\u001b[0m\u001b[0m\n\u001b[1;32m      6\u001b[0m \u001b[0mprint\u001b[0m\u001b[0;34m(\u001b[0m\u001b[0mtype\u001b[0m\u001b[0;34m(\u001b[0m\u001b[0ma\u001b[0m\u001b[0;34m)\u001b[0m\u001b[0;34m)\u001b[0m\u001b[0;34m\u001b[0m\u001b[0;34m\u001b[0m\u001b[0m\n",
            "\u001b[0;32m/usr/local/lib/python3.10/dist-packages/ipykernel/kernelbase.py\u001b[0m in \u001b[0;36mraw_input\u001b[0;34m(self, prompt)\u001b[0m\n\u001b[1;32m    849\u001b[0m                 \u001b[0;34m\"raw_input was called, but this frontend does not support input requests.\"\u001b[0m\u001b[0;34m\u001b[0m\u001b[0;34m\u001b[0m\u001b[0m\n\u001b[1;32m    850\u001b[0m             )\n\u001b[0;32m--> 851\u001b[0;31m         return self._input_request(str(prompt),\n\u001b[0m\u001b[1;32m    852\u001b[0m             \u001b[0mself\u001b[0m\u001b[0;34m.\u001b[0m\u001b[0m_parent_ident\u001b[0m\u001b[0;34m,\u001b[0m\u001b[0;34m\u001b[0m\u001b[0;34m\u001b[0m\u001b[0m\n\u001b[1;32m    853\u001b[0m             \u001b[0mself\u001b[0m\u001b[0;34m.\u001b[0m\u001b[0m_parent_header\u001b[0m\u001b[0;34m,\u001b[0m\u001b[0;34m\u001b[0m\u001b[0;34m\u001b[0m\u001b[0m\n",
            "\u001b[0;32m/usr/local/lib/python3.10/dist-packages/ipykernel/kernelbase.py\u001b[0m in \u001b[0;36m_input_request\u001b[0;34m(self, prompt, ident, parent, password)\u001b[0m\n\u001b[1;32m    893\u001b[0m             \u001b[0;32mexcept\u001b[0m \u001b[0mKeyboardInterrupt\u001b[0m\u001b[0;34m:\u001b[0m\u001b[0;34m\u001b[0m\u001b[0;34m\u001b[0m\u001b[0m\n\u001b[1;32m    894\u001b[0m                 \u001b[0;31m# re-raise KeyboardInterrupt, to truncate traceback\u001b[0m\u001b[0;34m\u001b[0m\u001b[0;34m\u001b[0m\u001b[0m\n\u001b[0;32m--> 895\u001b[0;31m                 \u001b[0;32mraise\u001b[0m \u001b[0mKeyboardInterrupt\u001b[0m\u001b[0;34m(\u001b[0m\u001b[0;34m\"Interrupted by user\"\u001b[0m\u001b[0;34m)\u001b[0m \u001b[0;32mfrom\u001b[0m \u001b[0;32mNone\u001b[0m\u001b[0;34m\u001b[0m\u001b[0;34m\u001b[0m\u001b[0m\n\u001b[0m\u001b[1;32m    896\u001b[0m             \u001b[0;32mexcept\u001b[0m \u001b[0mException\u001b[0m \u001b[0;32mas\u001b[0m \u001b[0me\u001b[0m\u001b[0;34m:\u001b[0m\u001b[0;34m\u001b[0m\u001b[0;34m\u001b[0m\u001b[0m\n\u001b[1;32m    897\u001b[0m                 \u001b[0mself\u001b[0m\u001b[0;34m.\u001b[0m\u001b[0mlog\u001b[0m\u001b[0;34m.\u001b[0m\u001b[0mwarning\u001b[0m\u001b[0;34m(\u001b[0m\u001b[0;34m\"Invalid Message:\"\u001b[0m\u001b[0;34m,\u001b[0m \u001b[0mexc_info\u001b[0m\u001b[0;34m=\u001b[0m\u001b[0;32mTrue\u001b[0m\u001b[0;34m)\u001b[0m\u001b[0;34m\u001b[0m\u001b[0;34m\u001b[0m\u001b[0m\n",
            "\u001b[0;31mKeyboardInterrupt\u001b[0m: Interrupted by user"
          ]
        }
      ]
    },
    {
      "cell_type": "code",
      "source": [
        "# to convert into int\n",
        "# int(input(\"\"))\n",
        "a = int(input(\"Enter the number here: \"))\n",
        "print(\"The number entered is: \", a)\n",
        "print(type(a))"
      ],
      "metadata": {
        "id": "li_Sns22Blnv"
      },
      "execution_count": null,
      "outputs": []
    },
    {
      "cell_type": "code",
      "source": [
        "a = int(input(\"Enter the number here: \"))\n",
        "b = int(input(\"Enter the number here: \"))\n",
        "c = int(input(\"Enter the number here: \"))\n",
        "\n",
        "print(\"Addition of a+b+c is :\" , a+b+c)\n",
        "print(\"\\n\")\n",
        "print(\"Multiplication of a+b+c is :\" , a*b*c)"
      ],
      "metadata": {
        "id": "U8CIbkCFCvR0",
        "colab": {
          "base_uri": "https://localhost:8080/"
        },
        "outputId": "7cc103a9-bffd-4429-906c-3444868c5d9e"
      },
      "execution_count": null,
      "outputs": [
        {
          "output_type": "stream",
          "name": "stdout",
          "text": [
            "Enter the number here: 2\n",
            "Enter the number here: 3\n",
            "Enter the number here: 4\n",
            "Addition of a+b+c is : 9\n",
            "\n",
            "\n",
            "Multiplication of a+b+c is : 24\n"
          ]
        }
      ]
    },
    {
      "cell_type": "code",
      "source": [],
      "metadata": {
        "id": "vT3_moKST-2r"
      },
      "execution_count": null,
      "outputs": []
    },
    {
      "cell_type": "code",
      "source": [
        "# str and str concatenation does work\n",
        "# but multiplication of str and int does work\n",
        "\n",
        "x = \"Mumbai\"\n",
        "y = 10\n",
        "\n",
        "print(x*y)"
      ],
      "metadata": {
        "id": "3i5uLb3XCvXP"
      },
      "execution_count": null,
      "outputs": []
    },
    {
      "cell_type": "code",
      "source": [
        "a = \"Bangalore\"\n",
        "b = \"Traffic\"\n",
        "\n",
        "print(a+\" \"+b)"
      ],
      "metadata": {
        "id": "5zH_OSi8CvZo"
      },
      "execution_count": null,
      "outputs": []
    },
    {
      "cell_type": "code",
      "source": [],
      "metadata": {
        "id": "Mv31CL8vHO-6"
      },
      "execution_count": null,
      "outputs": []
    },
    {
      "cell_type": "code",
      "source": [],
      "metadata": {
        "id": "w8ZJ95bHHOUa"
      },
      "execution_count": null,
      "outputs": []
    },
    {
      "cell_type": "code",
      "source": [],
      "metadata": {
        "id": "cNEexlikHOXF"
      },
      "execution_count": null,
      "outputs": []
    },
    {
      "cell_type": "code",
      "source": [],
      "metadata": {
        "id": "QiZPzE9pHOZj"
      },
      "execution_count": null,
      "outputs": []
    },
    {
      "cell_type": "code",
      "source": [],
      "metadata": {
        "id": "PWIoMNDY52EF"
      },
      "execution_count": null,
      "outputs": []
    },
    {
      "cell_type": "code",
      "source": [
        "# addition , multiplication , subtra, div\n",
        "\n",
        "a = 1\n",
        "b = 2\n",
        "c = 3\n",
        "\n",
        "print(a+b+c)"
      ],
      "metadata": {
        "id": "ngAn1okC1GNc"
      },
      "execution_count": null,
      "outputs": []
    },
    {
      "cell_type": "code",
      "source": [
        "a = 1\n",
        "b = 2\n",
        "c = 3\n",
        "\n",
        "d = a+b+c\n",
        "\n",
        "print(d)"
      ],
      "metadata": {
        "id": "gCFtg6RK1GPq"
      },
      "execution_count": null,
      "outputs": []
    },
    {
      "cell_type": "code",
      "source": [
        "a = 1\n",
        "b = 2\n",
        "c = 3\n",
        "\n",
        "d = a-b-c\n",
        "\n",
        "print(d)"
      ],
      "metadata": {
        "id": "KhuQJtiR1GR7"
      },
      "execution_count": null,
      "outputs": []
    },
    {
      "cell_type": "code",
      "source": [
        "a = 1\n",
        "b = 2\n",
        "c = 3\n",
        "\n",
        "d = a*b*c\n",
        "\n",
        "print(d)"
      ],
      "metadata": {
        "id": "ZWvJOdf21GUT"
      },
      "execution_count": null,
      "outputs": []
    },
    {
      "cell_type": "code",
      "source": [
        "# square, cube\n",
        "# power of\n",
        "\n",
        "a = 4**2\n",
        "\n",
        "print(a)"
      ],
      "metadata": {
        "id": "EO-NxIiC1GXG"
      },
      "execution_count": null,
      "outputs": []
    },
    {
      "cell_type": "code",
      "source": [
        "a = 2**3\n",
        "\n",
        "print(a)"
      ],
      "metadata": {
        "id": "s7gKIdU01GY6"
      },
      "execution_count": null,
      "outputs": []
    },
    {
      "cell_type": "code",
      "source": [
        "a = 2**4\n",
        "\n",
        "print(a)"
      ],
      "metadata": {
        "id": "awYS45pM01H9"
      },
      "execution_count": null,
      "outputs": []
    },
    {
      "cell_type": "code",
      "source": [
        "a = 2**4.89\n",
        "\n",
        "print(a)"
      ],
      "metadata": {
        "id": "3OtcK9hj01Ko"
      },
      "execution_count": null,
      "outputs": []
    },
    {
      "cell_type": "code",
      "source": [
        "a = 16\n",
        "b = 5\n",
        "\n",
        "c = a/b\n",
        "\n",
        "print(c)"
      ],
      "metadata": {
        "id": "jLAHB4Or01NN"
      },
      "execution_count": null,
      "outputs": []
    },
    {
      "cell_type": "code",
      "source": [
        "a = 16\n",
        "b = 5\n",
        "\n",
        "c = a//b\n",
        "\n",
        "print(c)"
      ],
      "metadata": {
        "id": "NiioKsvn01Pj"
      },
      "execution_count": null,
      "outputs": []
    },
    {
      "cell_type": "code",
      "source": [
        "# numbers, text\n",
        "# data types\n",
        "\n",
        "# numerical : whole number (int), decimal (float)\n",
        "# text : textual , string data (str)\n",
        "\n"
      ],
      "metadata": {
        "id": "Owv326F001SH"
      },
      "execution_count": null,
      "outputs": []
    },
    {
      "cell_type": "code",
      "source": [
        "number1 = 567\n",
        "\n",
        "print(number1)\n",
        "\n",
        "print(type(number1))"
      ],
      "metadata": {
        "id": "PplD2pwz6fAf"
      },
      "execution_count": null,
      "outputs": []
    },
    {
      "cell_type": "code",
      "source": [
        "number2 = 567.789\n",
        "\n",
        "print(number2)\n",
        "\n",
        "print(type(number2))"
      ],
      "metadata": {
        "id": "Q-m3Hvc_6fDD"
      },
      "execution_count": null,
      "outputs": []
    },
    {
      "cell_type": "code",
      "source": [
        "# string , textual\n",
        "# 'text' , \"text\"\n",
        "info = \"My name is Chirantan\"\n",
        "print(info)\n",
        "print(type(info))"
      ],
      "metadata": {
        "id": "oG2MxW7-6fFP"
      },
      "execution_count": null,
      "outputs": []
    },
    {
      "cell_type": "code",
      "source": [
        "# define numbers inside \"1223\"\n",
        "\n",
        "d = \"12345\"\n",
        "\n",
        "print(type(d))"
      ],
      "metadata": {
        "id": "LDKqVljR6fHo"
      },
      "execution_count": null,
      "outputs": []
    },
    {
      "cell_type": "code",
      "source": [
        "# print , name, age\n",
        "\n",
        "name = \"Chirantan\"\n",
        "age = 30\n",
        "\n",
        "print(\"My name is: \",name,\"and my age is: \",age,\"years old !!!!!\")\n"
      ],
      "metadata": {
        "id": "a1uZmsTr6fJ9"
      },
      "execution_count": null,
      "outputs": []
    },
    {
      "cell_type": "code",
      "source": [
        "# use of input function\n",
        "\n",
        "name = input(\"Enter the name here: \")\n",
        "\n",
        "age = int(input(\"Enter the age here: \"))\n",
        "\n",
        "city = input(\"Enter the name of your city: \")\n",
        "\n",
        "print(\"My name is: \",name,\"and my age is: \",age,\"years old !!!!!\",\"and I live in : \",city)"
      ],
      "metadata": {
        "id": "pdHqwa-v01UW",
        "colab": {
          "base_uri": "https://localhost:8080/"
        },
        "outputId": "3b876be2-8bc2-4874-c3e6-b4410cb7a5a4"
      },
      "execution_count": null,
      "outputs": [
        {
          "output_type": "stream",
          "name": "stdout",
          "text": [
            "Enter the name here: amit\n",
            "Enter the age here: 23\n",
            "Enter the name of your city: mumbai\n",
            "My name is:  amit and my age is:  23 years old !!!!! and I live in :  mumbai\n"
          ]
        }
      ]
    },
    {
      "cell_type": "code",
      "source": [
        "# ask the user to input 3 numbers, and perform addition\n",
        "\n",
        "num1 = int(input(\"Enter number 1 : \"))\n",
        "num2 =  int(input(\"Enter number 2 : \"))\n",
        "num3 =  int(input(\"Enter number 3 : \"))\n",
        "\n",
        "addition = num1 + num2 + num3\n",
        "\n",
        "print(\"Addition of 3 numbers is: \", addition)"
      ],
      "metadata": {
        "id": "XQmqNljQ9eh9"
      },
      "execution_count": null,
      "outputs": []
    },
    {
      "cell_type": "code",
      "source": [
        "# inserting a new line\n",
        "\n",
        "name  = \"Chirantan\"\n",
        "age = 30\n",
        "print(name)\n",
        "print(\"\\n\") # inserts a new line\n",
        "print(age)"
      ],
      "metadata": {
        "id": "9nDPQo7o84bh",
        "colab": {
          "base_uri": "https://localhost:8080/"
        },
        "outputId": "de00c2b1-4c53-4ba1-8be1-07b7bfddcbc9"
      },
      "execution_count": null,
      "outputs": [
        {
          "output_type": "stream",
          "name": "stdout",
          "text": [
            "Chirantan\n",
            "\n",
            "\n",
            "30\n"
          ]
        }
      ]
    },
    {
      "cell_type": "code",
      "source": [
        "a = \"Starbucks\"\n",
        "b = \"Coffee\"\n",
        "c= \"Seattle\"\n",
        "print(a + \" \" + b + \" \" + c)"
      ],
      "metadata": {
        "colab": {
          "base_uri": "https://localhost:8080/"
        },
        "id": "CcWqItYgKXya",
        "outputId": "bcf9fe99-d803-4361-a597-8f555e08a308"
      },
      "execution_count": null,
      "outputs": [
        {
          "output_type": "stream",
          "name": "stdout",
          "text": [
            "Starbucks Coffee Seattle\n"
          ]
        }
      ]
    },
    {
      "cell_type": "code",
      "source": [
        "a = \"USA\"\n",
        "b = 3\n",
        "print(a+b)\n",
        "\n",
        "# str and int/float cannot be added together\n",
        "# they can be multiplied"
      ],
      "metadata": {
        "colab": {
          "base_uri": "https://localhost:8080/",
          "height": 216
        },
        "id": "CzCqTyPqSqlW",
        "outputId": "de317876-ec7c-4a1e-95b0-5e3b27a6df22"
      },
      "execution_count": null,
      "outputs": [
        {
          "output_type": "error",
          "ename": "TypeError",
          "evalue": "can only concatenate str (not \"int\") to str",
          "traceback": [
            "\u001b[0;31m---------------------------------------------------------------------------\u001b[0m",
            "\u001b[0;31mTypeError\u001b[0m                                 Traceback (most recent call last)",
            "\u001b[0;32m<ipython-input-52-7540d098b3d6>\u001b[0m in \u001b[0;36m<cell line: 3>\u001b[0;34m()\u001b[0m\n\u001b[1;32m      1\u001b[0m \u001b[0ma\u001b[0m \u001b[0;34m=\u001b[0m \u001b[0;34m\"USA\"\u001b[0m\u001b[0;34m\u001b[0m\u001b[0;34m\u001b[0m\u001b[0m\n\u001b[1;32m      2\u001b[0m \u001b[0mb\u001b[0m \u001b[0;34m=\u001b[0m \u001b[0;36m3\u001b[0m\u001b[0;34m\u001b[0m\u001b[0;34m\u001b[0m\u001b[0m\n\u001b[0;32m----> 3\u001b[0;31m \u001b[0mprint\u001b[0m\u001b[0;34m(\u001b[0m\u001b[0ma\u001b[0m\u001b[0;34m+\u001b[0m\u001b[0mb\u001b[0m\u001b[0;34m)\u001b[0m\u001b[0;34m\u001b[0m\u001b[0;34m\u001b[0m\u001b[0m\n\u001b[0m\u001b[1;32m      4\u001b[0m \u001b[0;34m\u001b[0m\u001b[0m\n\u001b[1;32m      5\u001b[0m \u001b[0;31m# str and int/float cannot be added together\u001b[0m\u001b[0;34m\u001b[0m\u001b[0;34m\u001b[0m\u001b[0m\n",
            "\u001b[0;31mTypeError\u001b[0m: can only concatenate str (not \"int\") to str"
          ]
        }
      ]
    },
    {
      "cell_type": "code",
      "source": [
        "print(\"The capital of India is New Delhi\")\n",
        "print(\"\\n\") # inserting a new line\n",
        "print(\"The capital of USA is Washington DC\")"
      ],
      "metadata": {
        "colab": {
          "base_uri": "https://localhost:8080/"
        },
        "id": "VOAkrS0JSqn6",
        "outputId": "62eca99d-5148-4a51-e6a6-ae3d918feb1e"
      },
      "execution_count": null,
      "outputs": [
        {
          "output_type": "stream",
          "name": "stdout",
          "text": [
            "The capital of India is New Delhi\n",
            "\n",
            "\n",
            "The capital of USA is Washington DC\n"
          ]
        }
      ]
    },
    {
      "cell_type": "code",
      "source": [
        "# data structures\n",
        "# lists,tuples,dictionaries\n",
        "\n",
        "# lists : when the data is stored in [] : square brackets\n",
        "# tuples : when the data is stored in () : round brackets\n",
        "# dictionaries : when the data is stored in {} : curly brackets"
      ],
      "metadata": {
        "id": "WU8iPrvjTENV"
      },
      "execution_count": null,
      "outputs": []
    },
    {
      "cell_type": "code",
      "source": [
        "# LISTS : []\n",
        "a = [12,23,423,423,52]\n",
        "print(a)\n",
        "print(type(a)) # this is an example of a list\n",
        "print(\"---------------------------------------------------------------\")\n",
        "# a list can handle a mix of data types\n",
        "b = [\"Mumbai\",12,123.45,True]\n",
        "print(b)\n",
        "print(type(b))\n",
        "print(\"\\n\")\n",
        "print(\"---------------------------------------------------------------\")\n",
        "# TUPLES\n",
        "c = (12,23,423,423,52)\n",
        "print(c)\n",
        "print(type(c))\n",
        "print(\"---------------------------------------------------------------\")\n",
        "# a tuple can handle a mix of data types\n",
        "d = (\"Mumbai\",12,123.45,True)\n",
        "print(d)\n",
        "print(type(d))"
      ],
      "metadata": {
        "colab": {
          "base_uri": "https://localhost:8080/"
        },
        "id": "Werv5-tBl55h",
        "outputId": "7ef25720-42cd-4e4d-80aa-04b44f2b7049"
      },
      "execution_count": null,
      "outputs": [
        {
          "output_type": "stream",
          "name": "stdout",
          "text": [
            "[12, 23, 423, 423, 52]\n",
            "<class 'list'>\n",
            "---------------------------------------------------------------\n",
            "['Mumbai', 12, 123.45, True]\n",
            "<class 'list'>\n",
            "\n",
            "\n",
            "---------------------------------------------------------------\n",
            "(12, 23, 423, 423, 52)\n",
            "<class 'tuple'>\n",
            "---------------------------------------------------------------\n",
            "('Mumbai', 12, 123.45, True)\n",
            "<class 'tuple'>\n"
          ]
        }
      ]
    },
    {
      "cell_type": "code",
      "source": [
        "# lists and tuples\n",
        "# lists are mutable : data elements can be changed: removed,deleted,updated,replaced\n",
        "# tuples are immutable : data elements cannot be changed :"
      ],
      "metadata": {
        "id": "hk1nXxDll58f"
      },
      "execution_count": null,
      "outputs": []
    },
    {
      "cell_type": "code",
      "source": [
        "# accessing the element\n",
        "a = [12,413,4,513,5143,5123,5136,523] # 0 to 7\n",
        "# accessing the element : data_structure[index_position]\n",
        "print(\"The element on the third index position is:\",a[3])\n",
        "print(\"The element on the sixth index position is:\",a[6])\n",
        "# indexing ALWAYS starts at 0 / counting"
      ],
      "metadata": {
        "id": "q6ra60eQTEQc",
        "colab": {
          "base_uri": "https://localhost:8080/"
        },
        "outputId": "e45f59cc-7356-452f-ca16-52c8b3ce55a1"
      },
      "execution_count": null,
      "outputs": [
        {
          "output_type": "stream",
          "name": "stdout",
          "text": [
            "The element on the third index position is: 513\n",
            "The element on the sixth index position is: 5136\n"
          ]
        }
      ]
    },
    {
      "cell_type": "code",
      "source": [
        "# lists are mutable\n",
        "list_a = [1,2,3,4,5,6,7,8,9,10]\n",
        "\n",
        "list_a[5] = \"Mumbai\"\n",
        "# in the list_a, element at index position 5 (that is 6),\n",
        "# to be replaced with 250\n",
        "\n",
        "print(list_a)"
      ],
      "metadata": {
        "id": "iiWvEfecKX77",
        "colab": {
          "base_uri": "https://localhost:8080/"
        },
        "outputId": "e9343d0f-4488-470d-a105-e4666860c8e6"
      },
      "execution_count": null,
      "outputs": [
        {
          "output_type": "stream",
          "name": "stdout",
          "text": [
            "[1, 2, 3, 4, 5, 'Mumbai', 7, 8, 9, 10]\n"
          ]
        }
      ]
    },
    {
      "cell_type": "code",
      "source": [
        "# tuples are immutable\n",
        "# TypeError: 'tuple' object does not support item assignment\n",
        "\n",
        "tuple_a = (1,2,3,4,5,6,7,8,9,10)\n",
        "\n",
        "tuple_a[5] = 250\n",
        "# in the list_a, element at index position 5 (that is 6),\n",
        "# to be replaced with 250\n",
        "\n",
        "print(tuple_a)"
      ],
      "metadata": {
        "colab": {
          "base_uri": "https://localhost:8080/",
          "height": 216
        },
        "id": "FP0ZS7rYrHYH",
        "outputId": "6af7fa83-e27c-478e-f9f4-2e395579d5e7"
      },
      "execution_count": null,
      "outputs": [
        {
          "output_type": "error",
          "ename": "TypeError",
          "evalue": "'tuple' object does not support item assignment",
          "traceback": [
            "\u001b[0;31m---------------------------------------------------------------------------\u001b[0m",
            "\u001b[0;31mTypeError\u001b[0m                                 Traceback (most recent call last)",
            "\u001b[0;32m<ipython-input-69-1140388d4fe9>\u001b[0m in \u001b[0;36m<cell line: 4>\u001b[0;34m()\u001b[0m\n\u001b[1;32m      2\u001b[0m \u001b[0mtuple_a\u001b[0m \u001b[0;34m=\u001b[0m \u001b[0;34m(\u001b[0m\u001b[0;36m1\u001b[0m\u001b[0;34m,\u001b[0m\u001b[0;36m2\u001b[0m\u001b[0;34m,\u001b[0m\u001b[0;36m3\u001b[0m\u001b[0;34m,\u001b[0m\u001b[0;36m4\u001b[0m\u001b[0;34m,\u001b[0m\u001b[0;36m5\u001b[0m\u001b[0;34m,\u001b[0m\u001b[0;36m6\u001b[0m\u001b[0;34m,\u001b[0m\u001b[0;36m7\u001b[0m\u001b[0;34m,\u001b[0m\u001b[0;36m8\u001b[0m\u001b[0;34m,\u001b[0m\u001b[0;36m9\u001b[0m\u001b[0;34m,\u001b[0m\u001b[0;36m10\u001b[0m\u001b[0;34m)\u001b[0m\u001b[0;34m\u001b[0m\u001b[0;34m\u001b[0m\u001b[0m\n\u001b[1;32m      3\u001b[0m \u001b[0;34m\u001b[0m\u001b[0m\n\u001b[0;32m----> 4\u001b[0;31m \u001b[0mtuple_a\u001b[0m\u001b[0;34m[\u001b[0m\u001b[0;36m5\u001b[0m\u001b[0;34m]\u001b[0m \u001b[0;34m=\u001b[0m \u001b[0;36m250\u001b[0m\u001b[0;34m\u001b[0m\u001b[0;34m\u001b[0m\u001b[0m\n\u001b[0m\u001b[1;32m      5\u001b[0m \u001b[0;31m# in the list_a, element at index position 5 (that is 6),\u001b[0m\u001b[0;34m\u001b[0m\u001b[0;34m\u001b[0m\u001b[0m\n\u001b[1;32m      6\u001b[0m \u001b[0;31m# to be replaced with 250\u001b[0m\u001b[0;34m\u001b[0m\u001b[0;34m\u001b[0m\u001b[0m\n",
            "\u001b[0;31mTypeError\u001b[0m: 'tuple' object does not support item assignment"
          ]
        }
      ]
    },
    {
      "cell_type": "code",
      "source": [
        "# dictionaries : {}\n",
        "# key value pairs\n",
        "# syntax : {\"key\":\"value\"}\n",
        "\n",
        "# define mutliple values , they should preferrably go inside the list\n",
        "\n",
        "customer_details = {\"name\":[\"A\",\"B\",\"C\"],\n",
        "                    \"age\":(23,24,25),\n",
        "                    \"city\":[\"D\",\"E\",\"F\"]\n",
        "                    }\n",
        "\n",
        "print(customer_details)\n",
        "print(type(customer_details))\n",
        "print(\"Keys:\",customer_details.keys())\n",
        "print(\"Values:\",customer_details.values())\n",
        "\n",
        "# excel sheet : column names : keys\n",
        "# records : values"
      ],
      "metadata": {
        "colab": {
          "base_uri": "https://localhost:8080/"
        },
        "id": "6dX1Rop0rHa5",
        "outputId": "57d442b3-fc0f-462e-f107-aa0e55730002"
      },
      "execution_count": null,
      "outputs": [
        {
          "output_type": "stream",
          "name": "stdout",
          "text": [
            "{'name': ['A', 'B', 'C'], 'age': (23, 24, 25), 'city': ['D', 'E', 'F']}\n",
            "<class 'dict'>\n",
            "Keys: dict_keys(['name', 'age', 'city'])\n",
            "Values: dict_values([['A', 'B', 'C'], (23, 24, 25), ['D', 'E', 'F']])\n"
          ]
        }
      ]
    },
    {
      "cell_type": "code",
      "source": [
        "a = [1,2,3]\n",
        "b = [4,5,6]\n",
        "# when we add the two lists, they concatenate or join\n",
        "print(a+b)"
      ],
      "metadata": {
        "colab": {
          "base_uri": "https://localhost:8080/"
        },
        "id": "IMe_rl2Fs7aN",
        "outputId": "7b68bbac-3279-4553-c0b8-df2ee464eaea"
      },
      "execution_count": null,
      "outputs": [
        {
          "output_type": "stream",
          "name": "stdout",
          "text": [
            "[1, 2, 3, 4, 5, 6]\n"
          ]
        }
      ]
    },
    {
      "cell_type": "code",
      "source": [
        "a= [1,2,3,4,45,5,5,7]\n",
        "\n",
        "a.append(100)\n",
        "# in a single attempt, can only append 1 element, mutliple will throw error\n",
        "print(a)"
      ],
      "metadata": {
        "colab": {
          "base_uri": "https://localhost:8080/"
        },
        "id": "bPQq1Mits7dJ",
        "outputId": "39e32b1f-45c2-446a-c06f-6ed6f8fddaf1"
      },
      "execution_count": null,
      "outputs": [
        {
          "output_type": "stream",
          "name": "stdout",
          "text": [
            "[1, 2, 3, 4, 45, 5, 5, 7, 100]\n"
          ]
        }
      ]
    },
    {
      "cell_type": "code",
      "source": [
        "b= [1,2,3,4,45,5,5,7]\n",
        "\n",
        "b.append(100,200,300)\n",
        "print(b)"
      ],
      "metadata": {
        "colab": {
          "base_uri": "https://localhost:8080/",
          "height": 198
        },
        "id": "XTTG8XMdyszx",
        "outputId": "bfa982fc-20eb-46e9-94d3-36fbf78da439"
      },
      "execution_count": null,
      "outputs": [
        {
          "output_type": "error",
          "ename": "TypeError",
          "evalue": "list.append() takes exactly one argument (3 given)",
          "traceback": [
            "\u001b[0;31m---------------------------------------------------------------------------\u001b[0m",
            "\u001b[0;31mTypeError\u001b[0m                                 Traceback (most recent call last)",
            "\u001b[0;32m<ipython-input-88-a9ccec36bd9a>\u001b[0m in \u001b[0;36m<cell line: 3>\u001b[0;34m()\u001b[0m\n\u001b[1;32m      1\u001b[0m \u001b[0mb\u001b[0m\u001b[0;34m=\u001b[0m \u001b[0;34m[\u001b[0m\u001b[0;36m1\u001b[0m\u001b[0;34m,\u001b[0m\u001b[0;36m2\u001b[0m\u001b[0;34m,\u001b[0m\u001b[0;36m3\u001b[0m\u001b[0;34m,\u001b[0m\u001b[0;36m4\u001b[0m\u001b[0;34m,\u001b[0m\u001b[0;36m45\u001b[0m\u001b[0;34m,\u001b[0m\u001b[0;36m5\u001b[0m\u001b[0;34m,\u001b[0m\u001b[0;36m5\u001b[0m\u001b[0;34m,\u001b[0m\u001b[0;36m7\u001b[0m\u001b[0;34m]\u001b[0m\u001b[0;34m\u001b[0m\u001b[0;34m\u001b[0m\u001b[0m\n\u001b[1;32m      2\u001b[0m \u001b[0;34m\u001b[0m\u001b[0m\n\u001b[0;32m----> 3\u001b[0;31m \u001b[0mb\u001b[0m\u001b[0;34m.\u001b[0m\u001b[0mappend\u001b[0m\u001b[0;34m(\u001b[0m\u001b[0;36m100\u001b[0m\u001b[0;34m,\u001b[0m\u001b[0;36m200\u001b[0m\u001b[0;34m,\u001b[0m\u001b[0;36m300\u001b[0m\u001b[0;34m)\u001b[0m\u001b[0;34m\u001b[0m\u001b[0;34m\u001b[0m\u001b[0m\n\u001b[0m\u001b[1;32m      4\u001b[0m \u001b[0mprint\u001b[0m\u001b[0;34m(\u001b[0m\u001b[0mb\u001b[0m\u001b[0;34m)\u001b[0m\u001b[0;34m\u001b[0m\u001b[0;34m\u001b[0m\u001b[0m\n",
            "\u001b[0;31mTypeError\u001b[0m: list.append() takes exactly one argument (3 given)"
          ]
        }
      ]
    },
    {
      "cell_type": "code",
      "source": [
        "b= [1,2,3,4,45,5,5,7]\n",
        "\n",
        "b.extend([100,200,300])\n",
        "\n",
        "# .extend : inside .extend pass a list of elements to be added to\n",
        "# this is for 2 or more elements\n",
        "print(b)"
      ],
      "metadata": {
        "colab": {
          "base_uri": "https://localhost:8080/"
        },
        "id": "IvJ9rKbbys2q",
        "outputId": "f4879ad6-de3b-4cf6-fe24-cdea9c382678"
      },
      "execution_count": null,
      "outputs": [
        {
          "output_type": "stream",
          "name": "stdout",
          "text": [
            "[1, 2, 3, 4, 45, 5, 5, 7, 100, 200, 300]\n"
          ]
        }
      ]
    },
    {
      "cell_type": "code",
      "source": [
        "tuple_a = (1,2,3,4,5,6,7,8,9,10)\n",
        "print(\"Tuple is :\",tuple_a)\n",
        "list_a = list(tuple_a)\n",
        "print(\"Tuple converted to the list is:\",list_a)\n",
        "print(type(list_a))\n",
        "\n",
        "list_a[4] = 55\n",
        "\n",
        "print(\"after doing alteration\",list_a)\n",
        "\n",
        "tuple_a = tuple(list_a)\n",
        "print(\"tuple after conversion and alteration looks like:\", tuple_a)\n"
      ],
      "metadata": {
        "id": "pgOZjm1bKCS_",
        "colab": {
          "base_uri": "https://localhost:8080/"
        },
        "outputId": "56934e20-9170-4489-87b0-36c255842944"
      },
      "execution_count": null,
      "outputs": [
        {
          "output_type": "stream",
          "name": "stdout",
          "text": [
            "Tuple is : (1, 2, 3, 4, 5, 6, 7, 8, 9, 10)\n",
            "Tuple converted to the list is: [1, 2, 3, 4, 5, 6, 7, 8, 9, 10]\n",
            "<class 'list'>\n",
            "after doing alteration [1, 2, 3, 4, 55, 6, 7, 8, 9, 10]\n",
            "tuple after conversion and alteration looks like: (1, 2, 3, 4, 55, 6, 7, 8, 9, 10)\n"
          ]
        }
      ]
    },
    {
      "cell_type": "code",
      "source": [
        "# syntax\n",
        "\n",
        "if condition:\n",
        "  output # space at the start is called as indentation\n",
        "else:\n",
        "  output"
      ],
      "metadata": {
        "id": "sFONCxie0oEL"
      },
      "execution_count": null,
      "outputs": []
    },
    {
      "cell_type": "code",
      "source": [
        "a = 10\n",
        "\n",
        "if a == 100:\n",
        "  print(\"a is equal to 100\")\n",
        "else:\n",
        "  print(\"a is not equal to 100\")"
      ],
      "metadata": {
        "colab": {
          "base_uri": "https://localhost:8080/"
        },
        "id": "1org2YXnIoPU",
        "outputId": "e7c4a547-d216-4d87-8866-cf888147ddef"
      },
      "execution_count": null,
      "outputs": [
        {
          "output_type": "stream",
          "name": "stdout",
          "text": [
            "a is not equal to 100\n"
          ]
        }
      ]
    },
    {
      "cell_type": "code",
      "source": [
        "a = int(input(\"Enter the number here: \"))\n",
        "\n",
        "if a > 100:\n",
        "  print(\"a is greater than 100\")\n",
        "else:\n",
        "  print(\"a is not greater than 100\")"
      ],
      "metadata": {
        "colab": {
          "base_uri": "https://localhost:8080/"
        },
        "id": "8vjU0o9DIoR8",
        "outputId": "9592a089-be05-4cfd-f9dc-5b6d1c7d7f15"
      },
      "execution_count": null,
      "outputs": [
        {
          "output_type": "stream",
          "name": "stdout",
          "text": [
            "Enter the number here: 890\n",
            "a is greater than 100\n"
          ]
        }
      ]
    },
    {
      "cell_type": "code",
      "source": [],
      "metadata": {
        "id": "oEsq8RMfKOuP"
      },
      "execution_count": null,
      "outputs": []
    },
    {
      "cell_type": "code",
      "source": [],
      "metadata": {
        "id": "_srKFNmWH1R-"
      },
      "execution_count": null,
      "outputs": []
    },
    {
      "cell_type": "code",
      "source": [],
      "metadata": {
        "id": "0FzKjtYm0oH7"
      },
      "execution_count": null,
      "outputs": []
    },
    {
      "cell_type": "code",
      "source": [
        "# .format method\n",
        "# optional\n",
        "# placeholder method : .format method\n",
        "\n",
        "stock_price = float(input(\"Enter the price here: \"))\n",
        "\n",
        "company = input(\"Enter the company name: \")\n",
        "\n",
        "print(\"The stock price rose to {} and company is {}\".format(stock_price, company))"
      ],
      "metadata": {
        "id": "vahhVlCC84eC",
        "colab": {
          "base_uri": "https://localhost:8080/"
        },
        "outputId": "2e42aff2-6727-4f3b-fc5e-d892369eb654"
      },
      "execution_count": null,
      "outputs": [
        {
          "output_type": "stream",
          "name": "stdout",
          "text": [
            "Enter the price here: 23.45\n",
            "Enter the company name: Tesla\n",
            "The stock price rose to 23.45 and company is Tesla\n"
          ]
        }
      ]
    },
    {
      "cell_type": "code",
      "source": [],
      "metadata": {
        "id": "bBZRdV5tHkwf"
      },
      "execution_count": null,
      "outputs": []
    },
    {
      "cell_type": "code",
      "source": [],
      "metadata": {
        "id": "q5x-v3NzVgUN"
      },
      "execution_count": null,
      "outputs": []
    },
    {
      "cell_type": "code",
      "source": [],
      "metadata": {
        "id": "nifFL_L0VgW9"
      },
      "execution_count": null,
      "outputs": []
    },
    {
      "cell_type": "code",
      "source": [
        "# .format method\n",
        "# optional\n",
        "# placeholder method : .format method\n",
        "\n",
        "stock_price = float(input(\"Enter the price here: \"))\n",
        "\n",
        "company = input(\"Enter the company name: \")\n",
        "\n",
        "print(\"The stock price rose to {} and company is {}\".format(stock_price, company))"
      ],
      "metadata": {
        "id": "0Q2oihiOHkzG"
      },
      "execution_count": null,
      "outputs": []
    },
    {
      "cell_type": "code",
      "source": [
        "name = \"Satish\"\n",
        "age = 44\n",
        "\n",
        "#print(name,\"is\",age,\"years old\")\n",
        "\n",
        "print(\"{} is {} years old\".format(name,age))"
      ],
      "metadata": {
        "id": "xW7qRe9rIfH5"
      },
      "execution_count": null,
      "outputs": []
    },
    {
      "cell_type": "code",
      "source": [
        "# f string method\n",
        "\n",
        "name = \"Satish\"\n",
        "age = 44\n",
        "\n",
        "print(f\"{name} is {age} years old\")"
      ],
      "metadata": {
        "id": "stC35RCQ7gYv"
      },
      "execution_count": null,
      "outputs": []
    },
    {
      "cell_type": "code",
      "source": [],
      "metadata": {
        "id": "COOrqjkH7XWP"
      },
      "execution_count": null,
      "outputs": []
    },
    {
      "cell_type": "code",
      "source": [
        "# formating numbers\n",
        "\n",
        "pi = 3.14159265359\n",
        "\n",
        "print(\"The value of pi is: {}\".format(pi))\n"
      ],
      "metadata": {
        "id": "j7JAxOBuHk03"
      },
      "execution_count": null,
      "outputs": []
    },
    {
      "cell_type": "code",
      "source": [
        "pi = 3.14159265359\n",
        "formatted = \"Pi rounded to 2 decimal places: {:.2f}\".format(pi)\n",
        "\n",
        "print(formatted)"
      ],
      "metadata": {
        "id": "lrbP3k6mIdoy"
      },
      "execution_count": null,
      "outputs": []
    },
    {
      "cell_type": "code",
      "source": [
        "# condition check\n",
        "# = : assign the value to variable\n",
        "# == : condition checking : to check if it meets the condition\n",
        "a = 10\n",
        "print(a == 1) # is a really equal to 1 ?"
      ],
      "metadata": {
        "colab": {
          "base_uri": "https://localhost:8080/"
        },
        "id": "nh83S1oMVzy-",
        "outputId": "9b49d2dc-1f93-4329-d94c-7607b1e79bc1"
      },
      "execution_count": null,
      "outputs": [
        {
          "output_type": "stream",
          "name": "stdout",
          "text": [
            "False\n"
          ]
        }
      ]
    },
    {
      "cell_type": "code",
      "source": [
        "# data structures in python\n",
        "# how is data to be stored\n",
        "\n",
        "# lists, tuples, dictionaries\n",
        "\n",
        "# lists : data defined in [] : square brackets\n",
        "# tuples : data defined in () : round brackets\n",
        "# dictionary : data defined in {} : curly brackets"
      ],
      "metadata": {
        "id": "aqu1s4bdV479"
      },
      "execution_count": null,
      "outputs": []
    },
    {
      "cell_type": "code",
      "source": [
        "a = [12,23,34,52,45,75]\n",
        "print(a)\n",
        "print(type(a))\n",
        "\n",
        "b = (12,3,1242,35,235,52)\n",
        "print(b)\n",
        "print(type(b))\n",
        "\n",
        "# dictionary : {\"key\":\"value\"}\n",
        "# \"key\" : name of the column\n",
        "# \"value\" : values/records in that column\n",
        "\n",
        "details = {\"name\":\"Chirantan\",\n",
        "           \"age\":23,\n",
        "           \"city\":\"Mumbai\"}\n",
        "print(details)\n",
        "print(type(details))"
      ],
      "metadata": {
        "colab": {
          "base_uri": "https://localhost:8080/"
        },
        "id": "_WohTrXdV4G2",
        "outputId": "db989232-88c6-4c11-d94b-d7c0cb7bc5b0"
      },
      "execution_count": null,
      "outputs": [
        {
          "output_type": "stream",
          "name": "stdout",
          "text": [
            "[12, 23, 34, 52, 45, 75]\n",
            "<class 'list'>\n",
            "(12, 3, 1242, 35, 235, 52)\n",
            "<class 'tuple'>\n",
            "{'name': 'Chirantan', 'age': 23, 'city': 'Mumbai'}\n",
            "<class 'dict'>\n"
          ]
        }
      ]
    },
    {
      "cell_type": "code",
      "source": [
        "stocks = [12,4,214,434,35,243,5]\n",
        "\n",
        "# access the element at index position 4\n",
        "# define the index position inside []\n",
        "print(stocks[4])\n",
        "\n",
        "print(\"Element at index position 1 is:\",stocks[1])"
      ],
      "metadata": {
        "colab": {
          "base_uri": "https://localhost:8080/"
        },
        "id": "6PwK3tf3V4Jl",
        "outputId": "b91a1f98-3e6d-4943-af2b-0cac263e8abf"
      },
      "execution_count": null,
      "outputs": [
        {
          "output_type": "stream",
          "name": "stdout",
          "text": [
            "35\n",
            "Element at index position 1 is: 4\n"
          ]
        }
      ]
    },
    {
      "cell_type": "code",
      "source": [
        "list_a = [12,12.4,\"Mumbai\",True]\n",
        "# inside the list, you can define multiple data types\n",
        "print(type(list_a))\n",
        "\n",
        "tuple_a = (12,12.4,\"Mumbai\",True)\n",
        "# even inside the tuple, you can define multiple data types\n",
        "print(type(tuple_a))\n"
      ],
      "metadata": {
        "colab": {
          "base_uri": "https://localhost:8080/"
        },
        "id": "F_OZnfHZVz2N",
        "outputId": "8ec1c926-bf71-4ba7-ff0d-04f6227a76d7"
      },
      "execution_count": null,
      "outputs": [
        {
          "output_type": "stream",
          "name": "stdout",
          "text": [
            "<class 'list'>\n",
            "<class 'tuple'>\n"
          ]
        }
      ]
    },
    {
      "cell_type": "code",
      "source": [
        "# lists are mutable, which means the elements inside the list can be changed\n",
        "# tuples are immutable, which means the elements inside the tuple CANNOT be changed"
      ],
      "metadata": {
        "id": "iykr3gDYVz8A"
      },
      "execution_count": null,
      "outputs": []
    },
    {
      "cell_type": "code",
      "source": [
        "list_a =[12,412,42,3523,525,46]\n",
        "\n",
        "list_a[2] = 400\n",
        "\n",
        "print(list_a)\n",
        "\n",
        "# this proves that LISTS ARE MUTABLE"
      ],
      "metadata": {
        "colab": {
          "base_uri": "https://localhost:8080/"
        },
        "id": "JewzB8ihb7L9",
        "outputId": "0aaa0e29-3004-484a-ce70-b8cc0c306abe"
      },
      "execution_count": null,
      "outputs": [
        {
          "output_type": "stream",
          "name": "stdout",
          "text": [
            "[12, 412, 400, 3523, 525, 46]\n"
          ]
        }
      ]
    },
    {
      "cell_type": "code",
      "source": [
        "tuple_a = (12,412,42,3523,525,46)\n",
        "\n",
        "tuple_a[2] = 400\n",
        "\n",
        "print(tuple_a)\n",
        "\n",
        "# this proves that TUPLES ARE IMMUTABLE"
      ],
      "metadata": {
        "colab": {
          "base_uri": "https://localhost:8080/",
          "height": 216
        },
        "id": "6jcboly8b7Ot",
        "outputId": "36858985-7e81-4b15-88ae-d286e7d3e85b"
      },
      "execution_count": null,
      "outputs": [
        {
          "output_type": "error",
          "ename": "TypeError",
          "evalue": "'tuple' object does not support item assignment",
          "traceback": [
            "\u001b[0;31m---------------------------------------------------------------------------\u001b[0m",
            "\u001b[0;31mTypeError\u001b[0m                                 Traceback (most recent call last)",
            "\u001b[0;32m<ipython-input-73-85cfe7c443ca>\u001b[0m in \u001b[0;36m<cell line: 3>\u001b[0;34m()\u001b[0m\n\u001b[1;32m      1\u001b[0m \u001b[0mtuple_a\u001b[0m \u001b[0;34m=\u001b[0m \u001b[0;34m(\u001b[0m\u001b[0;36m12\u001b[0m\u001b[0;34m,\u001b[0m\u001b[0;36m412\u001b[0m\u001b[0;34m,\u001b[0m\u001b[0;36m42\u001b[0m\u001b[0;34m,\u001b[0m\u001b[0;36m3523\u001b[0m\u001b[0;34m,\u001b[0m\u001b[0;36m525\u001b[0m\u001b[0;34m,\u001b[0m\u001b[0;36m46\u001b[0m\u001b[0;34m)\u001b[0m\u001b[0;34m\u001b[0m\u001b[0;34m\u001b[0m\u001b[0m\n\u001b[1;32m      2\u001b[0m \u001b[0;34m\u001b[0m\u001b[0m\n\u001b[0;32m----> 3\u001b[0;31m \u001b[0mtuple_a\u001b[0m\u001b[0;34m[\u001b[0m\u001b[0;36m2\u001b[0m\u001b[0;34m]\u001b[0m \u001b[0;34m=\u001b[0m \u001b[0;36m400\u001b[0m\u001b[0;34m\u001b[0m\u001b[0;34m\u001b[0m\u001b[0m\n\u001b[0m\u001b[1;32m      4\u001b[0m \u001b[0;34m\u001b[0m\u001b[0m\n\u001b[1;32m      5\u001b[0m \u001b[0mprint\u001b[0m\u001b[0;34m(\u001b[0m\u001b[0mtuple_a\u001b[0m\u001b[0;34m)\u001b[0m\u001b[0;34m\u001b[0m\u001b[0;34m\u001b[0m\u001b[0m\n",
            "\u001b[0;31mTypeError\u001b[0m: 'tuple' object does not support item assignment"
          ]
        }
      ]
    },
    {
      "cell_type": "code",
      "source": [
        "details = {\"name\":[\"A\",\"B\",\"C\"] ,\n",
        "           \"age\":[23,25,52],\n",
        "           \"city\":[\"X\",\"Y\",\"Z\"]}\n",
        "print(details)\n",
        "print(type(details))"
      ],
      "metadata": {
        "colab": {
          "base_uri": "https://localhost:8080/"
        },
        "id": "BRXlxgWxb7RO",
        "outputId": "79cc8cf0-ffbb-43bd-d81c-15a8bca0fded"
      },
      "execution_count": null,
      "outputs": [
        {
          "output_type": "stream",
          "name": "stdout",
          "text": [
            "{'name': ['A', 'B', 'C'], 'age': [23, 25, 52], 'city': ['X', 'Y', 'Z']}\n",
            "<class 'dict'>\n"
          ]
        }
      ]
    },
    {
      "cell_type": "code",
      "source": [],
      "metadata": {
        "id": "wdNuM4-yf1iY"
      },
      "execution_count": null,
      "outputs": []
    },
    {
      "cell_type": "markdown",
      "source": [
        "## If-else loops"
      ],
      "metadata": {
        "id": "t8SwAP9xjAeN"
      }
    },
    {
      "cell_type": "code",
      "source": [
        "a = 5\n",
        "\n",
        "if a==5:\n",
        "  print(\"a is equal to 5\") # space before print is called indentation\n",
        "else: # is the opposite of if\n",
        "  print(\"a is not equal to 5\")\n"
      ],
      "metadata": {
        "colab": {
          "base_uri": "https://localhost:8080/"
        },
        "id": "wZT1nwjNf1ti",
        "outputId": "0f44c92e-936b-4fd7-f19b-14c334f25648"
      },
      "execution_count": null,
      "outputs": [
        {
          "output_type": "stream",
          "name": "stdout",
          "text": [
            "a is not equal to 5\n"
          ]
        }
      ]
    },
    {
      "cell_type": "code",
      "source": [
        "a = int(input(\"Enter number 1 here: \"))\n",
        "b = int(input(\"Enter number 2 here: \"))\n",
        "\n",
        "if a+b > 100:\n",
        "  print(\"A\")\n",
        "else:\n",
        "  print(\"B\")"
      ],
      "metadata": {
        "colab": {
          "base_uri": "https://localhost:8080/"
        },
        "id": "x8iqGVmgKacO",
        "outputId": "d60c1739-0f01-4318-8805-dc60bdf8161c"
      },
      "execution_count": null,
      "outputs": [
        {
          "output_type": "stream",
          "name": "stdout",
          "text": [
            "Enter number 1 here: 90\n",
            "Enter number 2 here: 90\n",
            "A\n"
          ]
        }
      ]
    },
    {
      "cell_type": "code",
      "source": [
        "# if-elif-else\n",
        "# you can have as many elifs as possible\n",
        "\n",
        "x = 9\n",
        "\n",
        "if x>0:\n",
        "  print(\"Positive\")\n",
        "elif x == 0:\n",
        "  print(\"It is Zero\")\n",
        "else:\n",
        "  print(\"Negative\")"
      ],
      "metadata": {
        "colab": {
          "base_uri": "https://localhost:8080/"
        },
        "id": "4-gEygaWLvmK",
        "outputId": "a682e873-7340-4181-f19b-d69cb4d250aa"
      },
      "execution_count": null,
      "outputs": [
        {
          "output_type": "stream",
          "name": "stdout",
          "text": [
            "Positive\n"
          ]
        }
      ]
    },
    {
      "cell_type": "code",
      "source": [],
      "metadata": {
        "id": "Rof_Stu5LvpL"
      },
      "execution_count": null,
      "outputs": []
    },
    {
      "cell_type": "code",
      "source": [],
      "metadata": {
        "id": "Z0IK1A_4Kgap"
      },
      "execution_count": null,
      "outputs": []
    },
    {
      "cell_type": "code",
      "source": [],
      "metadata": {
        "id": "bqNgN9bbKafP"
      },
      "execution_count": null,
      "outputs": []
    },
    {
      "cell_type": "code",
      "source": [
        "x = 700\n",
        "y = 10\n",
        "\n",
        "if x+y > 100:\n",
        "  print(\"A\")\n",
        "else:\n",
        "  print(\"B\")"
      ],
      "metadata": {
        "colab": {
          "base_uri": "https://localhost:8080/"
        },
        "id": "6dHuBELSkr5i",
        "outputId": "8edc77f1-ba45-47f9-d722-eb531c031ffe"
      },
      "execution_count": null,
      "outputs": [
        {
          "output_type": "stream",
          "name": "stdout",
          "text": [
            "A\n"
          ]
        }
      ]
    },
    {
      "cell_type": "code",
      "source": [
        "# if-elif- else loop\n",
        "\n",
        "a = int(input(\"Enter number 1: \"))\n",
        "b = int(input(\"Enter number 2: \"))\n",
        "\n",
        "if a>b:\n",
        "  print(\"a is greater than b\")\n",
        "elif a == b:\n",
        "  print(\"a is equal to b\")\n",
        "else:\n",
        "  print(\"b is greater than a\")"
      ],
      "metadata": {
        "colab": {
          "base_uri": "https://localhost:8080/"
        },
        "id": "vN1oTcXamH18",
        "outputId": "ff3523e0-3c12-467a-9fb9-de6ad928cd60"
      },
      "execution_count": null,
      "outputs": [
        {
          "output_type": "stream",
          "name": "stdout",
          "text": [
            "Enter number 1: 12\n",
            "Enter number 2: 12\n",
            "a is equal to b\n"
          ]
        }
      ]
    },
    {
      "cell_type": "markdown",
      "source": [
        "## if-elif-else loops"
      ],
      "metadata": {
        "id": "s_q_zsGTm9qK"
      }
    },
    {
      "cell_type": "code",
      "source": [
        "x = 0\n",
        "\n",
        "if x>0:\n",
        "  print(\"Positive\")\n",
        "elif x == 0:\n",
        "  print(\"Zero\")\n",
        "else:\n",
        "  print(\"Negative\")"
      ],
      "metadata": {
        "colab": {
          "base_uri": "https://localhost:8080/"
        },
        "id": "B61NNbvkmXto",
        "outputId": "6a73ad37-b21b-46ff-c198-fd66d7657e7e"
      },
      "execution_count": null,
      "outputs": [
        {
          "output_type": "stream",
          "name": "stdout",
          "text": [
            "Zero\n"
          ]
        }
      ]
    },
    {
      "cell_type": "code",
      "source": [
        "age = int(input(\"Enter your age here: \"))\n",
        "\n",
        "if age > 50:\n",
        "  print('Age is greater than 50')\n",
        "elif (age>=40) and (age<=50):\n",
        "  print(\"Age is between 40 and 50\")\n",
        "elif (age>=30) and (age<40):\n",
        "  print(\"Age is between 30 and 40\")\n",
        "elif (age< 30) and (age>=21):\n",
        "  print(\"Age is between 21 and 30\")\n",
        "else:\n",
        "  print(\"Age is less than 21\")\n"
      ],
      "metadata": {
        "colab": {
          "base_uri": "https://localhost:8080/"
        },
        "id": "23L7_SNOmXwW",
        "outputId": "b49c571b-ffbe-4a23-f2c9-c2b640d37d9e"
      },
      "execution_count": null,
      "outputs": [
        {
          "output_type": "stream",
          "name": "stdout",
          "text": [
            "Enter your age here: 34\n",
            "Age is between 30 and 40\n"
          ]
        }
      ]
    },
    {
      "cell_type": "code",
      "source": [
        "number = int(input(\"Enter the number: \"))\n",
        "\n",
        "if number % 2 == 0:\n",
        "  print(\"Number is even\")\n",
        "else:\n",
        "  print(\"Number is odd\")"
      ],
      "metadata": {
        "colab": {
          "base_uri": "https://localhost:8080/"
        },
        "id": "BHgaQkxLtgiX",
        "outputId": "e97dd277-e72a-4971-f4fe-c58d119ccd17"
      },
      "execution_count": null,
      "outputs": [
        {
          "output_type": "stream",
          "name": "stdout",
          "text": [
            "Enter the number: 78\n",
            "Number is even\n"
          ]
        }
      ]
    },
    {
      "cell_type": "code",
      "source": [
        "password = \"century\"\n",
        "\n",
        "user_input = input(\"Enter the password here: \")\n",
        "\n",
        "if user_input == password:\n",
        "  print(\"Password accepted\")\n",
        "else:\n",
        "  print(\"Invalid password\")"
      ],
      "metadata": {
        "colab": {
          "base_uri": "https://localhost:8080/"
        },
        "id": "HAx4_C6St3_V",
        "outputId": "0d83b549-a331-48bd-eb16-941dbe1c9942"
      },
      "execution_count": null,
      "outputs": [
        {
          "output_type": "stream",
          "name": "stdout",
          "text": [
            "Enter the password here: century\n",
            "Password accepted\n"
          ]
        }
      ]
    },
    {
      "cell_type": "code",
      "source": [
        "c"
      ],
      "metadata": {
        "id": "pyrWCCOZtglG"
      },
      "execution_count": null,
      "outputs": []
    },
    {
      "cell_type": "code",
      "source": [],
      "metadata": {
        "id": "r1FB0AhUb7YM"
      },
      "execution_count": null,
      "outputs": []
    },
    {
      "cell_type": "code",
      "source": [
        "# if-else loops\n",
        "\n",
        "a = 1\n",
        "\n",
        "if a>6:\n",
        "  print(\"a is greater than 6\") #indentation\n",
        "else:\n",
        "  print(\"a is not\")"
      ],
      "metadata": {
        "id": "KdKTOs3NIdrq"
      },
      "execution_count": null,
      "outputs": []
    },
    {
      "cell_type": "code",
      "source": [
        "x = 157\n",
        "# divisible by 5\n",
        "\n",
        "if x%5 == 0:\n",
        "  # % means completely divisible\n",
        "  print(\"x is divisible by 5\")\n",
        "else:\n",
        "  print(\"x is not divisible by 5\")"
      ],
      "metadata": {
        "id": "b9GkeBLlKh-o"
      },
      "execution_count": null,
      "outputs": []
    },
    {
      "cell_type": "code",
      "source": [
        "x = int(input(\"Enter the number here: \"))\n",
        "y = int(input(\"Enter the number here: \"))\n",
        "\n",
        "if x>y:\n",
        "  print(\"x is greater than y\")\n",
        "else:\n",
        "  print(\"y is greater than x\")"
      ],
      "metadata": {
        "id": "peSheWGlPVx5"
      },
      "execution_count": null,
      "outputs": []
    },
    {
      "cell_type": "code",
      "source": [
        "# if-elif-else loops\n",
        "\n",
        "x = 0\n",
        "\n",
        "if x>0:\n",
        "  print(\"x is positive\")\n",
        "elif x == 0: # you can as many elif's as possible.\n",
        "  print(\"neither negative nor positive\")\n",
        "else:\n",
        "  print(\"x is negative\")"
      ],
      "metadata": {
        "id": "H1-dxs6yRc52"
      },
      "execution_count": null,
      "outputs": []
    },
    {
      "cell_type": "code",
      "source": [
        "x=int(input(\"x=\"))\n",
        "y=int(input(\"y=\"))\n",
        "if x>y:\n",
        "  print(x,\"is greater than\",y)\n",
        "else:\n",
        "  print()"
      ],
      "metadata": {
        "id": "JkRWOfDTPV0x"
      },
      "execution_count": null,
      "outputs": []
    },
    {
      "cell_type": "code",
      "source": [
        "# len() : it helps find the length of string\n",
        "\n",
        "a = \"Mumbai \"\n",
        "\n",
        "print(len(a))"
      ],
      "metadata": {
        "id": "72PSR99ZVJrB",
        "colab": {
          "base_uri": "https://localhost:8080/"
        },
        "outputId": "71ae195a-7edf-4c4d-cf36-7373c162bc86"
      },
      "execution_count": null,
      "outputs": [
        {
          "output_type": "stream",
          "name": "stdout",
          "text": [
            "7\n"
          ]
        }
      ]
    },
    {
      "cell_type": "code",
      "source": [
        "b = \"India is my country\"\n",
        "\n",
        "print(len(b))"
      ],
      "metadata": {
        "colab": {
          "base_uri": "https://localhost:8080/"
        },
        "id": "9oDTYEhSvmAO",
        "outputId": "5644acb1-6d27-477b-878d-07be001cdcf6"
      },
      "execution_count": null,
      "outputs": [
        {
          "output_type": "stream",
          "name": "stdout",
          "text": [
            "19\n"
          ]
        }
      ]
    },
    {
      "cell_type": "code",
      "source": [],
      "metadata": {
        "id": "NDQi7YAsVrfR"
      },
      "execution_count": null,
      "outputs": []
    },
    {
      "cell_type": "code",
      "source": [],
      "metadata": {
        "id": "J-Ff5NdgVrht"
      },
      "execution_count": null,
      "outputs": []
    },
    {
      "cell_type": "code",
      "source": [],
      "metadata": {
        "id": "Tw8YpNASPV2t"
      },
      "execution_count": null,
      "outputs": []
    },
    {
      "cell_type": "code",
      "source": [],
      "metadata": {
        "id": "OIu3fXeNKiBI"
      },
      "execution_count": null,
      "outputs": []
    },
    {
      "cell_type": "code",
      "source": [
        "a = 1\n",
        "\n",
        "print(a == 1.9)"
      ],
      "metadata": {
        "id": "HrgRVoTc84iQ"
      },
      "execution_count": null,
      "outputs": []
    },
    {
      "cell_type": "code",
      "source": [
        "# if else\n",
        "\n",
        "# syntax\n",
        "\n",
        "if condition:\n",
        "  output\n",
        "else:\n",
        "  output\n"
      ],
      "metadata": {
        "id": "1TrKiQ9_DnRC"
      },
      "execution_count": null,
      "outputs": []
    },
    {
      "cell_type": "code",
      "source": [
        "a = 20.32\n",
        "\n",
        "if a == 20:\n",
        "  print(\"correct\") # indentation\n",
        "else:\n",
        "  print(\"incorrect\")"
      ],
      "metadata": {
        "id": "5Vmd6sq2DnT8"
      },
      "execution_count": null,
      "outputs": []
    },
    {
      "cell_type": "code",
      "source": [
        "# length : len()\n",
        "\n",
        "text1 = \"Mumbai is the capital of Maharashtra \"\n",
        "\n",
        "print(len(text1))"
      ],
      "metadata": {
        "id": "rjBmhpfhDnWs"
      },
      "execution_count": null,
      "outputs": []
    },
    {
      "cell_type": "code",
      "source": [
        "x = input(\"Enter the code: \")\n",
        "\n",
        "if len(x) > 5:\n",
        "  print(\"code too lengthy.......\")\n",
        "elif len(x) == 5:\n",
        "  print(\"Exactly equal to 5\")\n",
        "else:\n",
        "  print(\"code is correct\")"
      ],
      "metadata": {
        "id": "XnrwHYYKDnZJ"
      },
      "execution_count": null,
      "outputs": []
    },
    {
      "cell_type": "code",
      "source": [
        "# variable conventions\n",
        "# pep8 encoding style guide\n",
        "\n",
        "# how do you name a variable ?\n",
        "\n",
        "# 1 . stock_price\n",
        "# 2. stockPrice (camel case) : 1st letter of the 2nd word is in uppercase\n",
        "\n",
        "# balance\n",
        "# BALANCE\n",
        "# Balance"
      ],
      "metadata": {
        "id": "HYXpHB6V81WP"
      },
      "execution_count": null,
      "outputs": []
    },
    {
      "cell_type": "code",
      "source": [
        "# conversion of lower and upper case\n",
        "a = \"mumbai\"\n",
        "\n",
        "print(a.upper())\n",
        "\n",
        "b = \"HYDERABAD\"\n",
        "\n",
        "print(b.lower())"
      ],
      "metadata": {
        "id": "pzTh2KeR81Yo",
        "colab": {
          "base_uri": "https://localhost:8080/"
        },
        "outputId": "79f7b488-12ca-441e-fa52-22b9d5bcd37e"
      },
      "execution_count": null,
      "outputs": [
        {
          "output_type": "stream",
          "name": "stdout",
          "text": [
            "MUMBAI\n",
            "hyderabad\n"
          ]
        }
      ]
    },
    {
      "cell_type": "code",
      "source": [],
      "metadata": {
        "id": "8I67jqfDwj2U"
      },
      "execution_count": null,
      "outputs": []
    },
    {
      "cell_type": "code",
      "source": [],
      "metadata": {
        "id": "OKjsi2hnwj5q"
      },
      "execution_count": null,
      "outputs": []
    },
    {
      "cell_type": "code",
      "source": [],
      "metadata": {
        "id": "1ft20ZEr81bV"
      },
      "execution_count": null,
      "outputs": []
    },
    {
      "cell_type": "code",
      "source": [
        "purchase_amount = float(input(\"Enter the purchase amount: \"))\n",
        "\n",
        "if purchase_amount >= 100:\n",
        "  discount = 0.1 * purchase_amount #10% as 0.1\n",
        "elif (purchase_amount >= 25) and (purchase_amount <= 90): # between 25 to 90\n",
        "  discount = 0.05 * purchase_amount\n",
        "else:\n",
        "  discount = 0\n",
        "\n",
        "final_amount = purchase_amount - discount\n",
        "print(\"Discount given is:  \",discount)\n",
        "print(\"Final amount to be billed is:  \",final_amount)"
      ],
      "metadata": {
        "id": "yVs14fwNDnbt",
        "colab": {
          "base_uri": "https://localhost:8080/"
        },
        "outputId": "27c083bb-0140-4740-d6d1-72e125001a8e"
      },
      "execution_count": null,
      "outputs": [
        {
          "output_type": "stream",
          "name": "stdout",
          "text": [
            "Enter the purchase amount: 510\n",
            "Discount given is:   51.0\n",
            "Final amount to be billed is:   459.0\n"
          ]
        }
      ]
    },
    {
      "cell_type": "code",
      "source": [
        "password = \"football\"\n",
        "\n",
        "user_input = input(\"Enter the password here: \")\n",
        "\n",
        "if user_input == password:\n",
        "  print(\"Password accepted\")\n",
        "else:\n",
        "  print(\"Invalid password\")"
      ],
      "metadata": {
        "colab": {
          "base_uri": "https://localhost:8080/"
        },
        "id": "MfhoHqw3zm40",
        "outputId": "1b39d19b-e5cb-46f4-c340-2a135b3037f8"
      },
      "execution_count": null,
      "outputs": [
        {
          "output_type": "stream",
          "name": "stdout",
          "text": [
            "Enter the password here: football\n",
            "Password accepted\n"
          ]
        }
      ]
    },
    {
      "cell_type": "code",
      "source": [
        "# data structures :\n",
        "\n",
        "# lists,tuples, dictionaries\n",
        "\n",
        "# lists : [] : square brackets\n",
        "# tuples : () : rounded brackets\n",
        "# dictionaries : {} : curly braces"
      ],
      "metadata": {
        "id": "_ir6UcG0zm9c"
      },
      "execution_count": null,
      "outputs": []
    },
    {
      "cell_type": "code",
      "source": [
        "# LISTS\n",
        "\n",
        "prices = [12,4,523,89.6,34,645,10]\n",
        "\n",
        "print(prices)\n",
        "\n",
        "print(type(prices))\n",
        "\n",
        "# lists are not limited to numerical data only\n",
        "# but it can take a mix of datatypes\n",
        "\n",
        "list_a = [12,13.5,\"Chirantan\",True]\n",
        "\n",
        "print(list_a)\n",
        "\n",
        "print(type(list_a))"
      ],
      "metadata": {
        "colab": {
          "base_uri": "https://localhost:8080/"
        },
        "id": "MGenPdrO5HxS",
        "outputId": "a556a370-e217-450d-fd01-21b1b88d4797"
      },
      "execution_count": null,
      "outputs": [
        {
          "output_type": "stream",
          "name": "stdout",
          "text": [
            "[12, 4, 523, 89.6, 34, 645, 10]\n",
            "<class 'list'>\n",
            "[12, 13.5, 'Chirantan', True]\n",
            "<class 'list'>\n"
          ]
        }
      ]
    },
    {
      "cell_type": "code",
      "source": [
        "# TUPLES\n",
        "\n",
        "\n",
        "prices = (12,4,523,89.6,34,645,10)\n",
        "\n",
        "print(prices)\n",
        "\n",
        "print(type(prices))\n",
        "\n",
        "# lists are not limited to numerical data only\n",
        "# but it can take a mix of datatypes\n",
        "\n",
        "tuple_a = (12,13.5,\"Chirantan\",True)\n",
        "\n",
        "print(tuple_a)\n",
        "\n",
        "print(type(tuple_a))"
      ],
      "metadata": {
        "colab": {
          "base_uri": "https://localhost:8080/"
        },
        "id": "83e59QSD5flJ",
        "outputId": "8da4654c-235f-4105-daaa-884128385db1"
      },
      "execution_count": null,
      "outputs": [
        {
          "output_type": "stream",
          "name": "stdout",
          "text": [
            "(12, 4, 523, 89.6, 34, 645, 10)\n",
            "<class 'tuple'>\n",
            "(12, 13.5, 'Chirantan', True)\n",
            "<class 'tuple'>\n"
          ]
        }
      ]
    },
    {
      "cell_type": "code",
      "source": [
        "# LISTS ARE MUTABLE\n",
        "# MUTABLE : CHANGED, DELETED,UPDATED,REMOVED,REPLACED\n",
        "\n",
        "# TUPLES ARE IMMUTABLE\n",
        "# IMMUTABLE : DATA POINTS ONCE DEFINED CANNOT BE CHANGED\n"
      ],
      "metadata": {
        "id": "v50HfjIa5foq"
      },
      "execution_count": null,
      "outputs": []
    },
    {
      "cell_type": "code",
      "source": [
        "# ACCESSING THE ELEMENT IN PYTHON\n",
        "# index in python starts at 0 (counting starts at 0 )\n",
        "\n",
        "prices = [12,4,523,89.6,34,645,10]\n",
        "\n",
        "# list[index position]\n",
        "# tuple[index position]\n",
        "\n",
        "# which element is present at 0th index position ?\n",
        "print(prices[0])\n",
        "\n",
        "# which element is present at 5th index position?\n",
        "print(prices[5])"
      ],
      "metadata": {
        "colab": {
          "base_uri": "https://localhost:8080/"
        },
        "id": "KtShB5_Z5H00",
        "outputId": "16d921d2-e51b-4f9d-aaf2-5cb855692938"
      },
      "execution_count": null,
      "outputs": [
        {
          "output_type": "stream",
          "name": "stdout",
          "text": [
            "12\n",
            "645\n"
          ]
        }
      ]
    },
    {
      "cell_type": "code",
      "source": [
        "#\n",
        "# ELEMENTS INSIDE slits ARE MUTABLE (CAN BE CHANGED)\n",
        "list_x  = [12,413,213,35,3254,2464,224]\n",
        "\n",
        "print(\"Before Replacing:\",list_x)\n",
        "\n",
        "# here we replace the 2nd index position element with 500\n",
        "list_x[2] = 500\n",
        "\n",
        "print(\"After Replacing:\",list_x)\n"
      ],
      "metadata": {
        "colab": {
          "base_uri": "https://localhost:8080/"
        },
        "id": "eCnOWJGl5H5D",
        "outputId": "8791b9e4-1bf1-4299-b90b-92dfcfffc390"
      },
      "execution_count": null,
      "outputs": [
        {
          "output_type": "stream",
          "name": "stdout",
          "text": [
            "Before Replacing: [12, 413, 213, 35, 3254, 2464, 224]\n",
            "After Replacing: [12, 413, 500, 35, 3254, 2464, 224]\n"
          ]
        }
      ]
    },
    {
      "cell_type": "code",
      "source": [
        "\n",
        "# ELEMENTS INSIDE TUPLES ARE IMMUTABLE (CANNOT BE CHANGED)\n",
        "tuple_x  = (12,413,213,35,3254,2464,224)\n",
        "\n",
        "print(\"Before Replacing:\",tuple_x)\n",
        "\n",
        "# here we replace the 2nd index position element with 500\n",
        "tuple_x[2] = 500\n",
        "\n",
        "print(\"After Replacing:\",tuple_x)"
      ],
      "metadata": {
        "colab": {
          "base_uri": "https://localhost:8080/",
          "height": 234
        },
        "id": "LcUooMFq91XG",
        "outputId": "7ba49322-319b-4360-d9f7-3f61f6225f18"
      },
      "execution_count": null,
      "outputs": [
        {
          "output_type": "stream",
          "name": "stdout",
          "text": [
            "Before Replacing: (12, 413, 213, 35, 3254, 2464, 224)\n"
          ]
        },
        {
          "output_type": "error",
          "ename": "TypeError",
          "evalue": "'tuple' object does not support item assignment",
          "traceback": [
            "\u001b[0;31m---------------------------------------------------------------------------\u001b[0m",
            "\u001b[0;31mTypeError\u001b[0m                                 Traceback (most recent call last)",
            "\u001b[0;32m<ipython-input-80-0d3b5767fe1c>\u001b[0m in \u001b[0;36m<cell line: 6>\u001b[0;34m()\u001b[0m\n\u001b[1;32m      4\u001b[0m \u001b[0;34m\u001b[0m\u001b[0m\n\u001b[1;32m      5\u001b[0m \u001b[0;31m# here we replace the 2nd index position element with 500\u001b[0m\u001b[0;34m\u001b[0m\u001b[0;34m\u001b[0m\u001b[0m\n\u001b[0;32m----> 6\u001b[0;31m \u001b[0mtuple_x\u001b[0m\u001b[0;34m[\u001b[0m\u001b[0;36m2\u001b[0m\u001b[0;34m]\u001b[0m \u001b[0;34m=\u001b[0m \u001b[0;36m500\u001b[0m\u001b[0;34m\u001b[0m\u001b[0;34m\u001b[0m\u001b[0m\n\u001b[0m\u001b[1;32m      7\u001b[0m \u001b[0;34m\u001b[0m\u001b[0m\n\u001b[1;32m      8\u001b[0m \u001b[0mprint\u001b[0m\u001b[0;34m(\u001b[0m\u001b[0;34m\"After Replacing:\"\u001b[0m\u001b[0;34m,\u001b[0m\u001b[0mtuple_x\u001b[0m\u001b[0;34m)\u001b[0m\u001b[0;34m\u001b[0m\u001b[0;34m\u001b[0m\u001b[0m\n",
            "\u001b[0;31mTypeError\u001b[0m: 'tuple' object does not support item assignment"
          ]
        }
      ]
    },
    {
      "cell_type": "code",
      "source": [
        "# tuple -> edit\n",
        "# tuple -> list -> edit -> edited list back to tuple\n",
        "\n",
        "tuple_a = (12,312,413,4531,513,513,511)\n",
        "print(\"Original tuple:\",tuple_a)\n",
        "# lst function converts the tuple into a list\n",
        "list_a = list(tuple_a)\n",
        "print(list_a)\n",
        "\n",
        "list_a[1] = 400\n",
        "print(\"Edited list: \", list_a)\n",
        "\n",
        "# convert list into a tuple using tuple function\n",
        "tuple_a = tuple(list_a)\n",
        "print(\"Edited tuple:\", tuple_a)"
      ],
      "metadata": {
        "colab": {
          "base_uri": "https://localhost:8080/"
        },
        "id": "jtXf_BDW5H8s",
        "outputId": "29f115e4-99e6-4339-e610-23312c0b501e"
      },
      "execution_count": null,
      "outputs": [
        {
          "output_type": "stream",
          "name": "stdout",
          "text": [
            "Original tuple: (12, 312, 413, 4531, 513, 513, 511)\n",
            "[12, 312, 413, 4531, 513, 513, 511]\n",
            "Edited list:  [12, 400, 413, 4531, 513, 513, 511]\n",
            "Edited tuple: (12, 400, 413, 4531, 513, 513, 511)\n"
          ]
        }
      ]
    },
    {
      "cell_type": "code",
      "source": [
        "# dictionaries\n",
        "# {\"key\":\"value\"}\n",
        "# key-value pairs\n",
        "\n",
        "dict_a = {\n",
        "    \"name\":\"Chirantan\", #column names : keys , records : values\n",
        "    \"age\" : 31,\n",
        "    \"city\" : \"Mumbai\"\n",
        "}\n",
        "\n",
        "print(dict_a)\n",
        "print(type(dict_a))"
      ],
      "metadata": {
        "colab": {
          "base_uri": "https://localhost:8080/"
        },
        "id": "BjirejByRBeq",
        "outputId": "7c9c060b-d528-44bf-aa98-84aa36f55885"
      },
      "execution_count": null,
      "outputs": [
        {
          "output_type": "stream",
          "name": "stdout",
          "text": [
            "{'name': 'Chirantan', 'age': 31, 'city': 'Mumbai'}\n",
            "<class 'dict'>\n"
          ]
        }
      ]
    },
    {
      "cell_type": "code",
      "source": [
        "dict_b = {\n",
        "    \"name\" : [\"A\",\"B\",\"C\"],\n",
        "    \"age\" : [12,14,16],\n",
        "    \"city\" : [\"X\",\"Y\",\"Z\"],\n",
        "    \"threshold\" : (1,1,1)\n",
        "}\n",
        "\n",
        "print(dict_b)\n",
        "\n",
        "print(type(dict_b))"
      ],
      "metadata": {
        "colab": {
          "base_uri": "https://localhost:8080/"
        },
        "id": "NCIStEadT409",
        "outputId": "fdedf66d-653d-40a7-ac68-d1b230c6a81a"
      },
      "execution_count": null,
      "outputs": [
        {
          "output_type": "stream",
          "name": "stdout",
          "text": [
            "{'name': ['A', 'B', 'C'], 'age': [12, 14, 16], 'city': ['X', 'Y', 'Z'], 'threshold': (1, 1, 1)}\n",
            "<class 'dict'>\n"
          ]
        }
      ]
    },
    {
      "cell_type": "code",
      "source": [
        "import pandas as pd\n",
        "df = pd.DataFrame(dict_b)\n",
        "df"
      ],
      "metadata": {
        "colab": {
          "base_uri": "https://localhost:8080/",
          "height": 143
        },
        "id": "UMDsiO6gT453",
        "outputId": "da9d8179-52c3-49c0-bd4c-a0e2c8b22965"
      },
      "execution_count": null,
      "outputs": [
        {
          "output_type": "execute_result",
          "data": {
            "text/plain": [
              "  name  age city  threshold\n",
              "0    A   12    X          1\n",
              "1    B   14    Y          1\n",
              "2    C   16    Z          1"
            ],
            "text/html": [
              "\n",
              "  <div id=\"df-9a0c047c-76fc-4987-9dfa-c2927d0c3e79\" class=\"colab-df-container\">\n",
              "    <div>\n",
              "<style scoped>\n",
              "    .dataframe tbody tr th:only-of-type {\n",
              "        vertical-align: middle;\n",
              "    }\n",
              "\n",
              "    .dataframe tbody tr th {\n",
              "        vertical-align: top;\n",
              "    }\n",
              "\n",
              "    .dataframe thead th {\n",
              "        text-align: right;\n",
              "    }\n",
              "</style>\n",
              "<table border=\"1\" class=\"dataframe\">\n",
              "  <thead>\n",
              "    <tr style=\"text-align: right;\">\n",
              "      <th></th>\n",
              "      <th>name</th>\n",
              "      <th>age</th>\n",
              "      <th>city</th>\n",
              "      <th>threshold</th>\n",
              "    </tr>\n",
              "  </thead>\n",
              "  <tbody>\n",
              "    <tr>\n",
              "      <th>0</th>\n",
              "      <td>A</td>\n",
              "      <td>12</td>\n",
              "      <td>X</td>\n",
              "      <td>1</td>\n",
              "    </tr>\n",
              "    <tr>\n",
              "      <th>1</th>\n",
              "      <td>B</td>\n",
              "      <td>14</td>\n",
              "      <td>Y</td>\n",
              "      <td>1</td>\n",
              "    </tr>\n",
              "    <tr>\n",
              "      <th>2</th>\n",
              "      <td>C</td>\n",
              "      <td>16</td>\n",
              "      <td>Z</td>\n",
              "      <td>1</td>\n",
              "    </tr>\n",
              "  </tbody>\n",
              "</table>\n",
              "</div>\n",
              "    <div class=\"colab-df-buttons\">\n",
              "\n",
              "  <div class=\"colab-df-container\">\n",
              "    <button class=\"colab-df-convert\" onclick=\"convertToInteractive('df-9a0c047c-76fc-4987-9dfa-c2927d0c3e79')\"\n",
              "            title=\"Convert this dataframe to an interactive table.\"\n",
              "            style=\"display:none;\">\n",
              "\n",
              "  <svg xmlns=\"http://www.w3.org/2000/svg\" height=\"24px\" viewBox=\"0 -960 960 960\">\n",
              "    <path d=\"M120-120v-720h720v720H120Zm60-500h600v-160H180v160Zm220 220h160v-160H400v160Zm0 220h160v-160H400v160ZM180-400h160v-160H180v160Zm440 0h160v-160H620v160ZM180-180h160v-160H180v160Zm440 0h160v-160H620v160Z\"/>\n",
              "  </svg>\n",
              "    </button>\n",
              "\n",
              "  <style>\n",
              "    .colab-df-container {\n",
              "      display:flex;\n",
              "      gap: 12px;\n",
              "    }\n",
              "\n",
              "    .colab-df-convert {\n",
              "      background-color: #E8F0FE;\n",
              "      border: none;\n",
              "      border-radius: 50%;\n",
              "      cursor: pointer;\n",
              "      display: none;\n",
              "      fill: #1967D2;\n",
              "      height: 32px;\n",
              "      padding: 0 0 0 0;\n",
              "      width: 32px;\n",
              "    }\n",
              "\n",
              "    .colab-df-convert:hover {\n",
              "      background-color: #E2EBFA;\n",
              "      box-shadow: 0px 1px 2px rgba(60, 64, 67, 0.3), 0px 1px 3px 1px rgba(60, 64, 67, 0.15);\n",
              "      fill: #174EA6;\n",
              "    }\n",
              "\n",
              "    .colab-df-buttons div {\n",
              "      margin-bottom: 4px;\n",
              "    }\n",
              "\n",
              "    [theme=dark] .colab-df-convert {\n",
              "      background-color: #3B4455;\n",
              "      fill: #D2E3FC;\n",
              "    }\n",
              "\n",
              "    [theme=dark] .colab-df-convert:hover {\n",
              "      background-color: #434B5C;\n",
              "      box-shadow: 0px 1px 3px 1px rgba(0, 0, 0, 0.15);\n",
              "      filter: drop-shadow(0px 1px 2px rgba(0, 0, 0, 0.3));\n",
              "      fill: #FFFFFF;\n",
              "    }\n",
              "  </style>\n",
              "\n",
              "    <script>\n",
              "      const buttonEl =\n",
              "        document.querySelector('#df-9a0c047c-76fc-4987-9dfa-c2927d0c3e79 button.colab-df-convert');\n",
              "      buttonEl.style.display =\n",
              "        google.colab.kernel.accessAllowed ? 'block' : 'none';\n",
              "\n",
              "      async function convertToInteractive(key) {\n",
              "        const element = document.querySelector('#df-9a0c047c-76fc-4987-9dfa-c2927d0c3e79');\n",
              "        const dataTable =\n",
              "          await google.colab.kernel.invokeFunction('convertToInteractive',\n",
              "                                                    [key], {});\n",
              "        if (!dataTable) return;\n",
              "\n",
              "        const docLinkHtml = 'Like what you see? Visit the ' +\n",
              "          '<a target=\"_blank\" href=https://colab.research.google.com/notebooks/data_table.ipynb>data table notebook</a>'\n",
              "          + ' to learn more about interactive tables.';\n",
              "        element.innerHTML = '';\n",
              "        dataTable['output_type'] = 'display_data';\n",
              "        await google.colab.output.renderOutput(dataTable, element);\n",
              "        const docLink = document.createElement('div');\n",
              "        docLink.innerHTML = docLinkHtml;\n",
              "        element.appendChild(docLink);\n",
              "      }\n",
              "    </script>\n",
              "  </div>\n",
              "\n",
              "\n",
              "<div id=\"df-195e9137-8a10-4cac-bf9d-752c371f83fb\">\n",
              "  <button class=\"colab-df-quickchart\" onclick=\"quickchart('df-195e9137-8a10-4cac-bf9d-752c371f83fb')\"\n",
              "            title=\"Suggest charts\"\n",
              "            style=\"display:none;\">\n",
              "\n",
              "<svg xmlns=\"http://www.w3.org/2000/svg\" height=\"24px\"viewBox=\"0 0 24 24\"\n",
              "     width=\"24px\">\n",
              "    <g>\n",
              "        <path d=\"M19 3H5c-1.1 0-2 .9-2 2v14c0 1.1.9 2 2 2h14c1.1 0 2-.9 2-2V5c0-1.1-.9-2-2-2zM9 17H7v-7h2v7zm4 0h-2V7h2v10zm4 0h-2v-4h2v4z\"/>\n",
              "    </g>\n",
              "</svg>\n",
              "  </button>\n",
              "\n",
              "<style>\n",
              "  .colab-df-quickchart {\n",
              "      --bg-color: #E8F0FE;\n",
              "      --fill-color: #1967D2;\n",
              "      --hover-bg-color: #E2EBFA;\n",
              "      --hover-fill-color: #174EA6;\n",
              "      --disabled-fill-color: #AAA;\n",
              "      --disabled-bg-color: #DDD;\n",
              "  }\n",
              "\n",
              "  [theme=dark] .colab-df-quickchart {\n",
              "      --bg-color: #3B4455;\n",
              "      --fill-color: #D2E3FC;\n",
              "      --hover-bg-color: #434B5C;\n",
              "      --hover-fill-color: #FFFFFF;\n",
              "      --disabled-bg-color: #3B4455;\n",
              "      --disabled-fill-color: #666;\n",
              "  }\n",
              "\n",
              "  .colab-df-quickchart {\n",
              "    background-color: var(--bg-color);\n",
              "    border: none;\n",
              "    border-radius: 50%;\n",
              "    cursor: pointer;\n",
              "    display: none;\n",
              "    fill: var(--fill-color);\n",
              "    height: 32px;\n",
              "    padding: 0;\n",
              "    width: 32px;\n",
              "  }\n",
              "\n",
              "  .colab-df-quickchart:hover {\n",
              "    background-color: var(--hover-bg-color);\n",
              "    box-shadow: 0 1px 2px rgba(60, 64, 67, 0.3), 0 1px 3px 1px rgba(60, 64, 67, 0.15);\n",
              "    fill: var(--button-hover-fill-color);\n",
              "  }\n",
              "\n",
              "  .colab-df-quickchart-complete:disabled,\n",
              "  .colab-df-quickchart-complete:disabled:hover {\n",
              "    background-color: var(--disabled-bg-color);\n",
              "    fill: var(--disabled-fill-color);\n",
              "    box-shadow: none;\n",
              "  }\n",
              "\n",
              "  .colab-df-spinner {\n",
              "    border: 2px solid var(--fill-color);\n",
              "    border-color: transparent;\n",
              "    border-bottom-color: var(--fill-color);\n",
              "    animation:\n",
              "      spin 1s steps(1) infinite;\n",
              "  }\n",
              "\n",
              "  @keyframes spin {\n",
              "    0% {\n",
              "      border-color: transparent;\n",
              "      border-bottom-color: var(--fill-color);\n",
              "      border-left-color: var(--fill-color);\n",
              "    }\n",
              "    20% {\n",
              "      border-color: transparent;\n",
              "      border-left-color: var(--fill-color);\n",
              "      border-top-color: var(--fill-color);\n",
              "    }\n",
              "    30% {\n",
              "      border-color: transparent;\n",
              "      border-left-color: var(--fill-color);\n",
              "      border-top-color: var(--fill-color);\n",
              "      border-right-color: var(--fill-color);\n",
              "    }\n",
              "    40% {\n",
              "      border-color: transparent;\n",
              "      border-right-color: var(--fill-color);\n",
              "      border-top-color: var(--fill-color);\n",
              "    }\n",
              "    60% {\n",
              "      border-color: transparent;\n",
              "      border-right-color: var(--fill-color);\n",
              "    }\n",
              "    80% {\n",
              "      border-color: transparent;\n",
              "      border-right-color: var(--fill-color);\n",
              "      border-bottom-color: var(--fill-color);\n",
              "    }\n",
              "    90% {\n",
              "      border-color: transparent;\n",
              "      border-bottom-color: var(--fill-color);\n",
              "    }\n",
              "  }\n",
              "</style>\n",
              "\n",
              "  <script>\n",
              "    async function quickchart(key) {\n",
              "      const quickchartButtonEl =\n",
              "        document.querySelector('#' + key + ' button');\n",
              "      quickchartButtonEl.disabled = true;  // To prevent multiple clicks.\n",
              "      quickchartButtonEl.classList.add('colab-df-spinner');\n",
              "      try {\n",
              "        const charts = await google.colab.kernel.invokeFunction(\n",
              "            'suggestCharts', [key], {});\n",
              "      } catch (error) {\n",
              "        console.error('Error during call to suggestCharts:', error);\n",
              "      }\n",
              "      quickchartButtonEl.classList.remove('colab-df-spinner');\n",
              "      quickchartButtonEl.classList.add('colab-df-quickchart-complete');\n",
              "    }\n",
              "    (() => {\n",
              "      let quickchartButtonEl =\n",
              "        document.querySelector('#df-195e9137-8a10-4cac-bf9d-752c371f83fb button');\n",
              "      quickchartButtonEl.style.display =\n",
              "        google.colab.kernel.accessAllowed ? 'block' : 'none';\n",
              "    })();\n",
              "  </script>\n",
              "</div>\n",
              "\n",
              "  <div id=\"id_cb075ed0-f009-4bfd-ae74-d6775e362835\">\n",
              "    <style>\n",
              "      .colab-df-generate {\n",
              "        background-color: #E8F0FE;\n",
              "        border: none;\n",
              "        border-radius: 50%;\n",
              "        cursor: pointer;\n",
              "        display: none;\n",
              "        fill: #1967D2;\n",
              "        height: 32px;\n",
              "        padding: 0 0 0 0;\n",
              "        width: 32px;\n",
              "      }\n",
              "\n",
              "      .colab-df-generate:hover {\n",
              "        background-color: #E2EBFA;\n",
              "        box-shadow: 0px 1px 2px rgba(60, 64, 67, 0.3), 0px 1px 3px 1px rgba(60, 64, 67, 0.15);\n",
              "        fill: #174EA6;\n",
              "      }\n",
              "\n",
              "      [theme=dark] .colab-df-generate {\n",
              "        background-color: #3B4455;\n",
              "        fill: #D2E3FC;\n",
              "      }\n",
              "\n",
              "      [theme=dark] .colab-df-generate:hover {\n",
              "        background-color: #434B5C;\n",
              "        box-shadow: 0px 1px 3px 1px rgba(0, 0, 0, 0.15);\n",
              "        filter: drop-shadow(0px 1px 2px rgba(0, 0, 0, 0.3));\n",
              "        fill: #FFFFFF;\n",
              "      }\n",
              "    </style>\n",
              "    <button class=\"colab-df-generate\" onclick=\"generateWithVariable('df')\"\n",
              "            title=\"Generate code using this dataframe.\"\n",
              "            style=\"display:none;\">\n",
              "\n",
              "  <svg xmlns=\"http://www.w3.org/2000/svg\" height=\"24px\"viewBox=\"0 0 24 24\"\n",
              "       width=\"24px\">\n",
              "    <path d=\"M7,19H8.4L18.45,9,17,7.55,7,17.6ZM5,21V16.75L18.45,3.32a2,2,0,0,1,2.83,0l1.4,1.43a1.91,1.91,0,0,1,.58,1.4,1.91,1.91,0,0,1-.58,1.4L9.25,21ZM18.45,9,17,7.55Zm-12,3A5.31,5.31,0,0,0,4.9,8.1,5.31,5.31,0,0,0,1,6.5,5.31,5.31,0,0,0,4.9,4.9,5.31,5.31,0,0,0,6.5,1,5.31,5.31,0,0,0,8.1,4.9,5.31,5.31,0,0,0,12,6.5,5.46,5.46,0,0,0,6.5,12Z\"/>\n",
              "  </svg>\n",
              "    </button>\n",
              "    <script>\n",
              "      (() => {\n",
              "      const buttonEl =\n",
              "        document.querySelector('#id_cb075ed0-f009-4bfd-ae74-d6775e362835 button.colab-df-generate');\n",
              "      buttonEl.style.display =\n",
              "        google.colab.kernel.accessAllowed ? 'block' : 'none';\n",
              "\n",
              "      buttonEl.onclick = () => {\n",
              "        google.colab.notebook.generateWithVariable('df');\n",
              "      }\n",
              "      })();\n",
              "    </script>\n",
              "  </div>\n",
              "\n",
              "    </div>\n",
              "  </div>\n"
            ],
            "application/vnd.google.colaboratory.intrinsic+json": {
              "type": "dataframe",
              "variable_name": "df",
              "summary": "{\n  \"name\": \"df\",\n  \"rows\": 3,\n  \"fields\": [\n    {\n      \"column\": \"name\",\n      \"properties\": {\n        \"dtype\": \"string\",\n        \"num_unique_values\": 3,\n        \"samples\": [\n          \"A\",\n          \"B\",\n          \"C\"\n        ],\n        \"semantic_type\": \"\",\n        \"description\": \"\"\n      }\n    },\n    {\n      \"column\": \"age\",\n      \"properties\": {\n        \"dtype\": \"number\",\n        \"std\": 2,\n        \"min\": 12,\n        \"max\": 16,\n        \"num_unique_values\": 3,\n        \"samples\": [\n          12,\n          14,\n          16\n        ],\n        \"semantic_type\": \"\",\n        \"description\": \"\"\n      }\n    },\n    {\n      \"column\": \"city\",\n      \"properties\": {\n        \"dtype\": \"string\",\n        \"num_unique_values\": 3,\n        \"samples\": [\n          \"X\",\n          \"Y\",\n          \"Z\"\n        ],\n        \"semantic_type\": \"\",\n        \"description\": \"\"\n      }\n    },\n    {\n      \"column\": \"threshold\",\n      \"properties\": {\n        \"dtype\": \"number\",\n        \"std\": 0,\n        \"min\": 1,\n        \"max\": 1,\n        \"num_unique_values\": 1,\n        \"samples\": [\n          1\n        ],\n        \"semantic_type\": \"\",\n        \"description\": \"\"\n      }\n    }\n  ]\n}"
            }
          },
          "metadata": {},
          "execution_count": 10
        }
      ]
    },
    {
      "cell_type": "code",
      "source": [
        "# for loops\n",
        "\n",
        "# iteration\n",
        "\n",
        "list_a = [12,3,243,43,2]\n",
        "\n",
        "# syntax of for loops\n",
        "\n",
        "# for variable in list/tuple:\n",
        "#     print(variable)\n",
        "\n",
        "for i in list_a:\n",
        "  print(i)"
      ],
      "metadata": {
        "colab": {
          "base_uri": "https://localhost:8080/"
        },
        "id": "4wwN1vpbRBjP",
        "outputId": "76ec8acc-01e2-4963-eb32-3520aba60ef4"
      },
      "execution_count": null,
      "outputs": [
        {
          "output_type": "stream",
          "name": "stdout",
          "text": [
            "12\n",
            "3\n",
            "243\n",
            "43\n",
            "2\n"
          ]
        }
      ]
    },
    {
      "cell_type": "code",
      "source": [
        "for i in list_a:\n",
        "  print(i ,end=' ')"
      ],
      "metadata": {
        "colab": {
          "base_uri": "https://localhost:8080/"
        },
        "id": "iamM-gUuXZMz",
        "outputId": "a02aeb8a-ef6b-4fc6-f0af-95c2bb459099"
      },
      "execution_count": null,
      "outputs": [
        {
          "output_type": "stream",
          "name": "stdout",
          "text": [
            "12 3 243 43 2 "
          ]
        }
      ]
    },
    {
      "cell_type": "code",
      "source": [],
      "metadata": {
        "id": "mIGGdBNQXZQx"
      },
      "execution_count": null,
      "outputs": []
    },
    {
      "cell_type": "code",
      "source": [],
      "metadata": {
        "id": "PYvpc2koXZX-"
      },
      "execution_count": null,
      "outputs": []
    },
    {
      "cell_type": "code",
      "source": [],
      "metadata": {
        "id": "xAuzf4WgXZcG"
      },
      "execution_count": null,
      "outputs": []
    },
    {
      "cell_type": "code",
      "source": [],
      "metadata": {
        "id": "eB3cmrLL5IAV"
      },
      "execution_count": null,
      "outputs": []
    },
    {
      "cell_type": "code",
      "source": [
        "age = int(input(\"Enter the age: \"))\n",
        "has_license = input(\"Do you have a valid license ? (yes/no): \")\n",
        "\n",
        "if age>=18 and has_license==\"yes\":\n",
        "  print(\"You are eligible to rent a car.\")\n",
        "else:\n",
        "  print(\"Sorry, you cannot rent out the car\")\n"
      ],
      "metadata": {
        "id": "q-Dpb6S2JdMG"
      },
      "execution_count": null,
      "outputs": []
    },
    {
      "cell_type": "code",
      "source": [
        "# upper and lower\n",
        "\n",
        "a = \"INDIA\"\n",
        "\n",
        "b = \"toothpaste\"\n",
        "\n",
        "print(a.lower())\n",
        "\n",
        "print(b.upper())"
      ],
      "metadata": {
        "id": "nqBMhb0HJdOs"
      },
      "execution_count": null,
      "outputs": []
    },
    {
      "cell_type": "code",
      "source": [
        "user_input = input(\"Please enter 'yes':\")\n",
        "\n",
        "if user_input == 'yes':\n",
        "  print(\"Accepted\")\n",
        "else:\n",
        "  print(\"NA\")"
      ],
      "metadata": {
        "id": "x8-UtwH6JdRM"
      },
      "execution_count": null,
      "outputs": []
    },
    {
      "cell_type": "code",
      "source": [
        "password = input(\"Enter the password here: \")\n",
        "\n",
        "if len(password) > 10:\n",
        "  print(\"Invalid password\")\n",
        "else:\n",
        "  print(\"valid password\")"
      ],
      "metadata": {
        "id": "ECT51xsPJdTy"
      },
      "execution_count": null,
      "outputs": []
    },
    {
      "cell_type": "code",
      "source": [
        "# length function :\n",
        "# len()\n",
        "\n",
        "a = \"Mumbai\"\n",
        "\n",
        "print(len(a))"
      ],
      "metadata": {
        "id": "AZrsXMz1JdWY",
        "colab": {
          "base_uri": "https://localhost:8080/"
        },
        "outputId": "715bf26a-0424-44ed-bde9-3b6de9e5e80f"
      },
      "execution_count": null,
      "outputs": [
        {
          "output_type": "stream",
          "name": "stdout",
          "text": [
            "6\n"
          ]
        }
      ]
    },
    {
      "cell_type": "code",
      "source": [
        "# nested if-else loop\n",
        "\n",
        "password = input(\"Enter the password here: \")\n",
        "\n",
        "if len(password) > 5:\n",
        "  print(\"Password accepted\")\n",
        "else:\n",
        "  print(\"Invalid password. You have one more chance ..\")\n",
        "\n",
        "  password = input(\"Please re-enter the password: \")\n",
        "\n",
        "  if len(password) > 5:\n",
        "    print(\"Password accepted\")\n",
        "  else:\n",
        "    print(\"Invalid password\")"
      ],
      "metadata": {
        "id": "iTZ_yOAJJdYd",
        "colab": {
          "base_uri": "https://localhost:8080/"
        },
        "outputId": "ec7fcc84-ccc1-4c86-aabd-eb079322f6bc"
      },
      "execution_count": null,
      "outputs": [
        {
          "output_type": "stream",
          "name": "stdout",
          "text": [
            "Enter the password here: bhi\n",
            "Invalid password. You have one more chance ..\n",
            "Please re-enter the password: chirujomk\n",
            "Password accepted\n"
          ]
        }
      ]
    },
    {
      "cell_type": "code",
      "source": [
        "# data structures\n",
        "# lists,tuples and dictionaries\n",
        "\n",
        "# lists : [] : square brackets\n",
        "# tuples : () : round brackets\n",
        "# dictionaries : {} : curly brackets"
      ],
      "metadata": {
        "id": "J4DsHXtIEZmv"
      },
      "execution_count": null,
      "outputs": []
    },
    {
      "cell_type": "markdown",
      "source": [
        "### LISTS"
      ],
      "metadata": {
        "id": "kRNQvFyvGC_r"
      }
    },
    {
      "cell_type": "code",
      "source": [
        "list_a = [12,32,4,34423,52,3534,6346,346]\n",
        "print(list_a)\n",
        "print(type(list_a))\n",
        "print(\"-------------------------------------------------------\")\n",
        "# lists can store multiple data types\n",
        "# int,float,str, boolean\n",
        "\n",
        "list_b = [12,12.3,\"Mumbai\",True]\n",
        "print(list_b)\n",
        "print(type(list_b))"
      ],
      "metadata": {
        "colab": {
          "base_uri": "https://localhost:8080/"
        },
        "id": "TGy55zMAElgj",
        "outputId": "ccfaa025-eb8d-442d-f022-455d1b0b8b38"
      },
      "execution_count": null,
      "outputs": [
        {
          "output_type": "stream",
          "name": "stdout",
          "text": [
            "[12, 32, 4, 34423, 52, 3534, 6346, 346]\n",
            "<class 'list'>\n",
            "-------------------------------------------------------\n",
            "[12, 12.3, 'Mumbai', True]\n",
            "<class 'list'>\n"
          ]
        }
      ]
    },
    {
      "cell_type": "markdown",
      "source": [
        "### TUPLES"
      ],
      "metadata": {
        "id": "U0fbhpf2HEig"
      }
    },
    {
      "cell_type": "code",
      "source": [
        "tuple_a = (12,32,4,34423,52,3534,6346,346)\n",
        "print(tuple_a)\n",
        "print(type(tuple_a))\n",
        "print(\"-------------------------------------------------------\")\n",
        "# tuples can also store multiple data types\n",
        "# int,float,str, boolean\n",
        "\n",
        "tuple_b = (12,12.3,\"Mumbai\",True)\n",
        "print(tuple_b)\n",
        "print(type(tuple_b))"
      ],
      "metadata": {
        "colab": {
          "base_uri": "https://localhost:8080/"
        },
        "id": "OarLGjuqEa3-",
        "outputId": "e4c0769c-790a-4179-d39e-c81a47926844"
      },
      "execution_count": null,
      "outputs": [
        {
          "output_type": "stream",
          "name": "stdout",
          "text": [
            "(12, 32, 4, 34423, 52, 3534, 6346, 346)\n",
            "<class 'tuple'>\n",
            "-------------------------------------------------------\n",
            "(12, 12.3, 'Mumbai', True)\n",
            "<class 'tuple'>\n"
          ]
        }
      ]
    },
    {
      "cell_type": "code",
      "source": [
        "# lists : MUTABLE : elements can be changed,removed,replaced,deleted\n",
        "# tuples : IMMUTABLE : elements cannot be changed,removed,replaced,deleted"
      ],
      "metadata": {
        "id": "mT0pRpjZEZqj"
      },
      "execution_count": null,
      "outputs": []
    },
    {
      "cell_type": "markdown",
      "source": [],
      "metadata": {
        "id": "Il3CiWD0JMUe"
      }
    },
    {
      "cell_type": "code",
      "source": [
        "list_a = [12,32,4,34423,52,3534,6346,346]\n",
        "\n",
        "# in python, index positio starts at 0\n",
        "# counting starts at 0\n",
        "\n",
        "# which element inside list_a at 0th index position\n",
        "print(list_a[0])\n",
        "\n",
        "print(list_a[4])\n"
      ],
      "metadata": {
        "colab": {
          "base_uri": "https://localhost:8080/"
        },
        "id": "fPgpPNhkEaS1",
        "outputId": "b79c3b69-a00f-4324-c8bf-355e5c2a28b2"
      },
      "execution_count": null,
      "outputs": [
        {
          "output_type": "stream",
          "name": "stdout",
          "text": [
            "12\n",
            "52\n"
          ]
        }
      ]
    },
    {
      "cell_type": "code",
      "source": [
        "# how are lists mutable ?\n",
        "list_a = [12,32,4,34423,52,3534,6346,346]\n",
        "print(\"Before replacement: \",list_a)\n",
        "\n",
        "# changes here\n",
        "list_a[3] = 344\n",
        "\n",
        "print(\"After replacement: \",list_a)\n"
      ],
      "metadata": {
        "colab": {
          "base_uri": "https://localhost:8080/"
        },
        "id": "oKHZZdQ0Ibos",
        "outputId": "186f9f13-5113-480f-d1a2-ff88f022c035"
      },
      "execution_count": null,
      "outputs": [
        {
          "output_type": "stream",
          "name": "stdout",
          "text": [
            "Before replacement:  [12, 32, 4, 34423, 52, 3534, 6346, 346]\n",
            "After replacement:  [12, 32, 4, 344, 52, 3534, 6346, 346]\n"
          ]
        }
      ]
    },
    {
      "cell_type": "code",
      "source": [
        "# are tuples mutable ?\n",
        "\n",
        "tuple_a = (12,32,4,34423,52,3534,6346,346)\n",
        "print(\"Before replacement: \",tuple_a)\n",
        "\n",
        "# changes here\n",
        "tuple_a[3] = 344\n",
        "\n",
        "print(\"After replacement: \",tuple_a)\n"
      ],
      "metadata": {
        "colab": {
          "base_uri": "https://localhost:8080/",
          "height": 234
        },
        "id": "77HhtUhXEaWy",
        "outputId": "e716bda6-dda1-48aa-8621-5bc9917be2e7"
      },
      "execution_count": null,
      "outputs": [
        {
          "output_type": "stream",
          "name": "stdout",
          "text": [
            "Before replacement:  (12, 32, 4, 34423, 52, 3534, 6346, 346)\n"
          ]
        },
        {
          "output_type": "error",
          "ename": "TypeError",
          "evalue": "'tuple' object does not support item assignment",
          "traceback": [
            "\u001b[0;31m---------------------------------------------------------------------------\u001b[0m",
            "\u001b[0;31mTypeError\u001b[0m                                 Traceback (most recent call last)",
            "\u001b[0;32m<ipython-input-9-71c964c62368>\u001b[0m in \u001b[0;36m<cell line: 7>\u001b[0;34m()\u001b[0m\n\u001b[1;32m      5\u001b[0m \u001b[0;34m\u001b[0m\u001b[0m\n\u001b[1;32m      6\u001b[0m \u001b[0;31m# changes here\u001b[0m\u001b[0;34m\u001b[0m\u001b[0;34m\u001b[0m\u001b[0m\n\u001b[0;32m----> 7\u001b[0;31m \u001b[0mtuple_a\u001b[0m\u001b[0;34m[\u001b[0m\u001b[0;36m3\u001b[0m\u001b[0;34m]\u001b[0m \u001b[0;34m=\u001b[0m \u001b[0;36m344\u001b[0m\u001b[0;34m\u001b[0m\u001b[0;34m\u001b[0m\u001b[0m\n\u001b[0m\u001b[1;32m      8\u001b[0m \u001b[0;34m\u001b[0m\u001b[0m\n\u001b[1;32m      9\u001b[0m \u001b[0mprint\u001b[0m\u001b[0;34m(\u001b[0m\u001b[0;34m\"After replacement: \"\u001b[0m\u001b[0;34m,\u001b[0m\u001b[0mtuple_a\u001b[0m\u001b[0;34m)\u001b[0m\u001b[0;34m\u001b[0m\u001b[0;34m\u001b[0m\u001b[0m\n",
            "\u001b[0;31mTypeError\u001b[0m: 'tuple' object does not support item assignment"
          ]
        }
      ]
    },
    {
      "cell_type": "code",
      "source": [
        "tuple_a = (12,32,4,34423,52,3534,6346,346)\n",
        "\n",
        "try:\n",
        "  tuple_a[3] = 344\n",
        "except TypeError:\n",
        "  print(\"Tuples are immutable\")\n"
      ],
      "metadata": {
        "colab": {
          "base_uri": "https://localhost:8080/"
        },
        "id": "QH8vL5MiEaZy",
        "outputId": "bcc42ff1-7333-4747-a6df-dea7ebb7bc31"
      },
      "execution_count": null,
      "outputs": [
        {
          "output_type": "stream",
          "name": "stdout",
          "text": [
            "Tuples are immutable\n"
          ]
        }
      ]
    },
    {
      "cell_type": "code",
      "source": [
        "# dictionaries : {}\n",
        "\n",
        "# {\"key\":\"value\"}\n",
        "# key : name of the column\n",
        "# values : records under the column name\n",
        "\n",
        "dict_a = {\"name\":\"Chirantan\",\n",
        "          \"age\":30,\n",
        "          \"city\":\"Mumbai\"}\n",
        "print(dict_a)\n",
        "print(type(dict_a))"
      ],
      "metadata": {
        "colab": {
          "base_uri": "https://localhost:8080/"
        },
        "id": "tAiTBeRmL9zx",
        "outputId": "0513412e-2c04-44f0-ebe9-e99d2887b9c4"
      },
      "execution_count": null,
      "outputs": [
        {
          "output_type": "stream",
          "name": "stdout",
          "text": [
            "{'name': 'Chirantan', 'age': 30, 'city': 'Mumbai'}\n",
            "<class 'dict'>\n"
          ]
        }
      ]
    },
    {
      "cell_type": "code",
      "source": [
        "dict_b = {\n",
        "    \"name\" : ['A','B','C'],\n",
        "    \"age\" : [25,26,27],\n",
        "    \"city\" : [\"D\",\"E\",\"F\"],\n",
        "    \"threshold\" : (0.5,0.5,0.5)\n",
        "}\n",
        "\n",
        "print(dict_b)\n",
        "print(type(dict_b))\n",
        "print(dict_b.keys())\n",
        "print(dict_b.values())\n",
        "print(dict_b.items())"
      ],
      "metadata": {
        "colab": {
          "base_uri": "https://localhost:8080/"
        },
        "id": "y7BDOMrqL93B",
        "outputId": "57e55fff-c8c2-4e34-813c-7e68cc589226"
      },
      "execution_count": null,
      "outputs": [
        {
          "output_type": "stream",
          "name": "stdout",
          "text": [
            "{'name': ['A', 'B', 'C'], 'age': [25, 26, 27], 'city': ['D', 'E', 'F'], 'threshold': (0.5, 0.5, 0.5)}\n",
            "<class 'dict'>\n",
            "dict_keys(['name', 'age', 'city', 'threshold'])\n",
            "dict_values([['A', 'B', 'C'], [25, 26, 27], ['D', 'E', 'F'], (0.5, 0.5, 0.5)])\n",
            "dict_items([('name', ['A', 'B', 'C']), ('age', [25, 26, 27]), ('city', ['D', 'E', 'F']), ('threshold', (0.5, 0.5, 0.5))])\n"
          ]
        }
      ]
    },
    {
      "cell_type": "code",
      "source": [
        "print(dict_b[0])"
      ],
      "metadata": {
        "colab": {
          "base_uri": "https://localhost:8080/",
          "height": 144
        },
        "id": "78VkXfw9OI98",
        "outputId": "644bd835-dcfb-4549-bafa-a81e2465b75c"
      },
      "execution_count": null,
      "outputs": [
        {
          "output_type": "error",
          "ename": "KeyError",
          "evalue": "0",
          "traceback": [
            "\u001b[0;31m---------------------------------------------------------------------------\u001b[0m",
            "\u001b[0;31mKeyError\u001b[0m                                  Traceback (most recent call last)",
            "\u001b[0;32m<ipython-input-20-878ebee6a858>\u001b[0m in \u001b[0;36m<cell line: 1>\u001b[0;34m()\u001b[0m\n\u001b[0;32m----> 1\u001b[0;31m \u001b[0mprint\u001b[0m\u001b[0;34m(\u001b[0m\u001b[0mdict_b\u001b[0m\u001b[0;34m[\u001b[0m\u001b[0;36m0\u001b[0m\u001b[0;34m]\u001b[0m\u001b[0;34m)\u001b[0m\u001b[0;34m\u001b[0m\u001b[0;34m\u001b[0m\u001b[0m\n\u001b[0m",
            "\u001b[0;31mKeyError\u001b[0m: 0"
          ]
        }
      ]
    },
    {
      "cell_type": "code",
      "source": [
        "print(dict_b[\"name\"])"
      ],
      "metadata": {
        "colab": {
          "base_uri": "https://localhost:8080/"
        },
        "id": "JfqSY2evL96-",
        "outputId": "87e0aba9-7364-4049-e452-35226837aff5"
      },
      "execution_count": null,
      "outputs": [
        {
          "output_type": "stream",
          "name": "stdout",
          "text": [
            "['A', 'B', 'C']\n"
          ]
        }
      ]
    },
    {
      "cell_type": "code",
      "source": [
        "print(dict_b.get(\"Address\",\"Key Not Found\"))"
      ],
      "metadata": {
        "colab": {
          "base_uri": "https://localhost:8080/"
        },
        "id": "r8fiXaKNL-BH",
        "outputId": "d63b80f5-f92d-47cf-d10a-336f64b027b2"
      },
      "execution_count": null,
      "outputs": [
        {
          "output_type": "stream",
          "name": "stdout",
          "text": [
            "Key Not Found\n"
          ]
        }
      ]
    },
    {
      "cell_type": "code",
      "source": [
        "import pandas as pd\n",
        "\n",
        "df = pd.DataFrame(dict_b)\n",
        "df"
      ],
      "metadata": {
        "colab": {
          "base_uri": "https://localhost:8080/",
          "height": 143
        },
        "id": "WjaigCzwEadS",
        "outputId": "048bac69-dd1d-44dc-ad47-f2bc141cb570"
      },
      "execution_count": null,
      "outputs": [
        {
          "output_type": "execute_result",
          "data": {
            "text/plain": [
              "  name  age city  threshold\n",
              "0    A   25    D        0.5\n",
              "1    B   26    E        0.5\n",
              "2    C   27    F        0.5"
            ],
            "text/html": [
              "\n",
              "  <div id=\"df-89334ab6-87db-46e2-b9e7-2bc044a030a5\" class=\"colab-df-container\">\n",
              "    <div>\n",
              "<style scoped>\n",
              "    .dataframe tbody tr th:only-of-type {\n",
              "        vertical-align: middle;\n",
              "    }\n",
              "\n",
              "    .dataframe tbody tr th {\n",
              "        vertical-align: top;\n",
              "    }\n",
              "\n",
              "    .dataframe thead th {\n",
              "        text-align: right;\n",
              "    }\n",
              "</style>\n",
              "<table border=\"1\" class=\"dataframe\">\n",
              "  <thead>\n",
              "    <tr style=\"text-align: right;\">\n",
              "      <th></th>\n",
              "      <th>name</th>\n",
              "      <th>age</th>\n",
              "      <th>city</th>\n",
              "      <th>threshold</th>\n",
              "    </tr>\n",
              "  </thead>\n",
              "  <tbody>\n",
              "    <tr>\n",
              "      <th>0</th>\n",
              "      <td>A</td>\n",
              "      <td>25</td>\n",
              "      <td>D</td>\n",
              "      <td>0.5</td>\n",
              "    </tr>\n",
              "    <tr>\n",
              "      <th>1</th>\n",
              "      <td>B</td>\n",
              "      <td>26</td>\n",
              "      <td>E</td>\n",
              "      <td>0.5</td>\n",
              "    </tr>\n",
              "    <tr>\n",
              "      <th>2</th>\n",
              "      <td>C</td>\n",
              "      <td>27</td>\n",
              "      <td>F</td>\n",
              "      <td>0.5</td>\n",
              "    </tr>\n",
              "  </tbody>\n",
              "</table>\n",
              "</div>\n",
              "    <div class=\"colab-df-buttons\">\n",
              "\n",
              "  <div class=\"colab-df-container\">\n",
              "    <button class=\"colab-df-convert\" onclick=\"convertToInteractive('df-89334ab6-87db-46e2-b9e7-2bc044a030a5')\"\n",
              "            title=\"Convert this dataframe to an interactive table.\"\n",
              "            style=\"display:none;\">\n",
              "\n",
              "  <svg xmlns=\"http://www.w3.org/2000/svg\" height=\"24px\" viewBox=\"0 -960 960 960\">\n",
              "    <path d=\"M120-120v-720h720v720H120Zm60-500h600v-160H180v160Zm220 220h160v-160H400v160Zm0 220h160v-160H400v160ZM180-400h160v-160H180v160Zm440 0h160v-160H620v160ZM180-180h160v-160H180v160Zm440 0h160v-160H620v160Z\"/>\n",
              "  </svg>\n",
              "    </button>\n",
              "\n",
              "  <style>\n",
              "    .colab-df-container {\n",
              "      display:flex;\n",
              "      gap: 12px;\n",
              "    }\n",
              "\n",
              "    .colab-df-convert {\n",
              "      background-color: #E8F0FE;\n",
              "      border: none;\n",
              "      border-radius: 50%;\n",
              "      cursor: pointer;\n",
              "      display: none;\n",
              "      fill: #1967D2;\n",
              "      height: 32px;\n",
              "      padding: 0 0 0 0;\n",
              "      width: 32px;\n",
              "    }\n",
              "\n",
              "    .colab-df-convert:hover {\n",
              "      background-color: #E2EBFA;\n",
              "      box-shadow: 0px 1px 2px rgba(60, 64, 67, 0.3), 0px 1px 3px 1px rgba(60, 64, 67, 0.15);\n",
              "      fill: #174EA6;\n",
              "    }\n",
              "\n",
              "    .colab-df-buttons div {\n",
              "      margin-bottom: 4px;\n",
              "    }\n",
              "\n",
              "    [theme=dark] .colab-df-convert {\n",
              "      background-color: #3B4455;\n",
              "      fill: #D2E3FC;\n",
              "    }\n",
              "\n",
              "    [theme=dark] .colab-df-convert:hover {\n",
              "      background-color: #434B5C;\n",
              "      box-shadow: 0px 1px 3px 1px rgba(0, 0, 0, 0.15);\n",
              "      filter: drop-shadow(0px 1px 2px rgba(0, 0, 0, 0.3));\n",
              "      fill: #FFFFFF;\n",
              "    }\n",
              "  </style>\n",
              "\n",
              "    <script>\n",
              "      const buttonEl =\n",
              "        document.querySelector('#df-89334ab6-87db-46e2-b9e7-2bc044a030a5 button.colab-df-convert');\n",
              "      buttonEl.style.display =\n",
              "        google.colab.kernel.accessAllowed ? 'block' : 'none';\n",
              "\n",
              "      async function convertToInteractive(key) {\n",
              "        const element = document.querySelector('#df-89334ab6-87db-46e2-b9e7-2bc044a030a5');\n",
              "        const dataTable =\n",
              "          await google.colab.kernel.invokeFunction('convertToInteractive',\n",
              "                                                    [key], {});\n",
              "        if (!dataTable) return;\n",
              "\n",
              "        const docLinkHtml = 'Like what you see? Visit the ' +\n",
              "          '<a target=\"_blank\" href=https://colab.research.google.com/notebooks/data_table.ipynb>data table notebook</a>'\n",
              "          + ' to learn more about interactive tables.';\n",
              "        element.innerHTML = '';\n",
              "        dataTable['output_type'] = 'display_data';\n",
              "        await google.colab.output.renderOutput(dataTable, element);\n",
              "        const docLink = document.createElement('div');\n",
              "        docLink.innerHTML = docLinkHtml;\n",
              "        element.appendChild(docLink);\n",
              "      }\n",
              "    </script>\n",
              "  </div>\n",
              "\n",
              "\n",
              "<div id=\"df-587fb54b-1c66-41e8-9493-465662b4fa3c\">\n",
              "  <button class=\"colab-df-quickchart\" onclick=\"quickchart('df-587fb54b-1c66-41e8-9493-465662b4fa3c')\"\n",
              "            title=\"Suggest charts\"\n",
              "            style=\"display:none;\">\n",
              "\n",
              "<svg xmlns=\"http://www.w3.org/2000/svg\" height=\"24px\"viewBox=\"0 0 24 24\"\n",
              "     width=\"24px\">\n",
              "    <g>\n",
              "        <path d=\"M19 3H5c-1.1 0-2 .9-2 2v14c0 1.1.9 2 2 2h14c1.1 0 2-.9 2-2V5c0-1.1-.9-2-2-2zM9 17H7v-7h2v7zm4 0h-2V7h2v10zm4 0h-2v-4h2v4z\"/>\n",
              "    </g>\n",
              "</svg>\n",
              "  </button>\n",
              "\n",
              "<style>\n",
              "  .colab-df-quickchart {\n",
              "      --bg-color: #E8F0FE;\n",
              "      --fill-color: #1967D2;\n",
              "      --hover-bg-color: #E2EBFA;\n",
              "      --hover-fill-color: #174EA6;\n",
              "      --disabled-fill-color: #AAA;\n",
              "      --disabled-bg-color: #DDD;\n",
              "  }\n",
              "\n",
              "  [theme=dark] .colab-df-quickchart {\n",
              "      --bg-color: #3B4455;\n",
              "      --fill-color: #D2E3FC;\n",
              "      --hover-bg-color: #434B5C;\n",
              "      --hover-fill-color: #FFFFFF;\n",
              "      --disabled-bg-color: #3B4455;\n",
              "      --disabled-fill-color: #666;\n",
              "  }\n",
              "\n",
              "  .colab-df-quickchart {\n",
              "    background-color: var(--bg-color);\n",
              "    border: none;\n",
              "    border-radius: 50%;\n",
              "    cursor: pointer;\n",
              "    display: none;\n",
              "    fill: var(--fill-color);\n",
              "    height: 32px;\n",
              "    padding: 0;\n",
              "    width: 32px;\n",
              "  }\n",
              "\n",
              "  .colab-df-quickchart:hover {\n",
              "    background-color: var(--hover-bg-color);\n",
              "    box-shadow: 0 1px 2px rgba(60, 64, 67, 0.3), 0 1px 3px 1px rgba(60, 64, 67, 0.15);\n",
              "    fill: var(--button-hover-fill-color);\n",
              "  }\n",
              "\n",
              "  .colab-df-quickchart-complete:disabled,\n",
              "  .colab-df-quickchart-complete:disabled:hover {\n",
              "    background-color: var(--disabled-bg-color);\n",
              "    fill: var(--disabled-fill-color);\n",
              "    box-shadow: none;\n",
              "  }\n",
              "\n",
              "  .colab-df-spinner {\n",
              "    border: 2px solid var(--fill-color);\n",
              "    border-color: transparent;\n",
              "    border-bottom-color: var(--fill-color);\n",
              "    animation:\n",
              "      spin 1s steps(1) infinite;\n",
              "  }\n",
              "\n",
              "  @keyframes spin {\n",
              "    0% {\n",
              "      border-color: transparent;\n",
              "      border-bottom-color: var(--fill-color);\n",
              "      border-left-color: var(--fill-color);\n",
              "    }\n",
              "    20% {\n",
              "      border-color: transparent;\n",
              "      border-left-color: var(--fill-color);\n",
              "      border-top-color: var(--fill-color);\n",
              "    }\n",
              "    30% {\n",
              "      border-color: transparent;\n",
              "      border-left-color: var(--fill-color);\n",
              "      border-top-color: var(--fill-color);\n",
              "      border-right-color: var(--fill-color);\n",
              "    }\n",
              "    40% {\n",
              "      border-color: transparent;\n",
              "      border-right-color: var(--fill-color);\n",
              "      border-top-color: var(--fill-color);\n",
              "    }\n",
              "    60% {\n",
              "      border-color: transparent;\n",
              "      border-right-color: var(--fill-color);\n",
              "    }\n",
              "    80% {\n",
              "      border-color: transparent;\n",
              "      border-right-color: var(--fill-color);\n",
              "      border-bottom-color: var(--fill-color);\n",
              "    }\n",
              "    90% {\n",
              "      border-color: transparent;\n",
              "      border-bottom-color: var(--fill-color);\n",
              "    }\n",
              "  }\n",
              "</style>\n",
              "\n",
              "  <script>\n",
              "    async function quickchart(key) {\n",
              "      const quickchartButtonEl =\n",
              "        document.querySelector('#' + key + ' button');\n",
              "      quickchartButtonEl.disabled = true;  // To prevent multiple clicks.\n",
              "      quickchartButtonEl.classList.add('colab-df-spinner');\n",
              "      try {\n",
              "        const charts = await google.colab.kernel.invokeFunction(\n",
              "            'suggestCharts', [key], {});\n",
              "      } catch (error) {\n",
              "        console.error('Error during call to suggestCharts:', error);\n",
              "      }\n",
              "      quickchartButtonEl.classList.remove('colab-df-spinner');\n",
              "      quickchartButtonEl.classList.add('colab-df-quickchart-complete');\n",
              "    }\n",
              "    (() => {\n",
              "      let quickchartButtonEl =\n",
              "        document.querySelector('#df-587fb54b-1c66-41e8-9493-465662b4fa3c button');\n",
              "      quickchartButtonEl.style.display =\n",
              "        google.colab.kernel.accessAllowed ? 'block' : 'none';\n",
              "    })();\n",
              "  </script>\n",
              "</div>\n",
              "\n",
              "  <div id=\"id_9f42c4f3-4390-4566-aa4f-f5c97e60b31a\">\n",
              "    <style>\n",
              "      .colab-df-generate {\n",
              "        background-color: #E8F0FE;\n",
              "        border: none;\n",
              "        border-radius: 50%;\n",
              "        cursor: pointer;\n",
              "        display: none;\n",
              "        fill: #1967D2;\n",
              "        height: 32px;\n",
              "        padding: 0 0 0 0;\n",
              "        width: 32px;\n",
              "      }\n",
              "\n",
              "      .colab-df-generate:hover {\n",
              "        background-color: #E2EBFA;\n",
              "        box-shadow: 0px 1px 2px rgba(60, 64, 67, 0.3), 0px 1px 3px 1px rgba(60, 64, 67, 0.15);\n",
              "        fill: #174EA6;\n",
              "      }\n",
              "\n",
              "      [theme=dark] .colab-df-generate {\n",
              "        background-color: #3B4455;\n",
              "        fill: #D2E3FC;\n",
              "      }\n",
              "\n",
              "      [theme=dark] .colab-df-generate:hover {\n",
              "        background-color: #434B5C;\n",
              "        box-shadow: 0px 1px 3px 1px rgba(0, 0, 0, 0.15);\n",
              "        filter: drop-shadow(0px 1px 2px rgba(0, 0, 0, 0.3));\n",
              "        fill: #FFFFFF;\n",
              "      }\n",
              "    </style>\n",
              "    <button class=\"colab-df-generate\" onclick=\"generateWithVariable('df')\"\n",
              "            title=\"Generate code using this dataframe.\"\n",
              "            style=\"display:none;\">\n",
              "\n",
              "  <svg xmlns=\"http://www.w3.org/2000/svg\" height=\"24px\"viewBox=\"0 0 24 24\"\n",
              "       width=\"24px\">\n",
              "    <path d=\"M7,19H8.4L18.45,9,17,7.55,7,17.6ZM5,21V16.75L18.45,3.32a2,2,0,0,1,2.83,0l1.4,1.43a1.91,1.91,0,0,1,.58,1.4,1.91,1.91,0,0,1-.58,1.4L9.25,21ZM18.45,9,17,7.55Zm-12,3A5.31,5.31,0,0,0,4.9,8.1,5.31,5.31,0,0,0,1,6.5,5.31,5.31,0,0,0,4.9,4.9,5.31,5.31,0,0,0,6.5,1,5.31,5.31,0,0,0,8.1,4.9,5.31,5.31,0,0,0,12,6.5,5.46,5.46,0,0,0,6.5,12Z\"/>\n",
              "  </svg>\n",
              "    </button>\n",
              "    <script>\n",
              "      (() => {\n",
              "      const buttonEl =\n",
              "        document.querySelector('#id_9f42c4f3-4390-4566-aa4f-f5c97e60b31a button.colab-df-generate');\n",
              "      buttonEl.style.display =\n",
              "        google.colab.kernel.accessAllowed ? 'block' : 'none';\n",
              "\n",
              "      buttonEl.onclick = () => {\n",
              "        google.colab.notebook.generateWithVariable('df');\n",
              "      }\n",
              "      })();\n",
              "    </script>\n",
              "  </div>\n",
              "\n",
              "    </div>\n",
              "  </div>\n"
            ],
            "application/vnd.google.colaboratory.intrinsic+json": {
              "type": "dataframe",
              "variable_name": "df",
              "summary": "{\n  \"name\": \"df\",\n  \"rows\": 3,\n  \"fields\": [\n    {\n      \"column\": \"name\",\n      \"properties\": {\n        \"dtype\": \"string\",\n        \"num_unique_values\": 3,\n        \"samples\": [\n          \"A\",\n          \"B\",\n          \"C\"\n        ],\n        \"semantic_type\": \"\",\n        \"description\": \"\"\n      }\n    },\n    {\n      \"column\": \"age\",\n      \"properties\": {\n        \"dtype\": \"number\",\n        \"std\": 1,\n        \"min\": 25,\n        \"max\": 27,\n        \"num_unique_values\": 3,\n        \"samples\": [\n          25,\n          26,\n          27\n        ],\n        \"semantic_type\": \"\",\n        \"description\": \"\"\n      }\n    },\n    {\n      \"column\": \"city\",\n      \"properties\": {\n        \"dtype\": \"string\",\n        \"num_unique_values\": 3,\n        \"samples\": [\n          \"D\",\n          \"E\",\n          \"F\"\n        ],\n        \"semantic_type\": \"\",\n        \"description\": \"\"\n      }\n    },\n    {\n      \"column\": \"threshold\",\n      \"properties\": {\n        \"dtype\": \"number\",\n        \"std\": 0.0,\n        \"min\": 0.5,\n        \"max\": 0.5,\n        \"num_unique_values\": 1,\n        \"samples\": [\n          0.5\n        ],\n        \"semantic_type\": \"\",\n        \"description\": \"\"\n      }\n    }\n  ]\n}"
            }
          },
          "metadata": {},
          "execution_count": 23
        }
      ]
    },
    {
      "cell_type": "code",
      "source": [
        "# for loops\n",
        "# iteration : reading element after element\n",
        "\n",
        "a = [1,2,3,4,5]\n",
        "\n",
        "# i is an iterator\n",
        "# every element inside the list is an i\n",
        "# these i's are at different indexpositions\n",
        "\n",
        "# for example : 1 is \"i\" at index position 0\n",
        "# 2 is \"i\" at index position 1 and so on\n",
        "\n",
        "for i in a:\n",
        "  print(i)"
      ],
      "metadata": {
        "colab": {
          "base_uri": "https://localhost:8080/"
        },
        "id": "hXwBakTNRtNj",
        "outputId": "a9a73285-86dd-458d-ea66-113392fc6265"
      },
      "execution_count": null,
      "outputs": [
        {
          "output_type": "stream",
          "name": "stdout",
          "text": [
            "1\n",
            "2\n",
            "3\n",
            "4\n",
            "5\n"
          ]
        }
      ]
    },
    {
      "cell_type": "code",
      "source": [
        "a = [1,2,3,4,5]\n",
        "\n",
        "for i in a:\n",
        "  print(i,end=\" \")"
      ],
      "metadata": {
        "colab": {
          "base_uri": "https://localhost:8080/"
        },
        "id": "kd6TS9xzRtQf",
        "outputId": "c062414d-6402-4442-fd69-f81e5af7aae9"
      },
      "execution_count": null,
      "outputs": [
        {
          "output_type": "stream",
          "name": "stdout",
          "text": [
            "1 2 3 4 5 "
          ]
        }
      ]
    },
    {
      "cell_type": "code",
      "source": [
        "my_list = [10,20,30,40,50,60]\n",
        "\n",
        "for i in my_list[:3]: # :3 upto 3 elements ,slice 3 elements\n",
        "  print(i)"
      ],
      "metadata": {
        "colab": {
          "base_uri": "https://localhost:8080/"
        },
        "id": "cJBD0TNORtU4",
        "outputId": "a340cfd2-438c-401f-d305-9b78ae949450"
      },
      "execution_count": null,
      "outputs": [
        {
          "output_type": "stream",
          "name": "stdout",
          "text": [
            "10\n",
            "20\n",
            "30\n"
          ]
        }
      ]
    },
    {
      "cell_type": "code",
      "source": [
        "numbers = [2,4,6,8,10,12,14,16,18,20]\n",
        "\n",
        "for x in numbers:\n",
        "  print(x**2 , end= \" \")"
      ],
      "metadata": {
        "colab": {
          "base_uri": "https://localhost:8080/"
        },
        "id": "Mp2-4ppYYKij",
        "outputId": "6be4880d-6e18-4215-80d8-1cbff9890e6b"
      },
      "execution_count": null,
      "outputs": [
        {
          "output_type": "stream",
          "name": "stdout",
          "text": [
            "4 16 36 64 100 144 196 256 324 400 "
          ]
        }
      ]
    },
    {
      "cell_type": "code",
      "source": [],
      "metadata": {
        "id": "Stc_PoNkbUZw"
      },
      "execution_count": null,
      "outputs": []
    },
    {
      "cell_type": "code",
      "source": [
        "numbers = [0,1,2,3,4,5,6,8,10,12,14,16,18,20,21,22,23,24,25,26,27,28,29,30]\n",
        "\n",
        "\n",
        "# empty lists\n",
        "even_list = []\n",
        "odd_list = []\n",
        "\n",
        "for i in numbers:\n",
        "  if i%2==0: # that i is completely divisble by 2\n",
        "    even_list.append(i) #append means to add\n",
        "  else:\n",
        "    odd_list.append(i)\n",
        "\n",
        "print(\"Even numbers are: \",even_list)\n",
        "print(\"Odd numbers are: \",odd_list)\n"
      ],
      "metadata": {
        "colab": {
          "base_uri": "https://localhost:8080/"
        },
        "id": "MVUaPbnRYLMi",
        "outputId": "fb741474-b3b8-4692-b83f-03ce0dd534b8"
      },
      "execution_count": null,
      "outputs": [
        {
          "output_type": "stream",
          "name": "stdout",
          "text": [
            "Even numbers are:  [0, 2, 4, 6, 8, 10, 12, 14, 16, 18, 20, 22, 24, 26, 28, 30]\n",
            "Odd numbers are:  [1, 3, 5, 21, 23, 25, 27, 29]\n"
          ]
        }
      ]
    },
    {
      "cell_type": "code",
      "source": [],
      "metadata": {
        "id": "K72TeHpeYKmU"
      },
      "execution_count": null,
      "outputs": []
    },
    {
      "cell_type": "code",
      "source": [],
      "metadata": {
        "id": "U6LVFACMYKqp"
      },
      "execution_count": null,
      "outputs": []
    },
    {
      "cell_type": "code",
      "source": [
        "x = [1,2,3,4,5,6,7,8,9,10]\n",
        "\n",
        "for i in x:\n",
        "  print(i**2 ,end=\" \")"
      ],
      "metadata": {
        "colab": {
          "base_uri": "https://localhost:8080/"
        },
        "id": "pQcWkEVTRtYT",
        "outputId": "312d8042-6bd7-48d4-825b-28803f77d853"
      },
      "execution_count": null,
      "outputs": [
        {
          "output_type": "stream",
          "name": "stdout",
          "text": [
            "1 4 9 16 25 36 49 64 81 100 "
          ]
        }
      ]
    },
    {
      "cell_type": "code",
      "source": [
        "x = [1,2,3]\n",
        "x.append(4)\n",
        "# append means to add\n",
        "print(x)\n"
      ],
      "metadata": {
        "colab": {
          "base_uri": "https://localhost:8080/"
        },
        "id": "6svI7E8qXBNk",
        "outputId": "02f2c2d5-62fa-4ad8-d941-0302b089aa23"
      },
      "execution_count": null,
      "outputs": [
        {
          "output_type": "stream",
          "name": "stdout",
          "text": [
            "[1, 2, 3, 4]\n"
          ]
        }
      ]
    },
    {
      "cell_type": "code",
      "source": [
        "x = [1,2,3,4,5,6,7,8,9,10]\n",
        "\n",
        "even_list = [] #empty list example\n",
        "odd_list = []\n",
        "\n",
        "for i in x:\n",
        "  if i%2==0:\n",
        "    even_list.append(i)\n",
        "  else:\n",
        "    odd_list.append(i)\n",
        "\n",
        "print(\"Even numbers are: \",even_list)\n",
        "print(\"Odd numbers are: \",odd_list)"
      ],
      "metadata": {
        "colab": {
          "base_uri": "https://localhost:8080/"
        },
        "id": "F9BKIzEAWfRq",
        "outputId": "b6dd9bdc-ef14-48f9-f3af-6be2e30bc168"
      },
      "execution_count": null,
      "outputs": [
        {
          "output_type": "stream",
          "name": "stdout",
          "text": [
            "Even numbers are:  [2, 4, 6, 8, 10]\n",
            "Odd numbers are:  [1, 3, 5, 7, 9]\n"
          ]
        }
      ]
    },
    {
      "cell_type": "code",
      "source": [],
      "metadata": {
        "id": "P7XXD0q7QBSR"
      },
      "execution_count": null,
      "outputs": []
    },
    {
      "cell_type": "code",
      "source": [],
      "metadata": {
        "id": "nyLjac27RcUV"
      },
      "execution_count": null,
      "outputs": []
    },
    {
      "cell_type": "code",
      "source": [],
      "metadata": {
        "id": "N72LW2x2RcXm"
      },
      "execution_count": null,
      "outputs": []
    },
    {
      "cell_type": "markdown",
      "source": [
        "### For loops"
      ],
      "metadata": {
        "id": "TcDU3gK40dNQ"
      }
    },
    {
      "cell_type": "code",
      "source": [
        "a = [1,2,2,3,3,4]\n",
        "\n",
        "for x in a:\n",
        "  print(x,end=\" \")"
      ],
      "metadata": {
        "colab": {
          "base_uri": "https://localhost:8080/"
        },
        "id": "GozRtI0m0b9G",
        "outputId": "63f845d3-195a-469e-93a2-d55e2f0e4c6f"
      },
      "execution_count": null,
      "outputs": [
        {
          "output_type": "stream",
          "name": "stdout",
          "text": [
            "1 2 2 3 3 4 "
          ]
        }
      ]
    },
    {
      "cell_type": "code",
      "source": [
        "a = [1,2,2,3,3,4]\n",
        "\n",
        "for x in a:\n",
        "  print(x**2 , end=\" \")"
      ],
      "metadata": {
        "colab": {
          "base_uri": "https://localhost:8080/"
        },
        "id": "SmIJoPHw0b_8",
        "outputId": "8e5bab6a-63dc-44bf-aa6d-7f7f3ae95680"
      },
      "execution_count": null,
      "outputs": [
        {
          "output_type": "stream",
          "name": "stdout",
          "text": [
            "1 4 4 9 9 16 "
          ]
        }
      ]
    },
    {
      "cell_type": "code",
      "source": [
        "message = \"Hello\"\n",
        "\n",
        "for a in message:\n",
        "  print(a)"
      ],
      "metadata": {
        "colab": {
          "base_uri": "https://localhost:8080/"
        },
        "id": "Jveaqrun0cCu",
        "outputId": "aa5968c7-e485-4357-b132-e766692a6cf7"
      },
      "execution_count": null,
      "outputs": [
        {
          "output_type": "stream",
          "name": "stdout",
          "text": [
            "H\n",
            "e\n",
            "l\n",
            "l\n",
            "o\n"
          ]
        }
      ]
    },
    {
      "cell_type": "code",
      "source": [
        "scores = [85,92,78,65,90]\n",
        "\n",
        "for score in scores:\n",
        "  if score >= 90:\n",
        "    print(\"A\")\n",
        "  elif (score >= 80) and (score < 90): # between 80 and 90\n",
        "    print(\"B\")\n",
        "  elif (score >= 70) and (score < 80): # more than 70 and less than 80\n",
        "    print(\"C\")\n",
        "  else:\n",
        "    print(\"D\")"
      ],
      "metadata": {
        "colab": {
          "base_uri": "https://localhost:8080/"
        },
        "id": "A21jnFC10cWf",
        "outputId": "3af12c98-79b5-428d-afee-cea2763e86f0"
      },
      "execution_count": null,
      "outputs": [
        {
          "output_type": "stream",
          "name": "stdout",
          "text": [
            "B\n",
            "A\n",
            "C\n",
            "D\n",
            "A\n"
          ]
        }
      ]
    },
    {
      "cell_type": "code",
      "source": [
        "a = [21,243,3,52,3542,545,346,57,676,6,68,568,875,585,46,474]\n",
        "\n",
        "even_list = []\n",
        "odd_list = []\n",
        "zero_list = []\n",
        "\n",
        "for num in a:\n",
        "  if num%2==0:\n",
        "    even_list.append(num) # to append, means to JOIn\n",
        "  else:\n",
        "    odd_list.append(num)\n",
        "\n",
        "print(\"Even numbers are: \",even_list)\n",
        "print(\"Odd numbers are: \",odd_list)\n"
      ],
      "metadata": {
        "colab": {
          "base_uri": "https://localhost:8080/"
        },
        "id": "aQhwj_lo0cZI",
        "outputId": "cafaab29-0999-4824-a5f3-95b151846376"
      },
      "execution_count": null,
      "outputs": [
        {
          "output_type": "stream",
          "name": "stdout",
          "text": [
            "Even numbers are:  [52, 3542, 346, 676, 6, 68, 568, 46, 474, 0]\n",
            "Odd numbers are:  [21, 243, 3, 545, 57, 875, 585]\n"
          ]
        }
      ]
    },
    {
      "cell_type": "code",
      "source": [
        "numbers = [-9,-7,-3,2,3,4,5]\n",
        "\n",
        "pos_list = []\n",
        "neg_list = []\n",
        "\n",
        "# for variable in list\n",
        "for num in numbers:\n",
        "  if num >= 0:\n",
        "    pos_list.append(num)\n",
        "  else:\n",
        "    neg_list.append(num)\n",
        "\n",
        "print(\"Positive numbers are: \",pos_list)\n",
        "print(\"Negative numbers are: \",neg_list)"
      ],
      "metadata": {
        "colab": {
          "base_uri": "https://localhost:8080/"
        },
        "id": "T3NzsYM10ceb",
        "outputId": "45bc36f2-bfe9-4e83-ee9b-78f4428fe1c5"
      },
      "execution_count": null,
      "outputs": [
        {
          "output_type": "stream",
          "name": "stdout",
          "text": [
            "Positive numbers are:  [2, 3, 4, 5]\n",
            "Negative numbers are:  [-9, -7, -3]\n"
          ]
        }
      ]
    },
    {
      "cell_type": "code",
      "source": [],
      "metadata": {
        "id": "FzIxDH4B0cif"
      },
      "execution_count": null,
      "outputs": []
    },
    {
      "cell_type": "code",
      "source": [
        "# data structures :\n",
        "# how will structure the data such that it can be efficienlty stored. operated upon\n",
        "# retrieved effectively\n",
        "\n",
        "# lists, tuples, dictionaries, sets (least)\n",
        "\n",
        "# list : [] : mutable : the values inside list can be changed/altered/deleted/redefined\n",
        "# tuple : () :immutable : the values inside tuple CANNOT be changed/altered/deleted/redefined\n",
        "# dictionaries : {}"
      ],
      "metadata": {
        "id": "Dv-fBVQsJddK"
      },
      "execution_count": null,
      "outputs": []
    },
    {
      "cell_type": "markdown",
      "source": [],
      "metadata": {
        "id": "zUo7D_mKCt0B"
      }
    },
    {
      "cell_type": "code",
      "source": [
        "a = [1,2,3,4,5]\n",
        "\n",
        "print(a)\n",
        "print(type(a))\n",
        "\n",
        "b = ['Mumbai',23,565.76,True,'Delhi'] #work with multiple datatypes\n",
        "\n",
        "print(b)\n",
        "print(type(b))"
      ],
      "metadata": {
        "id": "_V11tgI6_22k"
      },
      "execution_count": null,
      "outputs": []
    },
    {
      "cell_type": "code",
      "source": [
        "# indexes/ index positions\n",
        "# in python, index position starts at 0 : 0,1,2,3,4\n",
        "\n",
        "a = [12,23,34,35,34]\n",
        "\n",
        "print(a)\n",
        "print(type(a))\n",
        "print(a[2])\n",
        "\n",
        "# if you want to reference any value , you use []"
      ],
      "metadata": {
        "id": "cAH8GoLlDRCX"
      },
      "execution_count": null,
      "outputs": []
    },
    {
      "cell_type": "code",
      "source": [
        "# list functions\n",
        "# nature of lists in detail\n",
        "\n",
        "# appending\n",
        "a  = [12,23,34,54,43]\n",
        "\n",
        "a.append(\"India\")\n",
        "\n",
        "print(a)\n",
        "\n",
        "print(\"----------------------------------------------------------------\")\n",
        "\n",
        "# accessing the elements in the list\n",
        "a  = [12,23,34,54,43]\n",
        "\n",
        "print(a[4])\n",
        "\n",
        "print(\"----------------------------------------------------------------\")\n",
        "\n",
        "# finding the index of an item/object/value\n",
        "a  = [12,23,34,54,43]\n",
        "b = a.index(34)\n",
        "print(b)\n",
        "\n",
        "print(\"----------------------------------------------------------------\")\n",
        "\n",
        "# sort and reverse\n"
      ],
      "metadata": {
        "id": "aEvB6t6eEkQN"
      },
      "execution_count": null,
      "outputs": []
    },
    {
      "cell_type": "code",
      "source": [
        "a  = [12,23,34,54,43]\n",
        "\n",
        "a[3] = 45\n",
        "\n",
        "print(a)\n",
        "# lists are mutable\n"
      ],
      "metadata": {
        "id": "71pgW63iD3tc"
      },
      "execution_count": null,
      "outputs": []
    },
    {
      "cell_type": "code",
      "source": [
        "# reversing the list\n",
        "a = [12,234,34,523,5]\n",
        "\n",
        "a.reverse()\n",
        "\n",
        "print(a)\n"
      ],
      "metadata": {
        "id": "qxYLC24OK1nX"
      },
      "execution_count": null,
      "outputs": []
    },
    {
      "cell_type": "code",
      "source": [
        "# sorting the list\n",
        "a = [12,234,34,523,5,234,52,523,32,9]\n",
        "\n",
        "a.sort()\n",
        "\n",
        "print(a)\n"
      ],
      "metadata": {
        "id": "V1ITPK4_K1qr"
      },
      "execution_count": null,
      "outputs": []
    },
    {
      "cell_type": "code",
      "source": [
        "a = [12,234,34,523,5,234,52,523,32,9]\n",
        "\n",
        "a.sort(reverse = True) # sorting in descending order\n",
        "\n",
        "print(a)\n"
      ],
      "metadata": {
        "id": "dxCAkCJ1K1tc"
      },
      "execution_count": null,
      "outputs": []
    },
    {
      "cell_type": "code",
      "source": [
        "my_list = [21,423,524,34,645,76,8] #original list\n",
        "\n",
        "print(\"Original list:\",my_list)\n",
        "\n",
        "desc_sorted_list = sorted(my_list, reverse = True) # new sorted list\n",
        "# for ascending : desc_sorted_list = sorted(my_list)\n",
        "\n",
        "print(\"Sorted list:\",desc_sorted_list)\n"
      ],
      "metadata": {
        "id": "ja_RHmigLvTY"
      },
      "execution_count": null,
      "outputs": []
    },
    {
      "cell_type": "code",
      "source": [
        "# tuple\n",
        "\n",
        "stocks = (23,234,5423,52352.4324,2342,4324,423)\n",
        "# accessing the index position in tuple works\n",
        "print(stocks[4])"
      ],
      "metadata": {
        "id": "0_upbUwRNuZd"
      },
      "execution_count": null,
      "outputs": []
    },
    {
      "cell_type": "code",
      "source": [
        "stocks = (23,234,5423,52352.4324,2342,4324,423)\n",
        "\n",
        "stocks.append(12)\n",
        "\n",
        "# immutability"
      ],
      "metadata": {
        "id": "2r5fZHolNucY"
      },
      "execution_count": null,
      "outputs": []
    },
    {
      "cell_type": "code",
      "source": [
        "# dictionaries {}\n",
        "# key-value pair\n",
        "# key : column names : sales,profit,revenue\n",
        "# values : records :\n",
        "\n",
        "# dictionary = {'key':'value'}\n",
        "\n",
        "# 2D data : rows & cols : data stored inside dictionary\n",
        "\n",
        "stock_price = {'A': 45, 'B':46, 'C':47}\n",
        "\n",
        "print(stock_price)\n",
        "\n",
        "print(type(stock_price))\n"
      ],
      "metadata": {
        "id": "4ovUX4ppLvWL"
      },
      "execution_count": null,
      "outputs": []
    },
    {
      "cell_type": "code",
      "source": [
        "# in order to define multiple values in the dict\n",
        "# define : inside a list or a tuple\n",
        "# list\n",
        "# threshold : tuple\n",
        "\n",
        "stock_price = {\"Asian paints\" : [12,421,432,5523,4],\n",
        "               \"Godrej\": [34,24,234,34,324,2],\n",
        "               \"Yipee\":[234,423,52,523,52,3]\n",
        "               }\n",
        "\n",
        "print(stock_price)\n",
        "\n",
        "print(type(stock_price))\n",
        "\n",
        "print(stock_price.keys())\n",
        "print(stock_price.values())\n",
        "\n",
        "first_key = next(iter(stock_price))\n",
        "\n",
        "print(first_key)"
      ],
      "metadata": {
        "id": "ypEkKl73PfUP"
      },
      "execution_count": null,
      "outputs": []
    },
    {
      "cell_type": "code",
      "source": [
        "my_list = [12,2,3]\n",
        "# next-iter function\n",
        "iterator = iter(my_list)\n",
        "print(next(iterator))\n",
        "print(next(iterator))\n",
        "print(next(iterator))\n"
      ],
      "metadata": {
        "id": "u6D17QOUPfXI"
      },
      "execution_count": null,
      "outputs": []
    },
    {
      "cell_type": "code",
      "source": [
        "# conversion of list to tuple and tuple to list\n",
        "tuple_a = (12,3,2,32,4)\n",
        "print(tuple_a)\n",
        "list_a = list(tuple_a)\n",
        "print(list_a)\n",
        "list_a[3] = 64\n",
        "print(list_a)\n",
        "tuple_b = tuple(list_a)\n",
        "print(tuple_b)"
      ],
      "metadata": {
        "id": "nxwC7qtdVbU7"
      },
      "execution_count": null,
      "outputs": []
    },
    {
      "cell_type": "code",
      "source": [
        "\n",
        "# for loops\n",
        "\n",
        "fruits = ['apple', 'melon', 'banana', 'orange']\n",
        "\n",
        "for a in fruits:\n",
        "  print(a)"
      ],
      "metadata": {
        "id": "gGb127cAVbYO"
      },
      "execution_count": null,
      "outputs": []
    },
    {
      "cell_type": "code",
      "source": [
        "fruits = ['apple', 'melon', 'banana', 'orange']\n",
        "\n",
        "for a in fruits:\n",
        "  print(a, end=' ')"
      ],
      "metadata": {
        "id": "ubmxwgQwVU8c"
      },
      "execution_count": null,
      "outputs": []
    },
    {
      "cell_type": "code",
      "source": [
        "numbers = [1,2,3,4,5,6,7,8,9]\n",
        "\n",
        "for nums in numbers:\n",
        "  if nums%2 == 0:\n",
        "    print(f\"{nums} is even\") # f string # f\"{}\"\n",
        "  else:\n",
        "    print(f\"{nums} is odd\")"
      ],
      "metadata": {
        "id": "l2BL0rICVVAJ"
      },
      "execution_count": null,
      "outputs": []
    },
    {
      "cell_type": "code",
      "source": [
        "# mounting code :\n",
        "from google.colab import drive\n",
        "drive.mount('/content/drive')"
      ],
      "metadata": {
        "id": "vlkBCqd0v7pc"
      },
      "execution_count": null,
      "outputs": []
    },
    {
      "cell_type": "code",
      "source": [
        "import pandas as pd\n",
        "import numpy as np"
      ],
      "metadata": {
        "id": "r9_LJQIgD8ZN"
      },
      "execution_count": null,
      "outputs": []
    },
    {
      "cell_type": "code",
      "source": [
        "df = pd.read_csv(r'/content/vgsales.csv') #(r'file_path')\n",
        "# pd.read_excel()\n",
        "\n",
        "df.head() #print the 1st five records in the dataset\n",
        "\n",
        "# df.head(10)"
      ],
      "metadata": {
        "id": "3Sm18Jcgv7so"
      },
      "execution_count": null,
      "outputs": []
    },
    {
      "cell_type": "code",
      "source": [
        "print(\"The dimensions of this dataset are:\",df.shape)"
      ],
      "metadata": {
        "id": "Oex7k_XhGgM4"
      },
      "execution_count": null,
      "outputs": []
    },
    {
      "cell_type": "code",
      "source": [
        "type(df)"
      ],
      "metadata": {
        "id": "DobYJ83wGgQL"
      },
      "execution_count": null,
      "outputs": []
    },
    {
      "cell_type": "code",
      "source": [
        "print(\"Columns in the dataset are: \")\n",
        "df.columns"
      ],
      "metadata": {
        "id": "CoYUfGBsGgS_"
      },
      "execution_count": null,
      "outputs": []
    },
    {
      "cell_type": "code",
      "source": [
        "df.info()"
      ],
      "metadata": {
        "id": "FN4RksE1GgWP"
      },
      "execution_count": null,
      "outputs": []
    },
    {
      "cell_type": "code",
      "source": [
        "total_rows = df.shape[0]\n",
        "print(total_rows)"
      ],
      "metadata": {
        "id": "eb2sWpIhGgcC"
      },
      "execution_count": null,
      "outputs": []
    },
    {
      "cell_type": "code",
      "source": [
        "missing_data = df.isnull().sum()\n",
        "missing_data"
      ],
      "metadata": {
        "id": "KK662s7TKnNP"
      },
      "execution_count": null,
      "outputs": []
    },
    {
      "cell_type": "code",
      "source": [
        "df.head()"
      ],
      "metadata": {
        "id": "MJgRyClcKnQQ"
      },
      "execution_count": null,
      "outputs": []
    },
    {
      "cell_type": "code",
      "source": [
        "cols_to_analyse = df[['Year', 'Genre', 'Publisher', 'NA_Sales','EU_Sales']]\n",
        "# extract a subset of columns from all the columns in the dataframe\n",
        "cols_to_analyse.head()"
      ],
      "metadata": {
        "id": "6XHdrnSwKnYK"
      },
      "execution_count": null,
      "outputs": []
    },
    {
      "cell_type": "code",
      "source": [
        "df.describe()\n",
        "\n",
        "# Descriptive statistics for numerical columns"
      ],
      "metadata": {
        "id": "j5KEATWmNlBJ"
      },
      "execution_count": null,
      "outputs": []
    },
    {
      "cell_type": "code",
      "source": [
        "df.select_dtypes(include='object').head()"
      ],
      "metadata": {
        "id": "VJNtZoWDOL5N"
      },
      "execution_count": null,
      "outputs": []
    },
    {
      "cell_type": "code",
      "source": [
        "df.select_dtypes(include='number').head()"
      ],
      "metadata": {
        "id": "p9okpyzrOL8L"
      },
      "execution_count": null,
      "outputs": []
    },
    {
      "cell_type": "code",
      "source": [
        "df.columns"
      ],
      "metadata": {
        "id": "tolfY9sKOL-x"
      },
      "execution_count": null,
      "outputs": []
    },
    {
      "cell_type": "code",
      "source": [
        "# percentge for valuecounts\n",
        "perc_platform_valuecounts = (df['Platform'].value_counts())/(total_rows) * 100\n",
        "perc_platform_valuecounts"
      ],
      "metadata": {
        "id": "jl1huVbOSBB_"
      },
      "execution_count": null,
      "outputs": []
    },
    {
      "cell_type": "code",
      "source": [
        "df.head()"
      ],
      "metadata": {
        "id": "LA7W-c-MOMB7"
      },
      "execution_count": null,
      "outputs": []
    },
    {
      "cell_type": "code",
      "source": [
        "df.head()"
      ],
      "metadata": {
        "id": "HIKXzM7SKncJ"
      },
      "execution_count": null,
      "outputs": []
    },
    {
      "cell_type": "code",
      "source": [
        "# create the copy of df\n",
        "\n",
        "df_copy = df.copy()\n",
        "\n",
        "df_copy.head()"
      ],
      "metadata": {
        "id": "Wd5aFSuIW_tQ"
      },
      "execution_count": null,
      "outputs": []
    },
    {
      "cell_type": "code",
      "source": [
        "df_copy.drop('Platform',axis=1, inplace = True)\n",
        "# for columns, axis = 1 and for rows axis =0\n",
        "df_copy.head()"
      ],
      "metadata": {
        "id": "6QNdZyFAW_wk"
      },
      "execution_count": null,
      "outputs": []
    },
    {
      "cell_type": "code",
      "source": [
        "df_copy.drop(columns = ['Year', 'Genre', 'Publisher'],\n",
        "             axis=1,\n",
        "             inplace = True)\n",
        "# for columns, axis = 1 and for rows axis =0\n",
        "df_copy.head()"
      ],
      "metadata": {
        "id": "cNo-uVCpX938"
      },
      "execution_count": null,
      "outputs": []
    },
    {
      "cell_type": "code",
      "source": [
        "df_copy.columns"
      ],
      "metadata": {
        "id": "wNBjntDYX967"
      },
      "execution_count": null,
      "outputs": []
    },
    {
      "cell_type": "code",
      "source": [
        "df['Genre'].unique()"
      ],
      "metadata": {
        "id": "TFvEIUh1ZUNv"
      },
      "execution_count": null,
      "outputs": []
    },
    {
      "cell_type": "code",
      "source": [
        "df['Genre'].nunique()"
      ],
      "metadata": {
        "id": "2Oiz2dnWZURZ"
      },
      "execution_count": null,
      "outputs": []
    },
    {
      "cell_type": "code",
      "source": [
        "df.head()"
      ],
      "metadata": {
        "id": "dkUAz6NRZUUt"
      },
      "execution_count": null,
      "outputs": []
    },
    {
      "cell_type": "code",
      "source": [
        "# iloc\n",
        "# loc"
      ],
      "metadata": {
        "id": "kQoHrf4fbKrC"
      },
      "execution_count": null,
      "outputs": []
    },
    {
      "cell_type": "code",
      "source": [
        "df.iloc[1:7]\n",
        "# subset operations\n",
        "# iloc : starts at the user defined starting index position and ends at indexposition - 1"
      ],
      "metadata": {
        "id": "Mc4wFyy-bKvK"
      },
      "execution_count": null,
      "outputs": []
    },
    {
      "cell_type": "code",
      "source": [
        "df.iloc[2:7]"
      ],
      "metadata": {
        "id": "yEmQrlJvbKzV"
      },
      "execution_count": null,
      "outputs": []
    },
    {
      "cell_type": "code",
      "source": [],
      "metadata": {
        "id": "FNHaVo-SdKAS"
      },
      "execution_count": null,
      "outputs": []
    },
    {
      "cell_type": "code",
      "source": [
        "# loc\n",
        "\n",
        "df.loc[0:7]"
      ],
      "metadata": {
        "id": "TEH7kjllbK28"
      },
      "execution_count": null,
      "outputs": []
    },
    {
      "cell_type": "code",
      "source": [
        "pyg_subset = df.iloc[:,2:5] #2,3,4\n",
        "pyg_subset\n",
        "\n",
        "# df.iloc[rows,columns]\n",
        "# : -> *\n",
        "# : -> select all rows/columns"
      ],
      "metadata": {
        "id": "zzx3L5TkbK6U"
      },
      "execution_count": null,
      "outputs": []
    },
    {
      "cell_type": "code",
      "source": [
        "pyg_subset = df.iloc[:,2:5] #2,3,4\n",
        "pyg_subset.to_csv('pyg_subset.csv') # export the records to csv file\n",
        "# to_excel('filename.xlsx')"
      ],
      "metadata": {
        "id": "EygdnN3agYhZ"
      },
      "execution_count": null,
      "outputs": []
    },
    {
      "cell_type": "markdown",
      "source": [],
      "metadata": {
        "id": "fmB3Fhnchw1V"
      }
    },
    {
      "cell_type": "code",
      "source": [
        "df.iloc[10:1001,1:6]"
      ],
      "metadata": {
        "id": "6EBtVJ51flg9"
      },
      "execution_count": null,
      "outputs": []
    },
    {
      "cell_type": "code",
      "source": [
        "j = [12,13,14,15,16]\n",
        "\n",
        "for i in enumerate(j):\n",
        "  print(i)\n",
        "\n",
        "# enumerate : (index,item) pair"
      ],
      "metadata": {
        "id": "91l6AVXQeE6r"
      },
      "execution_count": null,
      "outputs": []
    },
    {
      "cell_type": "code",
      "source": [
        "cols = df.columns\n",
        "\n",
        "for i in enumerate(cols):\n",
        "  print(i)"
      ],
      "metadata": {
        "id": "KfJJk7tBX999"
      },
      "execution_count": null,
      "outputs": []
    },
    {
      "cell_type": "code",
      "source": [],
      "metadata": {
        "id": "IIFGP-y0d2iq"
      },
      "execution_count": null,
      "outputs": []
    },
    {
      "cell_type": "markdown",
      "source": [],
      "metadata": {
        "id": "874aOdtqXgOJ"
      }
    },
    {
      "cell_type": "code",
      "source": [],
      "metadata": {
        "id": "o_se-24PKnhl"
      },
      "execution_count": null,
      "outputs": []
    },
    {
      "cell_type": "code",
      "source": [],
      "metadata": {
        "id": "W8lI1BjrGgeu"
      },
      "execution_count": null,
      "outputs": []
    },
    {
      "cell_type": "code",
      "source": [
        "# functions\n",
        "\n",
        "# blocks of reusable code\n",
        "\n",
        "# def\n",
        "\n",
        "# defining the function\n",
        "#def func_name(parameters/inputs):\n",
        "  return output\n",
        "\n",
        "#calling the function : execution purpose\n",
        "func_name(arguments)\n",
        "\n"
      ],
      "metadata": {
        "id": "5bS3ufTtVVEc"
      },
      "execution_count": null,
      "outputs": []
    },
    {
      "cell_type": "code",
      "source": [
        "def add_2_numbers(x,y):\n",
        "  return x+y\n",
        "\n",
        "add_2_numbers(10,20)\n"
      ],
      "metadata": {
        "colab": {
          "base_uri": "https://localhost:8080/"
        },
        "id": "C5G9lUZw-k7Z",
        "outputId": "e8d5af88-89cf-459a-b11f-af4f09107c12"
      },
      "execution_count": null,
      "outputs": [
        {
          "output_type": "execute_result",
          "data": {
            "text/plain": [
              "30"
            ]
          },
          "metadata": {},
          "execution_count": 113
        }
      ]
    },
    {
      "cell_type": "code",
      "source": [],
      "metadata": {
        "id": "1OGg-mQr-lZv"
      },
      "execution_count": null,
      "outputs": []
    },
    {
      "cell_type": "code",
      "source": [],
      "metadata": {
        "id": "bhBzi9Gk-lcg"
      },
      "execution_count": null,
      "outputs": []
    },
    {
      "cell_type": "code",
      "source": [],
      "metadata": {
        "id": "p48hXBPv-lge"
      },
      "execution_count": null,
      "outputs": []
    },
    {
      "cell_type": "code",
      "source": [
        "# add 2 numbers\n",
        "\n",
        "def add_nums(x,y):\n",
        "\n",
        "  return x+y\n",
        "\n",
        "add_nums(17,18)"
      ],
      "metadata": {
        "id": "LSA7ST3ufbfF"
      },
      "execution_count": null,
      "outputs": []
    },
    {
      "cell_type": "code",
      "source": [
        "def min_max(numbers):\n",
        "  return min(numbers), max(numbers)\n",
        "\n",
        "low,high = min_max([12,3,435,35,52,4])\n",
        "\n",
        "print(\"Lowest number is:\", low, \"and\", \"highest number is:\", high)\n"
      ],
      "metadata": {
        "id": "oBlB9V1MPfZt"
      },
      "execution_count": null,
      "outputs": []
    },
    {
      "cell_type": "code",
      "source": [
        "def max_ab(a,b):\n",
        "  \"\"\"This function returns the maximum of two numbers\"\"\" #docstring\n",
        "  if a>b:\n",
        "    return a\n",
        "  else:\n",
        "    return b\n",
        "\n",
        "max_ab(11,111)\n"
      ],
      "metadata": {
        "id": "7_OCir6Ohlp7",
        "colab": {
          "base_uri": "https://localhost:8080/"
        },
        "outputId": "dbae4c36-3b0e-4a44-d254-7c8470f751be"
      },
      "execution_count": null,
      "outputs": [
        {
          "output_type": "execute_result",
          "data": {
            "text/plain": [
              "111"
            ]
          },
          "metadata": {},
          "execution_count": 116
        }
      ]
    },
    {
      "cell_type": "code",
      "source": [
        "def even_odd(number):\n",
        "  '''this function performs even odd operation'''\n",
        "  if number%2 == 0:\n",
        "    return \"even\"\n",
        "  else:\n",
        "    return \"odd\"\n",
        "\n",
        "even_odd(12)"
      ],
      "metadata": {
        "id": "PA2EHJIxhlsm"
      },
      "execution_count": null,
      "outputs": []
    },
    {
      "cell_type": "code",
      "source": [
        "def calculate_discount(price,is_member):\n",
        "  '''this functions performs member-discount calculation'''\n",
        "  if is_member:\n",
        "    return c\n",
        "  else:\n",
        "    return price\n",
        "\n",
        "calculate_discount(1000,False)\n",
        "#calculate_discount(5000,True)\n"
      ],
      "metadata": {
        "id": "nIwSCf3SoS5h"
      },
      "execution_count": null,
      "outputs": []
    },
    {
      "cell_type": "code",
      "source": [],
      "metadata": {
        "id": "DQKQIV-VoS8G"
      },
      "execution_count": null,
      "outputs": []
    },
    {
      "cell_type": "code",
      "source": [],
      "metadata": {
        "id": "j2cR4JNihlwy"
      },
      "execution_count": null,
      "outputs": []
    },
    {
      "cell_type": "code",
      "source": [
        "# tuples\n",
        "a = (23,343,42,52)\n",
        "print(a)\n",
        "print(type(a))\n",
        "\n",
        "\n",
        "b = ('Mumbai',23,565.76,True,'Delhi') #work with multiple datatypes\n",
        "\n",
        "print(b)\n",
        "print(type(b))"
      ],
      "metadata": {
        "id": "xfXKvPiN_Ktc"
      },
      "execution_count": null,
      "outputs": []
    },
    {
      "cell_type": "code",
      "source": [],
      "metadata": {
        "id": "CC9nc0r1Cghy"
      },
      "execution_count": null,
      "outputs": []
    },
    {
      "cell_type": "code",
      "source": [],
      "metadata": {
        "id": "3xMc4n0d_Kwq"
      },
      "execution_count": null,
      "outputs": []
    },
    {
      "cell_type": "code",
      "source": [],
      "metadata": {
        "id": "3lJrdNYcdggs"
      },
      "execution_count": null,
      "outputs": []
    },
    {
      "cell_type": "code",
      "source": [],
      "metadata": {
        "id": "d4AkkdYTdgj3"
      },
      "execution_count": null,
      "outputs": []
    },
    {
      "cell_type": "code",
      "source": [],
      "metadata": {
        "id": "nq_Mzp_kdgnK"
      },
      "execution_count": null,
      "outputs": []
    },
    {
      "cell_type": "code",
      "source": [],
      "metadata": {
        "id": "6JaoDVe6dgpS"
      },
      "execution_count": null,
      "outputs": []
    },
    {
      "cell_type": "code",
      "source": [],
      "metadata": {
        "id": "-ENb7YnxHvQX"
      },
      "execution_count": null,
      "outputs": []
    }
  ]
}