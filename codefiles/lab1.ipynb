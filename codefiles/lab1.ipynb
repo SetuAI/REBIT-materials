{
 "cells": [
  {
   "cell_type": "code",
   "execution_count": 1,
   "metadata": {},
   "outputs": [
    {
     "name": "stdout",
     "output_type": "stream",
     "text": [
      "API key looks good so far .. \n"
     ]
    }
   ],
   "source": [
    "# load environment vars in .env   \n",
    "import os\n",
    "from dotenv import load_dotenv\n",
    "load_dotenv()\n",
    "import openai\n",
    "\n",
    "# pip install -r requirements.txt\n",
    "\n",
    "api_key = os.getenv('OPENAI_API_KEY')   \n",
    "openai.api_key = api_key  # Set the API key directly\n",
    "\n",
    "# check the key   \n",
    "if not api_key:     \n",
    "    print(\"No API key was found !!\")\n",
    "elif api_key[:8] != 'sk-proj-':     \n",
    "    print(\"API key was found but just check if it is the right one...\")\n",
    "elif api_key.strip() != api_key:     \n",
    "    print(\"Found API key, but it looks it might some space or tab characters\")\n",
    "else:     \n",
    "    print(\"API key looks good so far .. \")"
   ]
  },
  {
   "cell_type": "code",
   "execution_count": 2,
   "metadata": {},
   "outputs": [],
   "source": [
    "## make a simple API call using chat completions endpoint\n",
    "## if succesful prints the output, if not catches the error."
   ]
  },
  {
   "cell_type": "code",
   "execution_count": null,
   "metadata": {},
   "outputs": [
    {
     "name": "stdout",
     "output_type": "stream",
     "text": [
      "API Response: OpenAI API is working!\n",
      "Test successful! Your OpenAI connection is working.\n"
     ]
    }
   ],
   "source": [
    "try:\n",
    "    # starts chat completion request\n",
    "    # API's reponse gets stored in the response variable\n",
    "    response = openai.chat.completions.create(\n",
    "        model=\"gpt-3.5-turbo\",\n",
    "        messages=[\n",
    "            {\"role\": \"user\", \n",
    "             \n",
    "             \"content\": \"Hello, this is a test message.Please respond with: 'OpenAI API is working!'\"}\n",
    "        ]\n",
    "    )\n",
    "    print(\"API Response:\", response.choices[0].message.content)\n",
    "    print(\"Test successful! Your OpenAI connection is working.\")\n",
    "except Exception as e:\n",
    "    print(\"An error occurred:\", str(e))\n",
    "    \n",
    "\n",
    "# response.choices : contains array of choices from the API\n",
    "# choices[0] : gets first choice from the array, and usually the only choice\n",
    "# message.content : actual text content of the response"
   ]
  },
  {
   "cell_type": "code",
   "execution_count": null,
   "metadata": {},
   "outputs": [],
   "source": [
    "# class to represent webpage\n",
    "# to look at any webpage on the internet, scrape the contents and summarize it\n",
    "\n",
    "import requests\n",
    "from bs4 import BeautifulSoup\n",
    "\n",
    "class Website:\n",
    "    \"\"\"\n",
    "    A utility class to represent a website that we have scraped\n",
    "    \"\"\"\n",
    "    \n",
    "    url:str # stores website url\n",
    "    title:str # stores website title\n",
    "    text:str # store webpage's main text content\n",
    "    \n",
    "    def __init__(self,url): # constructor takes url parameter\n",
    "        \n",
    "        '''\n",
    "        Create this website object from the given url using Beautiful Soup\n",
    "        '''\n",
    "        self.url = url \n",
    "        response = requests.get(url) # make HTTP GET request to fetch webpage content of the url\n",
    "        soup = BeautifulSoup(response.content, 'html.parser')\n",
    "        # creates beautiful soup object to parse HTML content, easy to navigate the HTML structure\n",
    "        self.title = soup.title.string if soup.title else \"No title\"\n",
    "        # soup.title finds the <title> tag\n",
    "        # .string gets its text content\n",
    "        # If there's no title, defaults to \"No title\"\n",
    "        \n",
    "        for irrelevant in soup.body([\"script\",\"img\",\"input\"]):\n",
    "            irrelevant.decompose()\n",
    "        self.text = soup.body.get_text(strip=True)\n",
    "        \n",
    "        \n",
    "        # Cleans up the HTML by removing irrelevant elements:\n",
    "        # Finds all script, img, and input tags in the body\n",
    "        # and removes them from the HTML\n",
    "        # decompose() removes them from the parsed HTML\n",
    "        # This helps get cleaner text content\n",
    "        # soup.body gets the body tag\n",
    "        # get_text() extracts all text from the body\n",
    "        # strip=True removes extra whitespace\n",
    "\n"
   ]
  },
  {
   "cell_type": "code",
   "execution_count": 15,
   "metadata": {},
   "outputs": [
    {
     "name": "stdout",
     "output_type": "stream",
     "text": [
      "Y Combinator\n",
      "Home | Reserve Bank Information Technology Private Limited (ReBIT)\n",
      "AboutWhat Happens at YC?ApplyYC Interview GuideFAQPeopleYC BlogCompaniesStartup DirectoryFounder DirectoryLaunch YCStartup JobsAll Jobs◦ Engineering◦ Operations◦ Marketing◦ SalesPioneer Internship Program 2024Startup Job GuideCareer CoachingYC Startup Jobs BlogFind a Co-FounderLibrarySAFEResourcesStartup SchoolNewsletterFor InvestorsHacker NewsBookfaceOpen main menuApply forW2025batch.ApplyY CombinatorMake something people want.Apply to YC5,000funded startups$600Bcombined valuationTop YC companies+We help foundersmake something people want and the results speak for themselves.We help founders at their earliest stages regardless of their age.We improve the success rate of our startups.We give startups a huge fundraising advantage.Our companies have a track record of becoming billion dollar companies.Our formula forsuccess.YC isrun by startup founderswho have built exactly what they wanted when starting and growing a startup.The most experienced partnersEach founder is assigned a dedicated group partner who has mentored hundreds of YC companies. They have more data on what it takes to build a successful startup than any other early stage startup advisor. These group partners read applications, interview companies, and mentor startups throughout the batch. You can access them in person, over email, and on Slack.Investor networkYC companies have raised $85 billion dollars from the best investors in the world. Our founders have access to the YC Investor Database which has profiles and reviews for more than 50,000 startup investors.Private social network only for foundersYC founders get to benefit from the collective wisdom of over 9000 YC alumni. They can access these alums through Bookface, our private social network. We have a forum for asking questions to the community, a founder directory for finding specific people who can provide advice and intros, and a company directory for finding potential customers.Exclusive dealsYC founders have access to over 1000 deals from leading software companies. Every YC company gets free credits or significant discounts on hosting, banking, cap table management, back office, and much more. Companies report these deals to be worth in excess of $500,000.The best written adviceYC founders get to benefit from our collective experience funding 5000 companies across almost 20 years. We have extensive documentation for common questions about fundraising, go to market, sales, product market fit, mental health, hiring, and much more.Networks to build your teamThroughWork at a StartupandHN, we help our founders hire the small number of early engineers and other team members critical to finding product market fit. At any given time there are 150,000+ candidates searching for jobs at early stage YC companies.We putfounders' interestsfirst.We don’t take a board seat.We don’t demand 20% of your company.We don’t take weeks/months to decide to invest.We don’t charge fees.We don’t require decks, business plans, or MBAs.We don't tell you what to do. We only offer advice.Is YC Worth 7%?Learn moreabout evaluating equity.Hear more from the community.\"Y Combinator is the best program for creating top-end entrepreneurs that has ever existed.\"Marc Andreessen,General Partner, Andreessen Horowitz\"Y Combinator is the best startup accelerator in the world. YC helps their companies a lot, and the YC community is a huge asset for the companies that go through the program.\"Ron Conway,Founder, SV Angel\"At YC, we were challenged to do things that don't scale – to start with the perfect experience for one person, then work backwards and scale it to 100 people who love us. This was the best piece of advice we've ever received.\"Brian Chesky,Founder, Airbnb (YC W09)\"I doubt that Stripe would have worked without YC. It's that simple. Acquiring early customers, figuring out who to hire, closing deals with banks, raising money – YC's partners were closely involved and crucially helpful.\"Patrick Collison,Founder, Stripe (YC S09)Want to learn more?YC LibraryVideos, podcasts, and essays for startup foundersNewsletterKeep up with the latest news, launches, jobs, and events from the YC communityLaunch YCDiscover new YC companies and productsWork at a StartupFind your next role at a YC startupBlogEssays, events, and announcements from YCCo-Founder MatchingMeet a potential co-founder to start a startup withFooterY CombinatorProgramsYC ProgramStartup SchoolWork at a StartupCo-Founder MatchingCompanyYC BlogContactPressPeopleCareersPrivacy PolicyNotice at CollectionSecurityTerms of UseResourcesStartup DirectoryStartup LibraryInvestorsSAFEHacker NewsLaunch YCYC DealsMake something people want.ApplyTwitterTwitterFacebookFacebookInstagramInstagramLinkedInLinkedInYoutubeYouTube© 2024 Y Combinator\n"
     ]
    }
   ],
   "source": [
    "# test case 1\n",
    "ed = Website(\"https://www.ycombinator.com/\")\n",
    "print(ed.title)\n",
    "\n",
    "# test case 2\n",
    "xy = Website(\"https://rebit.org.in/\")\n",
    "print(xy.title)\n",
    "\n",
    "# extract text\n",
    "\n",
    "print(ed.text)\n",
    "\n",
    "# you can also extract small subset ed.text[0:100]"
   ]
  },
  {
   "cell_type": "markdown",
   "metadata": {},
   "source": [
    "#### Types of prompts\n",
    "\n",
    "1. system prompt : that tells them what task they are performing and what tone they should use\n",
    "\n",
    "2. user prompt : the conversation starter that they should reply to"
   ]
  },
  {
   "cell_type": "code",
   "execution_count": 16,
   "metadata": {},
   "outputs": [],
   "source": [
    "# Define our system prompt - you can experiment with this later, changing the last sentence to 'Respond in markdown in Spanish.\"\n",
    "\n",
    "system_prompt = \"You are an assistant that analyzes the contents of a website \\\n",
    "and provides a short summary, ignoring text that might be navigation related. \\\n",
    "Respond in markdown.\""
   ]
  },
  {
   "cell_type": "code",
   "execution_count": null,
   "metadata": {},
   "outputs": [],
   "source": [
    "# A function that writes a User Prompt that asks for summaries of websites:\n",
    "\n",
    "def user_prompt_for(website):\n",
    "    user_prompt = f\" You are looking at a website titled {website.title}\"\n",
    "    user_prompt += \"\\n The contents of this website is as follows; \\\n",
    "please provide a short summary of this website in markdown. \\\n",
    "If it includes news or announcements, then summarize these too.\\n\\n\"\n",
    "    user_prompt += website.text\n",
    "    return user_prompt\n",
    "\n",
    "# function take website parameter presumably an instance of the Website class \n",
    "# Creates the first line of the prompt using an f-string to insert the website's title\n",
    "# \\ at line ends allows the string to continue on next line in the code\n",
    "# Asks for a summary in markdown format\n",
    "# Specifically requests news/announcements to be included\n",
    "# Adds newlines (\\n\\n) for formatting\n",
    "\n",
    "\n",
    "# user_prompt += website.text \n",
    "# Adds the actual website content (that was scraped earlier) to the prompt.\n",
    "\n",
    "# "
   ]
  },
  {
   "cell_type": "code",
   "execution_count": 25,
   "metadata": {},
   "outputs": [
    {
     "data": {
      "text/plain": [
       "'You are an assistant that analyzes the contents of a website and provides a short summary, ignoring text that might be navigation related. Respond in markdown.'"
      ]
     },
     "execution_count": 25,
     "metadata": {},
     "output_type": "execute_result"
    }
   ],
   "source": [
    "system_prompt"
   ]
  },
  {
   "cell_type": "code",
   "execution_count": 26,
   "metadata": {},
   "outputs": [
    {
     "name": "stdout",
     "output_type": "stream",
     "text": [
      " You are looking at a website titled Y Combinator\n",
      " The contents of this website is as follows; please provide a short summary of this website in markdown. If it includes news or announcements, then summarize these too.\n",
      "\n",
      "AboutWhat Happens at YC?ApplyYC Interview GuideFAQPeopleYC BlogCompaniesStartup DirectoryFounder DirectoryLaunch YCStartup JobsAll Jobs◦ Engineering◦ Operations◦ Marketing◦ SalesPioneer Internship Program 2024Startup Job GuideCareer CoachingYC Startup Jobs BlogFind a Co-FounderLibrarySAFEResourcesStartup SchoolNewsletterFor InvestorsHacker NewsBookfaceOpen main menuApply forW2025batch.ApplyY CombinatorMake something people want.Apply to YC5,000funded startups$600Bcombined valuationTop YC companies+We help foundersmake something people want and the results speak for themselves.We help founders at their earliest stages regardless of their age.We improve the success rate of our startups.We give startups a huge fundraising advantage.Our companies have a track record of becoming billion dollar companies.Our formula forsuccess.YC isrun by startup founderswho have built exactly what they wanted when starting and growing a startup.The most experienced partnersEach founder is assigned a dedicated group partner who has mentored hundreds of YC companies. They have more data on what it takes to build a successful startup than any other early stage startup advisor. These group partners read applications, interview companies, and mentor startups throughout the batch. You can access them in person, over email, and on Slack.Investor networkYC companies have raised $85 billion dollars from the best investors in the world. Our founders have access to the YC Investor Database which has profiles and reviews for more than 50,000 startup investors.Private social network only for foundersYC founders get to benefit from the collective wisdom of over 9000 YC alumni. They can access these alums through Bookface, our private social network. We have a forum for asking questions to the community, a founder directory for finding specific people who can provide advice and intros, and a company directory for finding potential customers.Exclusive dealsYC founders have access to over 1000 deals from leading software companies. Every YC company gets free credits or significant discounts on hosting, banking, cap table management, back office, and much more. Companies report these deals to be worth in excess of $500,000.The best written adviceYC founders get to benefit from our collective experience funding 5000 companies across almost 20 years. We have extensive documentation for common questions about fundraising, go to market, sales, product market fit, mental health, hiring, and much more.Networks to build your teamThroughWork at a StartupandHN, we help our founders hire the small number of early engineers and other team members critical to finding product market fit. At any given time there are 150,000+ candidates searching for jobs at early stage YC companies.We putfounders' interestsfirst.We don’t take a board seat.We don’t demand 20% of your company.We don’t take weeks/months to decide to invest.We don’t charge fees.We don’t require decks, business plans, or MBAs.We don't tell you what to do. We only offer advice.Is YC Worth 7%?Learn moreabout evaluating equity.Hear more from the community.\"Y Combinator is the best program for creating top-end entrepreneurs that has ever existed.\"Marc Andreessen,General Partner, Andreessen Horowitz\"Y Combinator is the best startup accelerator in the world. YC helps their companies a lot, and the YC community is a huge asset for the companies that go through the program.\"Ron Conway,Founder, SV Angel\"At YC, we were challenged to do things that don't scale – to start with the perfect experience for one person, then work backwards and scale it to 100 people who love us. This was the best piece of advice we've ever received.\"Brian Chesky,Founder, Airbnb (YC W09)\"I doubt that Stripe would have worked without YC. It's that simple. Acquiring early customers, figuring out who to hire, closing deals with banks, raising money – YC's partners were closely involved and crucially helpful.\"Patrick Collison,Founder, Stripe (YC S09)Want to learn more?YC LibraryVideos, podcasts, and essays for startup foundersNewsletterKeep up with the latest news, launches, jobs, and events from the YC communityLaunch YCDiscover new YC companies and productsWork at a StartupFind your next role at a YC startupBlogEssays, events, and announcements from YCCo-Founder MatchingMeet a potential co-founder to start a startup withFooterY CombinatorProgramsYC ProgramStartup SchoolWork at a StartupCo-Founder MatchingCompanyYC BlogContactPressPeopleCareersPrivacy PolicyNotice at CollectionSecurityTerms of UseResourcesStartup DirectoryStartup LibraryInvestorsSAFEHacker NewsLaunch YCYC DealsMake something people want.ApplyTwitterTwitterFacebookFacebookInstagramInstagramLinkedInLinkedInYoutubeYouTube© 2024 Y Combinator\n"
     ]
    }
   ],
   "source": [
    "print(user_prompt_for(ed))"
   ]
  },
  {
   "cell_type": "code",
   "execution_count": 28,
   "metadata": {},
   "outputs": [
    {
     "name": "stdout",
     "output_type": "stream",
     "text": [
      " You are looking at a website titled Home | Reserve Bank Information Technology Private Limited (ReBIT)\n",
      " The contents of this website is as follows; please provide a short summary of this website in markdown. If it includes news or announcements, then summarize these too.\n",
      "\n",
      "HomeWho we areInsightsEventsHackathon 2024WebinarsBusiness Leaders' ForumLearning SeriesWorkshopsJoin UsPowering India’s Central BankingWe build and run enterprise software technology that powers the Reserve Bank of IndiaKNOW MOREReassuring, Redefining and ResilientServing since 2016, Reserve Bank Information Technology Pvt. Ltd.\n",
      "                  (ReBIT) is RBI’s subsidiary for  Enterprise Technology and Allied Services. Our visionary leadership and dynamic employee base fuel our work in building world-class enterprise applications and nextgen security.Project ManagementFrom Business Analysis to Performance Engineering, from AI/ML to Big Data, ReBIT's Project Management vertical drives excellence in enterprise application development, implementation and support for the RBI.Systems AuditAs the System Audit Partner for RBI, we perform risk-based supervision of regulated entities with security audits and incident analysis. We also perform leading-edge research and set the standards with digital forensic and cyber fraud analysis.Cyber SecurityPrepare, Prevent, Detect and Protect is our mantra. Our Security Risk Advisory and GRC focus help us overcome the cyber resiliency challenges of the banking ecosystem. We design nextgen application, endpoint and SOC solutions for India’s Central Bank.LEARN MOREBe the best you canReBIT offers talented, passionate technology professionals a unique opportunity to build an exciting career in tech and make an impact with India’s central bankers. You will build and run world-class, enterprise-level software solutions. You will learn from, work alongside, and grow with skilled professionals with diverse experiences. So, discover how you can make a difference and unleash your potentialJOIN USWhat’s happening!A roundup of the events that make us a great place to work, and thoughts from our leaders.EventsHackathon 3.0In a world, where innovation has become the driving force of impact, the RBI-ReBIT Hackathon 2023 emerged as a chance for participating teams to join forces and push the boundaries of what's possible. A moment of pride, a celebration of teamwork and great ideas that garnered accolades.Read moreEventsReBIT’s Foundation Day 2023Together, we’ve pushed boundaries, embraced challenges, and created impactful solutions that have built a legacy of innovation and excellence. Here’s to celebrating seven years of inspiring success and growth and even greater achievements together!Read moreEventsReBIT Premier League (RPL)The dust has settled but the memories of our ReBIT Premier League still linger. Over the course of two weeks, RPL saw the participation of 21 teams competing for the trophy. From stunning sixes to incredible catches, every moment was a testament to the passion and talent of our teams.Read moreReserve Bank Information Technology Private Limited (ReBIT) has been set up by the Reserve Bank of India to serve its IT and cybersecurity needs and to improve the cyber resilience of the Indian banking industry.Office LocationsNavi Mumbai502, Building No 1, Mindspace Juinagar, Nerul, Navi Mumbai, Maharashtra 400706022 5023 3100Bengaluru7th Floor, Kirloskar Tech Park, Godrej Woodsman Estate, Hebbal Kempapura, Bengaluru, Karnataka 5600247th Floor, Commerce Mantri, 12, 1 & 2, Bannerghatta Rd, BTM 2nd Stage, BTM Layout, Bengaluru, Karnataka 560076Quick LinksWho We AreJoin UsLeadershipInsightsNewsletterProcurementCopyrightPrivacyNBFC - AA Specifications© ReBIT. All rights reserved\n"
     ]
    }
   ],
   "source": [
    "website = Website(\"https://rebit.org.in/\")\n",
    "prompt = user_prompt_for(website)\n",
    "print(prompt)"
   ]
  },
  {
   "cell_type": "markdown",
   "metadata": {},
   "source": [
    "### Messages : \n",
    "\n"
   ]
  },
  {
   "cell_type": "markdown",
   "metadata": {},
   "source": [
    "The API from OpenAI expects to receive messages in a particular structure. Many of the other APIs share this structure:\n",
    "\n",
    "[\n",
    "    {\"role\": \"system\", \"content\": \"system message goes here\"},\n",
    "    {\"role\": \"user\", \"content\": \"user message goes here\"}\n",
    "]"
   ]
  },
  {
   "cell_type": "code",
   "execution_count": null,
   "metadata": {},
   "outputs": [],
   "source": [
    "# system prompt is telling the AI system, how it should behave"
   ]
  },
  {
   "cell_type": "code",
   "execution_count": 29,
   "metadata": {},
   "outputs": [],
   "source": [
    "# See how this function creates exactly the format above\n",
    "\n",
    "def messages_for(website):\n",
    "    return [\n",
    "        {\"role\": \"system\", \"content\": system_prompt},\n",
    "        {\"role\": \"user\", \"content\": user_prompt_for(website)}\n",
    "    ]"
   ]
  },
  {
   "cell_type": "code",
   "execution_count": 30,
   "metadata": {},
   "outputs": [
    {
     "data": {
      "text/plain": [
       "[{'role': 'system',\n",
       "  'content': 'You are an assistant that analyzes the contents of a website and provides a short summary, ignoring text that might be navigation related. Respond in markdown.'},\n",
       " {'role': 'user',\n",
       "  'content': ' You are looking at a website titled Y Combinator\\n The contents of this website is as follows; please provide a short summary of this website in markdown. If it includes news or announcements, then summarize these too.\\n\\nAboutWhat Happens at YC?ApplyYC Interview GuideFAQPeopleYC BlogCompaniesStartup DirectoryFounder DirectoryLaunch YCStartup JobsAll Jobs◦ Engineering◦ Operations◦ Marketing◦ SalesPioneer Internship Program 2024Startup Job GuideCareer CoachingYC Startup Jobs BlogFind a Co-FounderLibrarySAFEResourcesStartup SchoolNewsletterFor InvestorsHacker NewsBookfaceOpen main menuApply forW2025batch.ApplyY CombinatorMake something people want.Apply to YC5,000funded startups$600Bcombined valuationTop YC companies+We help foundersmake something people want and the results speak for themselves.We help founders at their earliest stages regardless of their age.We improve the success rate of our startups.We give startups a huge fundraising advantage.Our companies have a track record of becoming billion dollar companies.Our formula forsuccess.YC isrun by startup founderswho have built exactly what they wanted when starting and growing a startup.The most experienced partnersEach founder is assigned a dedicated group partner who has mentored hundreds of YC companies. They have more data on what it takes to build a successful startup than any other early stage startup advisor. These group partners read applications, interview companies, and mentor startups throughout the batch. You can access them in person, over email, and on Slack.Investor networkYC companies have raised $85 billion dollars from the best investors in the world. Our founders have access to the YC Investor Database which has profiles and reviews for more than 50,000 startup investors.Private social network only for foundersYC founders get to benefit from the collective wisdom of over 9000 YC alumni. They can access these alums through Bookface, our private social network. We have a forum for asking questions to the community, a founder directory for finding specific people who can provide advice and intros, and a company directory for finding potential customers.Exclusive dealsYC founders have access to over 1000 deals from leading software companies. Every YC company gets free credits or significant discounts on hosting, banking, cap table management, back office, and much more. Companies report these deals to be worth in excess of $500,000.The best written adviceYC founders get to benefit from our collective experience funding 5000 companies across almost 20 years. We have extensive documentation for common questions about fundraising, go to market, sales, product market fit, mental health, hiring, and much more.Networks to build your teamThroughWork at a StartupandHN, we help our founders hire the small number of early engineers and other team members critical to finding product market fit. At any given time there are 150,000+ candidates searching for jobs at early stage YC companies.We putfounders\\' interestsfirst.We don’t take a board seat.We don’t demand 20% of your company.We don’t take weeks/months to decide to invest.We don’t charge fees.We don’t require decks, business plans, or MBAs.We don\\'t tell you what to do. We only offer advice.Is YC Worth 7%?Learn moreabout evaluating equity.Hear more from the community.\"Y Combinator is the best program for creating top-end entrepreneurs that has ever existed.\"Marc Andreessen,General Partner, Andreessen Horowitz\"Y Combinator is the best startup accelerator in the world. YC helps their companies a lot, and the YC community is a huge asset for the companies that go through the program.\"Ron Conway,Founder, SV Angel\"At YC, we were challenged to do things that don\\'t scale – to start with the perfect experience for one person, then work backwards and scale it to 100 people who love us. This was the best piece of advice we\\'ve ever received.\"Brian Chesky,Founder, Airbnb (YC W09)\"I doubt that Stripe would have worked without YC. It\\'s that simple. Acquiring early customers, figuring out who to hire, closing deals with banks, raising money – YC\\'s partners were closely involved and crucially helpful.\"Patrick Collison,Founder, Stripe (YC S09)Want to learn more?YC LibraryVideos, podcasts, and essays for startup foundersNewsletterKeep up with the latest news, launches, jobs, and events from the YC communityLaunch YCDiscover new YC companies and productsWork at a StartupFind your next role at a YC startupBlogEssays, events, and announcements from YCCo-Founder MatchingMeet a potential co-founder to start a startup withFooterY CombinatorProgramsYC ProgramStartup SchoolWork at a StartupCo-Founder MatchingCompanyYC BlogContactPressPeopleCareersPrivacy PolicyNotice at CollectionSecurityTerms of UseResourcesStartup DirectoryStartup LibraryInvestorsSAFEHacker NewsLaunch YCYC DealsMake something people want.ApplyTwitterTwitterFacebookFacebookInstagramInstagramLinkedInLinkedInYoutubeYouTube© 2024 Y Combinator'}]"
      ]
     },
     "execution_count": 30,
     "metadata": {},
     "output_type": "execute_result"
    }
   ],
   "source": [
    "# Try this out, and then try for a few more websites\n",
    "\n",
    "messages_for(ed)"
   ]
  },
  {
   "cell_type": "markdown",
   "metadata": {},
   "source": [
    "#### Working with Open AI API"
   ]
  },
  {
   "cell_type": "code",
   "execution_count": null,
   "metadata": {},
   "outputs": [],
   "source": [
    "\n",
    "def summarize(url):\n",
    "    website = Website(url) # creates a Website object from the given URL\n",
    "    \n",
    "    # This part makes a request to OpenAI's API\n",
    "    response = openai.chat.completions.create(\n",
    "        model = \"gpt-4o-mini\",\n",
    "        messages = messages_for(website)\n",
    "        # messages_for(website) :  uses a function called messages_for to format the website content\n",
    "        # into messages\n",
    "    )\n",
    "    return response.choices[0].message.content\n",
    "\n"
   ]
  },
  {
   "cell_type": "code",
   "execution_count": null,
   "metadata": {},
   "outputs": [
    {
     "data": {
      "text/plain": [
       "\"# Y Combinator Overview\\n\\nY Combinator (YC) is a leading startup accelerator that supports early-stage entrepreneurs in building successful companies. The platform aids founders regardless of their experience or age and boasts a history of funding over 5,000 startups with a combined valuation of $600 billion.\\n\\n## Key Features\\n\\n- **Mentorship**: Each startup is paired with experienced partners who provide tailored guidance throughout the acceleration process.\\n- **Investor Access**: YC companies have raised $85 billion from top investors and benefit from an extensive investor database.\\n- **Exclusive Network**: Founders gain access to a private social network of over 9,000 YC alumni for advice and support.\\n- **Resource-rich Environment**: Founders receive significant discounts on software and services, as well as extensive documentation covering critical startup challenges.\\n\\n## Unique Approach\\n\\nYC prioritizes founder interests by not taking board seats, charging fees, or imposing extensive requirements for investment. The program emphasizes giving practical advice instead of rigid directives.\\n\\n## Community Testimonials\\n\\nNotable entrepreneurs have credited YC as instrumental in their success, highlighting the program's guidance and supportive community.\\n\\n## Additional Resources\\n\\n- **Blog**: Offers essays, events, and announcements from YC.\\n- **Newsletter**: Keeps subscribers updated on the latest from the YC community.\\n- **Startup School**: An initiative providing resources to aspiring entrepreneurs.\\n\\nOverall, Y Combinator is positioned as a premier resource for startup founders seeking to innovate and grow their businesses effectively.\""
      ]
     },
     "execution_count": 33,
     "metadata": {},
     "output_type": "execute_result"
    }
   ],
   "source": [
    "summarize(\"https://www.ycombinator.com/\")\n",
    "\n",
    "# here is the summary "
   ]
  },
  {
   "cell_type": "code",
   "execution_count": null,
   "metadata": {},
   "outputs": [],
   "source": [
    "# A function to display this nicely in the Jupyter output, using markdown\n",
    "\n",
    "from IPython.display import display, Markdown\n",
    "\n",
    "def display_summary(url): \n",
    "    summary = summarize(url) # calls the summarize function here\n",
    "    display(Markdown(summary))\n"
   ]
  },
  {
   "cell_type": "code",
   "execution_count": null,
   "metadata": {},
   "outputs": [
    {
     "data": {
      "text/markdown": [
       "# Y Combinator Summary\n",
       "\n",
       "Y Combinator (YC) is a leading startup accelerator that supports early-stage companies through funding, mentorship, and resources. Founded to help entrepreneurs \"make something people want,\" YC has funded over 5,000 startups, achieving a combined valuation of $600 billion. \n",
       "\n",
       "## Key Features:\n",
       "- **Mentorship**: Each founder is paired with a dedicated partner experienced in building startups. This partner provides personalized guidance and support throughout the YC program.\n",
       "- **Investor Network**: YC companies have raised $85 billion from top investors globally, with access to a comprehensive database of over 50,000 startup investors.\n",
       "- **Alumni Community**: Founders benefit from a private social network (Bookface), which connects them to more than 9,000 YC alumni for advice and introductions.\n",
       "- **Exclusive Deals**: Founders receive significant discounts and credits from leading software companies, valued at over $500,000.\n",
       "- **Documentation and Guidance**: Extensive resources cover a range of topics relevant to startups, including fundraising, product market fit, and hiring.\n",
       "\n",
       "## Application Process:\n",
       "Y Combinator accepts applications for its batches, with no requirement for business plans or fees. The program takes only a small equity stake (7%) in exchange for its support.\n",
       "\n",
       "## Testimonials:\n",
       "Prominent entrepreneurs like Brian Chesky (Airbnb) and Patrick Collison (Stripe) have credited YC with pivotal support in their early stages, highlighting its role in navigating challenges and building successful companies.\n",
       "\n",
       "## Additional Resources:\n",
       "The YC website offers various resources, including a library of videos and essays for startup founders, a newsletter for community updates, and opportunities for job matching within YC-backed companies.\n",
       "\n",
       "For further details, visit the Y Combinator website and explore its programs, application guide, and community insights."
      ],
      "text/plain": [
       "<IPython.core.display.Markdown object>"
      ]
     },
     "metadata": {},
     "output_type": "display_data"
    }
   ],
   "source": [
    "display_summary(\"https://www.ycombinator.com/\")\n",
    "\n",
    "# you can check this for other websites as well"
   ]
  },
  {
   "cell_type": "code",
   "execution_count": 39,
   "metadata": {},
   "outputs": [
    {
     "data": {
      "text/markdown": [
       "# Summary of the Reserve Bank Information Technology Private Limited (ReBIT) Website\n",
       "\n",
       "Reserve Bank Information Technology Private Limited (ReBIT) is a subsidiary of the Reserve Bank of India established in 2016 to cater to the IT and cybersecurity requirements of the RBI, enhancing the cyber resilience of the Indian banking ecosystem. The organization focuses on enterprise technology and allied services, specializing in project management, systems audit, and cybersecurity.\n",
       "\n",
       "### Key Offerings:\n",
       "- **Project Management**: Expertise in enterprise application development, AI/ML, and Big Data.\n",
       "- **Systems Audit**: Conducts security audits and risk-based supervision of regulated entities, alongside cutting-edge research in digital forensic and cyber fraud analysis.\n",
       "- **Cybersecurity**: Implements proactive security measures through risk advisory and governance to strengthen the banking sector's cybersecurity framework.\n",
       "\n",
       "### Career Opportunities:\n",
       "ReBIT provides opportunities for technology professionals to grow their careers while contributing to India's central banking initiatives.\n",
       "\n",
       "### Recent Events:\n",
       "- **Hackathon 3.0**: A collaborative event celebrating innovation and teamwork among participating teams.\n",
       "- **Foundation Day 2023**: Marked the seventh anniversary of ReBIT, reflecting on its legacy of innovation and success.\n",
       "- **ReBIT Premier League (RPL)**: A sports event highlighting team spirit and talent within the organization.\n",
       "\n",
       "The company emphasizes creating impactful technology solutions while nurturing a dynamic work environment for its employees."
      ],
      "text/plain": [
       "<IPython.core.display.Markdown object>"
      ]
     },
     "metadata": {},
     "output_type": "display_data"
    }
   ],
   "source": [
    "display_summary(\"https://rebit.org.in/\")"
   ]
  },
  {
   "cell_type": "code",
   "execution_count": null,
   "metadata": {},
   "outputs": [],
   "source": []
  },
  {
   "cell_type": "markdown",
   "metadata": {},
   "source": [
    "### Ollama\n",
    "\n",
    "Recap on installation of Ollama\n",
    "Simply visit ollama.com and install!\n",
    "\n",
    "Once complete, the ollama server should already be running locally.\n",
    "If you visit:\n",
    "http://localhost:11434/\n",
    "\n",
    "You should see the message Ollama is running."
   ]
  },
  {
   "cell_type": "markdown",
   "metadata": {},
   "source": [
    "###  \n",
    "\n",
    "Benefits:\n",
    "\n",
    "No API charges - open-source\n",
    "Data doesn't leave your box (everything happens locally)\n",
    "\n",
    "Disadvantages: Significantly less power than Frontier Model"
   ]
  },
  {
   "cell_type": "code",
   "execution_count": null,
   "metadata": {},
   "outputs": [],
   "source": [
    "# Constants\n",
    "\n",
    "OLLAMA_API = \"http://localhost:11434/api/chat\" \n",
    "# API endpoint for your local Ollama server\n",
    "\n",
    "\n",
    "HEADERS = {\"Content-Type\": \"application/json\"}\n",
    "# Defines constant called HEADERS\n",
    "#  Content-Type is a common header that tells the recipient what format the body of the message is in (e.g., application/json, text/html, image/jpeg).\n",
    "#  header specifically tells the Ollama server that the request body (the actual data being sent) is in JSON format. \n",
    "\n",
    "MODEL = \"qwen2.5:0.5b\" # this model has to be installed locally"
   ]
  },
  {
   "cell_type": "code",
   "execution_count": null,
   "metadata": {},
   "outputs": [],
   "source": [
    "# Create a messages list using the same format that we used for OpenAI\n",
    "\n",
    "messages = [\n",
    "    {\"role\": \"user\", \n",
    "     \n",
    "     \"content\": \"Describe some of the business applications of Generative AI\"}\n",
    "]"
   ]
  },
  {
   "cell_type": "code",
   "execution_count": null,
   "metadata": {},
   "outputs": [],
   "source": [
    "payload = {\n",
    "        \"model\": MODEL,\n",
    "        \"messages\": messages,\n",
    "        \"stream\": False\n",
    "    }"
   ]
  },
  {
   "cell_type": "markdown",
   "metadata": {},
   "source": [
    "### Understanding : \n",
    "\n",
    "messages = [...]: This creates a list called messages. This list is crucial for specifying the conversation or interaction with the LLM. Each item in this list is a dictionary representing a message in the conversation. The key \"role\" indicates who sent the message (\"user\" in this case), and the \"content\" key holds the actual message text.\n",
    "\n",
    "{\"role\": \"user\", \"content\": \"Describe some of the business applications of Generative AI\"}: This is the single message in the messages list. It instructs the LLM to \"Describe some of the business applications of Generative AI.\" This is the prompt or question you're asking the model. The \"user\" role indicates that this is a user request.\n",
    "\n",
    "payload = { ... }: This creates a dictionary called payload. This dictionary will be sent as the body of the HTTP request to the LLM server. The payload holds the necessary information for the LLM to respond appropriately.\n",
    "\n",
    "\"model\": MODEL: This part of the payload specifies the model to use for generating the response. MODEL is likely a variable previously defined, containing the name of the specific language model (e.g., \"qwen2.5:0.5b\").\n",
    "\n",
    "\"messages\": messages: This is a critical part! It specifies the conversation history (or in this case, just the single prompt/question) to pass to the model. The model can use this conversation history to provide coherent and contextually relevant responses.\n",
    "\n",
    "\"stream\": False: This parameter controls whether the response is streamed. stream=False means the entire response will be returned at once in a single response. A stream=True option would provide responses incrementally as the model generates them."
   ]
  },
  {
   "cell_type": "code",
   "execution_count": null,
   "metadata": {},
   "outputs": [
    {
     "name": "stdout",
     "output_type": "stream",
     "text": [
      "Generative artificial intelligence (GAN) is a type of deep learning model designed to generate synthetic data or images that closely mimic real-world objects or scenes. It's particularly useful for generating art, video art, and other forms of visual content, as well as for automating certain tasks in fields like image processing and computer vision.\n",
      "\n",
      "Here are some examples of how GAN is applied in various industries:\n",
      "\n",
      "1. **Image Generation**: Many image generation applications use GANs to create images from scratch or to improve existing images by adjusting parameters such as rotation, scale, or color adjustments.\n",
      "2. **Video Generation**: GANs can be used for generating videos by creating video sequences that are inspired by the original footage and then feeding them through a training loop.\n",
      "3. **Audio Generation**: For audio generation tasks like speech synthesis, speech-to-text systems often use generative models to generate natural-sounding speech.\n",
      "4. **Product Design**: GANs can be used in product design applications where they simulate how products might look from different angles or with different perspectives.\n",
      "5. **Aesthetic Analysis and Art Production**: GANs are utilized for analyzing images of art and identifying visual elements that might not be visible directly, such as shadows or details.\n",
      "6. **Real-World Data Generation**: GANs can generate synthetic data to test the effectiveness of AI systems in generating new real-world data or actions.\n",
      "7. **Computer-Aided Design (CAD)**: In CAD applications, GANs are used to simulate material properties and surface finishes based on existing 3D models.\n",
      "8. **Personalized Content**: GANs can be utilized to generate personalized content for individuals by analyzing their preferences and generating content that is tailored to each user’s tastes.\n",
      "\n",
      "GANs offer significant advantages over traditional methods due to their ability to learn from data, making them well-suited for scenarios involving creativity and innovation. However, they also have limitations and are often not suitable for tasks requiring highly specific or abstract qualities. For instance, GANs can generate realistic images but may struggle with more intricate or nuanced visuals.\n",
      "\n",
      "Overall, GANs offer a powerful tool in the field of AI, providing creative alternatives to traditional machine learning approaches and potentially revolutionizing various industries that rely on data-driven decision-making processes.\n"
     ]
    }
   ],
   "source": [
    "response = requests.post(OLLAMA_API, \n",
    "                         json=payload,\n",
    "                         headers=HEADERS)\n",
    "\n",
    "\n",
    "print(response.json()['message']['content'])"
   ]
  },
  {
   "cell_type": "markdown",
   "metadata": {},
   "source": [
    "#### Understanding : \n",
    "\n",
    "response = requests.post(OLLAMA_API, json=payload, headers=HEADERS): This line uses the requests library to send a POST request. Let's dissect the parts:\n",
    "\n",
    "requests.post(...): This is the function call to initiate the POST request.\n",
    "\n",
    "OLLAMA_API: This variable holds the URL of the Ollama API endpoint (e.g., http://localhost:11434/api/chat).\n",
    "\n",
    "json=payload: This crucial part tells the requests library to include the payload dictionary as the JSON body of the request. This is how the prompt and other necessary information are transmitted to the model.\n",
    "\n",
    "headers=HEADERS: This provides the HTTP headers, including Content-Type: application/json. This is essential for the server to correctly interpret the request.\n",
    "\n",
    "print(response.json()['message']['content']): This line handles the response from the Ollama server:\n",
    "\n",
    "response.json(): This parses the JSON response from the server into a Python dictionary. This assumes that the server sends back a JSON response containing the model's output.\n",
    "\n",
    "['message']['content']: This extracts the specific part of the response that contains the generated text. This assumes that the server responds with a structured JSON response."
   ]
  },
  {
   "cell_type": "markdown",
   "metadata": {},
   "source": [
    "####\n",
    "\n",
    "The above was done by hitting the api calls \n",
    "\n",
    "but ollama also has python package which makes it much simpler\n"
   ]
  },
  {
   "cell_type": "code",
   "execution_count": null,
   "metadata": {},
   "outputs": [],
   "source": []
  },
  {
   "cell_type": "code",
   "execution_count": null,
   "metadata": {},
   "outputs": [
    {
     "name": "stdout",
     "output_type": "stream",
     "text": [
      "Generative AI, or GAN (generate and generate), is an area of research where computers simulate natural language generation using machine learning algorithms. It has many real-world applications in areas such as image and speech recognition, text summarization, natural language processing, and even gaming applications.\n",
      "\n",
      "GANs can be applied to various tasks that require language understanding, such as automatic speech recognition (ASR), automatic summarization, or generating coherent paragraphs based on the input text. These applications include:\n",
      "\n",
      "1. **Automatic Speech Recognition (ASR) and Automatic Summarization**: GAN models are well-suited for ASR due to their ability to generate natural-sounding speech by combining text with audio data. They can automatically recognize words and phrases in speech, even when they are not written out clearly.\n",
      "\n",
      "2. **Text Summarization**: This involves the generation of a concise summary of a larger text, often used in literature reviews or news articles where one wants to convey the main points while reducing the length of the text.\n",
      "\n",
      "3. **Automatic Generation for Games and Movies**: GANs can be trained on large datasets and then used to generate new content that meets certain criteria such as coherence, context, or aesthetics.\n",
      "\n",
      "4. **Natural Language Processing (NLP) Applications**: In NLP, GAN models are used to create summaries of text or paragraphs automatically, helping human users understand complex information more easily.\n",
      "\n",
      "5. **Interactive Dialogue Systems**: GANs can simulate natural language generation in a more interactive way by allowing the user to input their own words and the model generates responses based on those inputs.\n",
      "\n",
      "6. **Visual Generation**: GAN models are capable of generating images or visual content, which is useful for creative applications like painting or art.\n",
      "\n",
      "7. **Sentiment Analysis**: GANs can be used to generate text that expresses opinions or sentiments based on user input, making it easier to analyze public sentiment in a more natural way than traditional methods.\n",
      "\n",
      "8. **Virtual Assistants and Personal Assistants**: GAN models are commonly used by companies like Amazon, Google, and Microsoft to create virtual assistants with speech capabilities.\n",
      "\n",
      "9. **Content Generation for News Feeds**: GANs can be trained on large datasets of text and then used to generate content relevant to the user's interests or preferences in a way that is similar to human-written content.\n",
      "\n",
      "10. **Medical Image Analysis**: GAN models are being explored for medical applications like image segmentation, where they can analyze images and automatically identify different parts of the body without manual labeling.\n",
      "\n",
      "11. **Legal Research**: GANs can be trained on large datasets of legal documents and then used to generate summaries or full texts related to specific cases or laws.\n",
      "\n",
      "12. **Ethical Applications**: While not immediately practical, some research is being done into how GANs could potentially address ethical questions in areas like self-driving cars, where the decision-making process might be influenced by AI algorithms.\n",
      "\n",
      "Each of these applications demonstrates the versatility and potential of Generative AI, as it can generate high-quality text that is coherent and natural-sounding, making it suitable for a wide range of tasks.\n"
     ]
    }
   ],
   "source": [
    "import ollama       # pip install ollama\n",
    "\n",
    "response = ollama.chat(model=MODEL, messages=messages)\n",
    "print(response['message']['content'])\n",
    "\n",
    "\n",
    "# The code sends a request to the local Ollama server to generate text based on a conversation history (messages)\n",
    "# It specifies the model to use and expects the response in a format with a specific structure. "
   ]
  },
  {
   "cell_type": "markdown",
   "metadata": {},
   "source": [
    "#### Understanding : \n",
    "\n",
    "\n",
    "import ollama: This line is like saying, \"Let's get the friend program (Ollama) ready to help.\" You need to install this program in your computer first.\n",
    "\n",
    "response = ollama.chat(model=MODEL, messages=messages): This is like giving instructions to your friend:\n",
    "\n",
    "model=MODEL: This tells your friend, \"Use this specific kind of brain (the model) to think about what I'm asking.\" The MODEL is a special setting that identifies a specific way of thinking your friend can use.\n",
    "\n",
    "messages=messages: This is a list of things you've already said to your friend, and their responses. For example, you might have said, \"Tell me a joke.\" and then your friend responded with \"Why don't scientists trust atoms?\" The program keeps track of the conversation. Crucially, your friend can use this conversation history (the messages) to give more relevant and context-rich answers. The messages variable is a list of information, each piece being a dictionary with 'role' and 'content'. For example, [{'role': 'user', 'content': 'Tell me a joke'}] is a single message from the user, asking for a joke.\n",
    "\n",
    "print(response['message']['content']): This line is like listening to your friend's reply:\n",
    "\n",
    "response: This is like a box that contains your friend's reply (the answer to your prompt).\n",
    "\n",
    "['message']['content']: This is like finding the actual joke inside the box. This part assumes the reply comes in a specific format (a dictionary with a 'message' key containing another dictionary with a 'content' key). You need to check that your friend (Ollama) gives you the information in this particular structure, or your code will give an error."
   ]
  },
  {
   "cell_type": "code",
   "execution_count": null,
   "metadata": {},
   "outputs": [],
   "source": []
  },
  {
   "cell_type": "code",
   "execution_count": null,
   "metadata": {},
   "outputs": [],
   "source": []
  },
  {
   "cell_type": "code",
   "execution_count": null,
   "metadata": {},
   "outputs": [],
   "source": []
  },
  {
   "cell_type": "code",
   "execution_count": null,
   "metadata": {},
   "outputs": [],
   "source": []
  },
  {
   "cell_type": "code",
   "execution_count": null,
   "metadata": {},
   "outputs": [],
   "source": []
  },
  {
   "cell_type": "code",
   "execution_count": null,
   "metadata": {},
   "outputs": [],
   "source": []
  },
  {
   "cell_type": "code",
   "execution_count": null,
   "metadata": {},
   "outputs": [],
   "source": []
  },
  {
   "cell_type": "code",
   "execution_count": null,
   "metadata": {},
   "outputs": [],
   "source": []
  },
  {
   "cell_type": "code",
   "execution_count": null,
   "metadata": {},
   "outputs": [],
   "source": []
  },
  {
   "cell_type": "code",
   "execution_count": null,
   "metadata": {},
   "outputs": [],
   "source": []
  }
 ],
 "metadata": {
  "kernelspec": {
   "display_name": "Python 3",
   "language": "python",
   "name": "python3"
  },
  "language_info": {
   "codemirror_mode": {
    "name": "ipython",
    "version": 3
   },
   "file_extension": ".py",
   "mimetype": "text/x-python",
   "name": "python",
   "nbconvert_exporter": "python",
   "pygments_lexer": "ipython3",
   "version": "3.11.9"
  }
 },
 "nbformat": 4,
 "nbformat_minor": 2
}
